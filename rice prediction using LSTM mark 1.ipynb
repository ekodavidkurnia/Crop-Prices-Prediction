{
  "nbformat": 4,
  "nbformat_minor": 0,
  "metadata": {
    "colab": {
      "name": "nyoba beras.ipynb",
      "provenance": [],
      "collapsed_sections": []
    },
    "kernelspec": {
      "name": "python3",
      "display_name": "Python 3"
    },
    "language_info": {
      "name": "python"
    },
    "accelerator": "GPU"
  },
  "cells": [
    {
      "cell_type": "code",
      "metadata": {
        "id": "ASpGaYqd64gj"
      },
      "source": [
        "import numpy as np\n",
        "import tensorflow as tf\n",
        "from tensorflow import keras\n",
        "import pandas as pd\n",
        "import seaborn as sns\n",
        "from pylab import rcParams\n",
        "import matplotlib.pyplot as plt\n",
        "from matplotlib import rc\n",
        "\n",
        "%matplotlib inline"
      ],
      "execution_count": 1,
      "outputs": []
    },
    {
      "cell_type": "code",
      "metadata": {
        "colab": {
          "base_uri": "https://localhost:8080/",
          "height": 287
        },
        "id": "kYIzQoMhFPdS",
        "outputId": "f06944b8-77d6-482c-f57c-9628bb9bad15"
      },
      "source": [
        "data = pd.read_csv('/content/sample_data/dataset pangan.csv')\n",
        "\n",
        "data.tail()"
      ],
      "execution_count": 51,
      "outputs": [
        {
          "output_type": "execute_result",
          "data": {
            "text/html": [
              "<div>\n",
              "<style scoped>\n",
              "    .dataframe tbody tr th:only-of-type {\n",
              "        vertical-align: middle;\n",
              "    }\n",
              "\n",
              "    .dataframe tbody tr th {\n",
              "        vertical-align: top;\n",
              "    }\n",
              "\n",
              "    .dataframe thead th {\n",
              "        text-align: right;\n",
              "    }\n",
              "</style>\n",
              "<table border=\"1\" class=\"dataframe\">\n",
              "  <thead>\n",
              "    <tr style=\"text-align: right;\">\n",
              "      <th></th>\n",
              "      <th>Tanggal</th>\n",
              "      <th>Beras</th>\n",
              "      <th>Beras Kualitas Bawah I (kg)</th>\n",
              "      <th>Beras Kualitas Bawah II (kg)</th>\n",
              "      <th>Beras Kualitas Medium I (kg)</th>\n",
              "      <th>Beras Kualitas Medium II (kg)</th>\n",
              "      <th>Beras Kualitas Super I (kg)</th>\n",
              "      <th>Beras Kualitas Super II (kg)</th>\n",
              "      <th>Bawang Merah</th>\n",
              "      <th>Bawang Merah Ukuran Sedang (kg)</th>\n",
              "      <th>Bawang Putih</th>\n",
              "      <th>Bawang Putih Ukuran Sedang (kg)</th>\n",
              "      <th>Cabai Merah</th>\n",
              "      <th>Cabai Merah Besar (kg)</th>\n",
              "      <th>Cabai Merah Keriting  (kg)</th>\n",
              "      <th>Cabai Rawit</th>\n",
              "      <th>Cabai Rawit Hijau (kg)</th>\n",
              "      <th>Cabai Rawit Merah (kg)</th>\n",
              "    </tr>\n",
              "  </thead>\n",
              "  <tbody>\n",
              "    <tr>\n",
              "      <th>902</th>\n",
              "      <td>26/04/2021</td>\n",
              "      <td>11750</td>\n",
              "      <td>10750</td>\n",
              "      <td>10450</td>\n",
              "      <td>11800</td>\n",
              "      <td>11600</td>\n",
              "      <td>13050</td>\n",
              "      <td>12700</td>\n",
              "      <td>33300</td>\n",
              "      <td>33300</td>\n",
              "      <td>30250</td>\n",
              "      <td>30250</td>\n",
              "      <td>43100</td>\n",
              "      <td>45050</td>\n",
              "      <td>42750</td>\n",
              "      <td>57050</td>\n",
              "      <td>48750</td>\n",
              "      <td>65900</td>\n",
              "    </tr>\n",
              "    <tr>\n",
              "      <th>903</th>\n",
              "      <td>27/04/2021</td>\n",
              "      <td>11750</td>\n",
              "      <td>10750</td>\n",
              "      <td>10450</td>\n",
              "      <td>11800</td>\n",
              "      <td>11600</td>\n",
              "      <td>13050</td>\n",
              "      <td>12650</td>\n",
              "      <td>33250</td>\n",
              "      <td>33250</td>\n",
              "      <td>30200</td>\n",
              "      <td>30200</td>\n",
              "      <td>42000</td>\n",
              "      <td>44350</td>\n",
              "      <td>41650</td>\n",
              "      <td>56200</td>\n",
              "      <td>47750</td>\n",
              "      <td>65200</td>\n",
              "    </tr>\n",
              "    <tr>\n",
              "      <th>904</th>\n",
              "      <td>28/04/2021</td>\n",
              "      <td>11750</td>\n",
              "      <td>10750</td>\n",
              "      <td>10450</td>\n",
              "      <td>11800</td>\n",
              "      <td>11600</td>\n",
              "      <td>13050</td>\n",
              "      <td>12650</td>\n",
              "      <td>33200</td>\n",
              "      <td>33200</td>\n",
              "      <td>30150</td>\n",
              "      <td>30150</td>\n",
              "      <td>41400</td>\n",
              "      <td>43500</td>\n",
              "      <td>41050</td>\n",
              "      <td>56000</td>\n",
              "      <td>47600</td>\n",
              "      <td>65150</td>\n",
              "    </tr>\n",
              "    <tr>\n",
              "      <th>905</th>\n",
              "      <td>29/04/2021</td>\n",
              "      <td>11750</td>\n",
              "      <td>10750</td>\n",
              "      <td>10400</td>\n",
              "      <td>11750</td>\n",
              "      <td>11600</td>\n",
              "      <td>13050</td>\n",
              "      <td>12650</td>\n",
              "      <td>33100</td>\n",
              "      <td>33100</td>\n",
              "      <td>30250</td>\n",
              "      <td>30250</td>\n",
              "      <td>40700</td>\n",
              "      <td>43500</td>\n",
              "      <td>39950</td>\n",
              "      <td>55550</td>\n",
              "      <td>47500</td>\n",
              "      <td>64250</td>\n",
              "    </tr>\n",
              "    <tr>\n",
              "      <th>906</th>\n",
              "      <td>30/04/2021</td>\n",
              "      <td>11750</td>\n",
              "      <td>10750</td>\n",
              "      <td>10400</td>\n",
              "      <td>11800</td>\n",
              "      <td>11550</td>\n",
              "      <td>13050</td>\n",
              "      <td>12650</td>\n",
              "      <td>33100</td>\n",
              "      <td>33100</td>\n",
              "      <td>30200</td>\n",
              "      <td>30200</td>\n",
              "      <td>40150</td>\n",
              "      <td>42950</td>\n",
              "      <td>39250</td>\n",
              "      <td>55000</td>\n",
              "      <td>46850</td>\n",
              "      <td>63850</td>\n",
              "    </tr>\n",
              "  </tbody>\n",
              "</table>\n",
              "</div>"
            ],
            "text/plain": [
              "        Tanggal  Beras  ... Cabai Rawit Hijau (kg) Cabai Rawit Merah (kg)\n",
              "902  26/04/2021  11750  ...                  48750                  65900\n",
              "903  27/04/2021  11750  ...                  47750                  65200\n",
              "904  28/04/2021  11750  ...                  47600                  65150\n",
              "905  29/04/2021  11750  ...                  47500                  64250\n",
              "906  30/04/2021  11750  ...                  46850                  63850\n",
              "\n",
              "[5 rows x 18 columns]"
            ]
          },
          "metadata": {
            "tags": []
          },
          "execution_count": 51
        }
      ]
    },
    {
      "cell_type": "code",
      "metadata": {
        "colab": {
          "base_uri": "https://localhost:8080/"
        },
        "id": "IqRIZ6YtFcHp",
        "outputId": "3ed1313a-33c7-4b94-b868-c457c6b8f6ed"
      },
      "source": [
        "data.isnull().sum()"
      ],
      "execution_count": 42,
      "outputs": [
        {
          "output_type": "execute_result",
          "data": {
            "text/plain": [
              "Tanggal                            0\n",
              "Beras                              0\n",
              "Beras Kualitas Bawah I (kg)        0\n",
              "Beras Kualitas Bawah II (kg)       0\n",
              "Beras Kualitas Medium I (kg)       0\n",
              "Beras Kualitas Medium II (kg)      0\n",
              "Beras Kualitas Super I (kg)        0\n",
              "Beras Kualitas Super II (kg)       0\n",
              "Bawang Merah                       0\n",
              "Bawang Merah Ukuran Sedang (kg)    0\n",
              "Bawang Putih                       0\n",
              "Bawang Putih Ukuran Sedang (kg)    0\n",
              "Cabai Merah                        0\n",
              "Cabai Merah Besar (kg)             0\n",
              "Cabai Merah Keriting  (kg)         0\n",
              "Cabai Rawit                        0\n",
              "Cabai Rawit Hijau (kg)             0\n",
              "Cabai Rawit Merah (kg)             0\n",
              "dtype: int64"
            ]
          },
          "metadata": {
            "tags": []
          },
          "execution_count": 42
        }
      ]
    },
    {
      "cell_type": "code",
      "metadata": {
        "colab": {
          "base_uri": "https://localhost:8080/"
        },
        "id": "7RclL_NlFrTn",
        "outputId": "aeec7424-25bf-4bf1-f14e-c511d1d11cef"
      },
      "source": [
        "data.info()"
      ],
      "execution_count": 43,
      "outputs": [
        {
          "output_type": "stream",
          "text": [
            "<class 'pandas.core.frame.DataFrame'>\n",
            "RangeIndex: 907 entries, 0 to 906\n",
            "Data columns (total 18 columns):\n",
            " #   Column                           Non-Null Count  Dtype \n",
            "---  ------                           --------------  ----- \n",
            " 0   Tanggal                          907 non-null    object\n",
            " 1   Beras                            907 non-null    object\n",
            " 2   Beras Kualitas Bawah I (kg)      907 non-null    object\n",
            " 3   Beras Kualitas Bawah II (kg)     907 non-null    object\n",
            " 4   Beras Kualitas Medium I (kg)     907 non-null    object\n",
            " 5   Beras Kualitas Medium II (kg)    907 non-null    object\n",
            " 6   Beras Kualitas Super I (kg)      907 non-null    object\n",
            " 7   Beras Kualitas Super II (kg)     907 non-null    object\n",
            " 8   Bawang Merah                     907 non-null    object\n",
            " 9   Bawang Merah Ukuran Sedang (kg)  907 non-null    object\n",
            " 10  Bawang Putih                     907 non-null    object\n",
            " 11  Bawang Putih Ukuran Sedang (kg)  907 non-null    object\n",
            " 12  Cabai Merah                      907 non-null    object\n",
            " 13  Cabai Merah Besar (kg)           907 non-null    object\n",
            " 14  Cabai Merah Keriting  (kg)       907 non-null    object\n",
            " 15  Cabai Rawit                      907 non-null    object\n",
            " 16  Cabai Rawit Hijau (kg)           907 non-null    object\n",
            " 17  Cabai Rawit Merah (kg)           907 non-null    object\n",
            "dtypes: object(18)\n",
            "memory usage: 127.7+ KB\n"
          ],
          "name": "stdout"
        }
      ]
    },
    {
      "cell_type": "markdown",
      "metadata": {
        "id": "iOSZ8ilHgLql"
      },
      "source": [
        "## EDA"
      ]
    },
    {
      "cell_type": "code",
      "metadata": {
        "id": "EJaldLd6Fvl1"
      },
      "source": [
        "beras = data.loc[:,['Tanggal','Beras']]"
      ],
      "execution_count": 52,
      "outputs": []
    },
    {
      "cell_type": "code",
      "metadata": {
        "colab": {
          "base_uri": "https://localhost:8080/",
          "height": 198
        },
        "id": "onwjuVUVF8nv",
        "outputId": "c2ab4c65-3251-4d43-b7cd-c4442f1d5faf"
      },
      "source": [
        "beras.head()"
      ],
      "execution_count": 53,
      "outputs": [
        {
          "output_type": "execute_result",
          "data": {
            "text/html": [
              "<div>\n",
              "<style scoped>\n",
              "    .dataframe tbody tr th:only-of-type {\n",
              "        vertical-align: middle;\n",
              "    }\n",
              "\n",
              "    .dataframe tbody tr th {\n",
              "        vertical-align: top;\n",
              "    }\n",
              "\n",
              "    .dataframe thead th {\n",
              "        text-align: right;\n",
              "    }\n",
              "</style>\n",
              "<table border=\"1\" class=\"dataframe\">\n",
              "  <thead>\n",
              "    <tr style=\"text-align: right;\">\n",
              "      <th></th>\n",
              "      <th>Tanggal</th>\n",
              "      <th>Beras</th>\n",
              "    </tr>\n",
              "  </thead>\n",
              "  <tbody>\n",
              "    <tr>\n",
              "      <th>0</th>\n",
              "      <td>31/07/2017</td>\n",
              "      <td>11200</td>\n",
              "    </tr>\n",
              "    <tr>\n",
              "      <th>1</th>\n",
              "      <td>01/08/2017</td>\n",
              "      <td>11200</td>\n",
              "    </tr>\n",
              "    <tr>\n",
              "      <th>2</th>\n",
              "      <td>02/08/2017</td>\n",
              "      <td>11200</td>\n",
              "    </tr>\n",
              "    <tr>\n",
              "      <th>3</th>\n",
              "      <td>03/08/2017</td>\n",
              "      <td>11200</td>\n",
              "    </tr>\n",
              "    <tr>\n",
              "      <th>4</th>\n",
              "      <td>04/08/2017</td>\n",
              "      <td>11300</td>\n",
              "    </tr>\n",
              "  </tbody>\n",
              "</table>\n",
              "</div>"
            ],
            "text/plain": [
              "      Tanggal  Beras\n",
              "0  31/07/2017  11200\n",
              "1  01/08/2017  11200\n",
              "2  02/08/2017  11200\n",
              "3  03/08/2017  11200\n",
              "4  04/08/2017  11300"
            ]
          },
          "metadata": {
            "tags": []
          },
          "execution_count": 53
        }
      ]
    },
    {
      "cell_type": "code",
      "metadata": {
        "colab": {
          "base_uri": "https://localhost:8080/"
        },
        "id": "gYWjW2jwGOom",
        "outputId": "7df47028-d8f6-4a97-aee5-2aed2255150f"
      },
      "source": [
        "beras.info()"
      ],
      "execution_count": 54,
      "outputs": [
        {
          "output_type": "stream",
          "text": [
            "<class 'pandas.core.frame.DataFrame'>\n",
            "RangeIndex: 907 entries, 0 to 906\n",
            "Data columns (total 2 columns):\n",
            " #   Column   Non-Null Count  Dtype \n",
            "---  ------   --------------  ----- \n",
            " 0   Tanggal  907 non-null    object\n",
            " 1   Beras    907 non-null    object\n",
            "dtypes: object(2)\n",
            "memory usage: 14.3+ KB\n"
          ],
          "name": "stdout"
        }
      ]
    },
    {
      "cell_type": "code",
      "metadata": {
        "id": "iewwLaRBHQZ9"
      },
      "source": [
        "beras['Tanggal'] = pd.to_datetime(beras['Tanggal'])"
      ],
      "execution_count": 55,
      "outputs": []
    },
    {
      "cell_type": "code",
      "metadata": {
        "id": "5S-4lsVZAid9"
      },
      "source": [
        "beras = beras.set_index('Tanggal')"
      ],
      "execution_count": 56,
      "outputs": []
    },
    {
      "cell_type": "code",
      "metadata": {
        "colab": {
          "base_uri": "https://localhost:8080/",
          "height": 228
        },
        "id": "KVz9nPMIgn3t",
        "outputId": "b8484ad7-6ed7-49b4-a2f8-e26f4c670d6f"
      },
      "source": [
        "beras.head()"
      ],
      "execution_count": 57,
      "outputs": [
        {
          "output_type": "execute_result",
          "data": {
            "text/html": [
              "<div>\n",
              "<style scoped>\n",
              "    .dataframe tbody tr th:only-of-type {\n",
              "        vertical-align: middle;\n",
              "    }\n",
              "\n",
              "    .dataframe tbody tr th {\n",
              "        vertical-align: top;\n",
              "    }\n",
              "\n",
              "    .dataframe thead th {\n",
              "        text-align: right;\n",
              "    }\n",
              "</style>\n",
              "<table border=\"1\" class=\"dataframe\">\n",
              "  <thead>\n",
              "    <tr style=\"text-align: right;\">\n",
              "      <th></th>\n",
              "      <th>Beras</th>\n",
              "    </tr>\n",
              "    <tr>\n",
              "      <th>Tanggal</th>\n",
              "      <th></th>\n",
              "    </tr>\n",
              "  </thead>\n",
              "  <tbody>\n",
              "    <tr>\n",
              "      <th>2017-07-31</th>\n",
              "      <td>11200</td>\n",
              "    </tr>\n",
              "    <tr>\n",
              "      <th>2017-01-08</th>\n",
              "      <td>11200</td>\n",
              "    </tr>\n",
              "    <tr>\n",
              "      <th>2017-02-08</th>\n",
              "      <td>11200</td>\n",
              "    </tr>\n",
              "    <tr>\n",
              "      <th>2017-03-08</th>\n",
              "      <td>11200</td>\n",
              "    </tr>\n",
              "    <tr>\n",
              "      <th>2017-04-08</th>\n",
              "      <td>11300</td>\n",
              "    </tr>\n",
              "  </tbody>\n",
              "</table>\n",
              "</div>"
            ],
            "text/plain": [
              "            Beras\n",
              "Tanggal          \n",
              "2017-07-31  11200\n",
              "2017-01-08  11200\n",
              "2017-02-08  11200\n",
              "2017-03-08  11200\n",
              "2017-04-08  11300"
            ]
          },
          "metadata": {
            "tags": []
          },
          "execution_count": 57
        }
      ]
    },
    {
      "cell_type": "code",
      "metadata": {
        "colab": {
          "base_uri": "https://localhost:8080/",
          "height": 462
        },
        "id": "AG1Uy2ZUgrZQ",
        "outputId": "13914507-5534-4fdd-84b4-ea4d8a4e9ae2"
      },
      "source": [
        "beras['Beras'] = pd.to_numeric(beras['Beras'])"
      ],
      "execution_count": 58,
      "outputs": [
        {
          "output_type": "error",
          "ename": "ValueError",
          "evalue": "ignored",
          "traceback": [
            "\u001b[0;31m---------------------------------------------------------------------------\u001b[0m",
            "\u001b[0;31mValueError\u001b[0m                                Traceback (most recent call last)",
            "\u001b[0;32mpandas/_libs/lib.pyx\u001b[0m in \u001b[0;36mpandas._libs.lib.maybe_convert_numeric\u001b[0;34m()\u001b[0m\n",
            "\u001b[0;31mValueError\u001b[0m: Unable to parse string \"-\"",
            "\nDuring handling of the above exception, another exception occurred:\n",
            "\u001b[0;31mValueError\u001b[0m                                Traceback (most recent call last)",
            "\u001b[0;32m<ipython-input-58-0b2cff8fe3b1>\u001b[0m in \u001b[0;36m<module>\u001b[0;34m()\u001b[0m\n\u001b[0;32m----> 1\u001b[0;31m \u001b[0mberas\u001b[0m\u001b[0;34m[\u001b[0m\u001b[0;34m'Beras'\u001b[0m\u001b[0;34m]\u001b[0m \u001b[0;34m=\u001b[0m \u001b[0mpd\u001b[0m\u001b[0;34m.\u001b[0m\u001b[0mto_numeric\u001b[0m\u001b[0;34m(\u001b[0m\u001b[0mberas\u001b[0m\u001b[0;34m[\u001b[0m\u001b[0;34m'Beras'\u001b[0m\u001b[0;34m]\u001b[0m\u001b[0;34m)\u001b[0m\u001b[0;34m\u001b[0m\u001b[0;34m\u001b[0m\u001b[0m\n\u001b[0m",
            "\u001b[0;32m/usr/local/lib/python3.7/dist-packages/pandas/core/tools/numeric.py\u001b[0m in \u001b[0;36mto_numeric\u001b[0;34m(arg, errors, downcast)\u001b[0m\n\u001b[1;32m    151\u001b[0m         \u001b[0;32mtry\u001b[0m\u001b[0;34m:\u001b[0m\u001b[0;34m\u001b[0m\u001b[0;34m\u001b[0m\u001b[0m\n\u001b[1;32m    152\u001b[0m             values = lib.maybe_convert_numeric(\n\u001b[0;32m--> 153\u001b[0;31m                 \u001b[0mvalues\u001b[0m\u001b[0;34m,\u001b[0m \u001b[0mset\u001b[0m\u001b[0;34m(\u001b[0m\u001b[0;34m)\u001b[0m\u001b[0;34m,\u001b[0m \u001b[0mcoerce_numeric\u001b[0m\u001b[0;34m=\u001b[0m\u001b[0mcoerce_numeric\u001b[0m\u001b[0;34m\u001b[0m\u001b[0;34m\u001b[0m\u001b[0m\n\u001b[0m\u001b[1;32m    154\u001b[0m             )\n\u001b[1;32m    155\u001b[0m         \u001b[0;32mexcept\u001b[0m \u001b[0;34m(\u001b[0m\u001b[0mValueError\u001b[0m\u001b[0;34m,\u001b[0m \u001b[0mTypeError\u001b[0m\u001b[0;34m)\u001b[0m\u001b[0;34m:\u001b[0m\u001b[0;34m\u001b[0m\u001b[0;34m\u001b[0m\u001b[0m\n",
            "\u001b[0;32mpandas/_libs/lib.pyx\u001b[0m in \u001b[0;36mpandas._libs.lib.maybe_convert_numeric\u001b[0;34m()\u001b[0m\n",
            "\u001b[0;31mValueError\u001b[0m: Unable to parse string \"-\" at position 208"
          ]
        }
      ]
    },
    {
      "cell_type": "code",
      "metadata": {
        "colab": {
          "base_uri": "https://localhost:8080/",
          "height": 168
        },
        "id": "LrItFt3agt3f",
        "outputId": "109cf29a-293c-4eb0-9c3b-7496a868b41c"
      },
      "source": [
        "beras.iloc[207:210,:]"
      ],
      "execution_count": 59,
      "outputs": [
        {
          "output_type": "execute_result",
          "data": {
            "text/html": [
              "<div>\n",
              "<style scoped>\n",
              "    .dataframe tbody tr th:only-of-type {\n",
              "        vertical-align: middle;\n",
              "    }\n",
              "\n",
              "    .dataframe tbody tr th {\n",
              "        vertical-align: top;\n",
              "    }\n",
              "\n",
              "    .dataframe thead th {\n",
              "        text-align: right;\n",
              "    }\n",
              "</style>\n",
              "<table border=\"1\" class=\"dataframe\">\n",
              "  <thead>\n",
              "    <tr style=\"text-align: right;\">\n",
              "      <th></th>\n",
              "      <th>Beras</th>\n",
              "    </tr>\n",
              "    <tr>\n",
              "      <th>Tanggal</th>\n",
              "      <th></th>\n",
              "    </tr>\n",
              "  </thead>\n",
              "  <tbody>\n",
              "    <tr>\n",
              "      <th>2018-05-31</th>\n",
              "      <td>11700</td>\n",
              "    </tr>\n",
              "    <tr>\n",
              "      <th>2018-01-06</th>\n",
              "      <td>-</td>\n",
              "    </tr>\n",
              "    <tr>\n",
              "      <th>2018-04-06</th>\n",
              "      <td>11700</td>\n",
              "    </tr>\n",
              "  </tbody>\n",
              "</table>\n",
              "</div>"
            ],
            "text/plain": [
              "            Beras\n",
              "Tanggal          \n",
              "2018-05-31  11700\n",
              "2018-01-06      -\n",
              "2018-04-06  11700"
            ]
          },
          "metadata": {
            "tags": []
          },
          "execution_count": 59
        }
      ]
    },
    {
      "cell_type": "code",
      "metadata": {
        "id": "DOVOjnligxQg"
      },
      "source": [
        "beras['Beras'].replace(['-'], 11700, inplace= True)"
      ],
      "execution_count": 60,
      "outputs": []
    },
    {
      "cell_type": "code",
      "metadata": {
        "colab": {
          "base_uri": "https://localhost:8080/",
          "height": 168
        },
        "id": "MATjVQRfgzAI",
        "outputId": "adaad3ae-3f1e-4588-f765-985f23116313"
      },
      "source": [
        "beras.iloc[207:210,:]"
      ],
      "execution_count": 61,
      "outputs": [
        {
          "output_type": "execute_result",
          "data": {
            "text/html": [
              "<div>\n",
              "<style scoped>\n",
              "    .dataframe tbody tr th:only-of-type {\n",
              "        vertical-align: middle;\n",
              "    }\n",
              "\n",
              "    .dataframe tbody tr th {\n",
              "        vertical-align: top;\n",
              "    }\n",
              "\n",
              "    .dataframe thead th {\n",
              "        text-align: right;\n",
              "    }\n",
              "</style>\n",
              "<table border=\"1\" class=\"dataframe\">\n",
              "  <thead>\n",
              "    <tr style=\"text-align: right;\">\n",
              "      <th></th>\n",
              "      <th>Beras</th>\n",
              "    </tr>\n",
              "    <tr>\n",
              "      <th>Tanggal</th>\n",
              "      <th></th>\n",
              "    </tr>\n",
              "  </thead>\n",
              "  <tbody>\n",
              "    <tr>\n",
              "      <th>2018-05-31</th>\n",
              "      <td>11700</td>\n",
              "    </tr>\n",
              "    <tr>\n",
              "      <th>2018-01-06</th>\n",
              "      <td>11700</td>\n",
              "    </tr>\n",
              "    <tr>\n",
              "      <th>2018-04-06</th>\n",
              "      <td>11700</td>\n",
              "    </tr>\n",
              "  </tbody>\n",
              "</table>\n",
              "</div>"
            ],
            "text/plain": [
              "            Beras\n",
              "Tanggal          \n",
              "2018-05-31  11700\n",
              "2018-01-06  11700\n",
              "2018-04-06  11700"
            ]
          },
          "metadata": {
            "tags": []
          },
          "execution_count": 61
        }
      ]
    },
    {
      "cell_type": "code",
      "metadata": {
        "id": "mtQUP0Nsg0QN"
      },
      "source": [
        "beras['Beras'] = pd.to_numeric(beras['Beras'])"
      ],
      "execution_count": 62,
      "outputs": []
    },
    {
      "cell_type": "code",
      "metadata": {
        "colab": {
          "base_uri": "https://localhost:8080/"
        },
        "id": "wG5OGRZpg2Mn",
        "outputId": "e45c3dc6-e49b-4e9b-acd8-8b38655568e6"
      },
      "source": [
        "beras.info()"
      ],
      "execution_count": 63,
      "outputs": [
        {
          "output_type": "stream",
          "text": [
            "<class 'pandas.core.frame.DataFrame'>\n",
            "DatetimeIndex: 907 entries, 2017-07-31 to 2021-04-30\n",
            "Data columns (total 1 columns):\n",
            " #   Column  Non-Null Count  Dtype\n",
            "---  ------  --------------  -----\n",
            " 0   Beras   907 non-null    int64\n",
            "dtypes: int64(1)\n",
            "memory usage: 14.2 KB\n"
          ],
          "name": "stdout"
        }
      ]
    },
    {
      "cell_type": "code",
      "metadata": {
        "colab": {
          "base_uri": "https://localhost:8080/"
        },
        "id": "eJz3FNUVg3w7",
        "outputId": "6da89341-fb54-4f67-9118-609ab810a21d"
      },
      "source": [
        "beras['Beras'].max()"
      ],
      "execution_count": 64,
      "outputs": [
        {
          "output_type": "execute_result",
          "data": {
            "text/plain": [
              "13100"
            ]
          },
          "metadata": {
            "tags": []
          },
          "execution_count": 64
        }
      ]
    },
    {
      "cell_type": "code",
      "metadata": {
        "colab": {
          "base_uri": "https://localhost:8080/",
          "height": 108
        },
        "id": "-IyH3XRFg9Mw",
        "outputId": "a5b45d9d-2693-4a9a-efc4-6fde836a8a63"
      },
      "source": [
        "beras[beras['Beras']==beras['Beras'].max()]"
      ],
      "execution_count": 65,
      "outputs": [
        {
          "output_type": "execute_result",
          "data": {
            "text/html": [
              "<div>\n",
              "<style scoped>\n",
              "    .dataframe tbody tr th:only-of-type {\n",
              "        vertical-align: middle;\n",
              "    }\n",
              "\n",
              "    .dataframe tbody tr th {\n",
              "        vertical-align: top;\n",
              "    }\n",
              "\n",
              "    .dataframe thead th {\n",
              "        text-align: right;\n",
              "    }\n",
              "</style>\n",
              "<table border=\"1\" class=\"dataframe\">\n",
              "  <thead>\n",
              "    <tr style=\"text-align: right;\">\n",
              "      <th></th>\n",
              "      <th>Beras</th>\n",
              "    </tr>\n",
              "    <tr>\n",
              "      <th>Tanggal</th>\n",
              "      <th></th>\n",
              "    </tr>\n",
              "  </thead>\n",
              "  <tbody>\n",
              "    <tr>\n",
              "      <th>2019-06-06</th>\n",
              "      <td>13100</td>\n",
              "    </tr>\n",
              "  </tbody>\n",
              "</table>\n",
              "</div>"
            ],
            "text/plain": [
              "            Beras\n",
              "Tanggal          \n",
              "2019-06-06  13100"
            ]
          },
          "metadata": {
            "tags": []
          },
          "execution_count": 65
        }
      ]
    },
    {
      "cell_type": "code",
      "metadata": {
        "colab": {
          "base_uri": "https://localhost:8080/",
          "height": 228
        },
        "id": "r7ZLRXpJg-cs",
        "outputId": "bedb4913-b482-4ce0-9a86-591a9a8813e7"
      },
      "source": [
        "beras.nlargest(5, ['Beras'])"
      ],
      "execution_count": 66,
      "outputs": [
        {
          "output_type": "execute_result",
          "data": {
            "text/html": [
              "<div>\n",
              "<style scoped>\n",
              "    .dataframe tbody tr th:only-of-type {\n",
              "        vertical-align: middle;\n",
              "    }\n",
              "\n",
              "    .dataframe tbody tr th {\n",
              "        vertical-align: top;\n",
              "    }\n",
              "\n",
              "    .dataframe thead th {\n",
              "        text-align: right;\n",
              "    }\n",
              "</style>\n",
              "<table border=\"1\" class=\"dataframe\">\n",
              "  <thead>\n",
              "    <tr style=\"text-align: right;\">\n",
              "      <th></th>\n",
              "      <th>Beras</th>\n",
              "    </tr>\n",
              "    <tr>\n",
              "      <th>Tanggal</th>\n",
              "      <th></th>\n",
              "    </tr>\n",
              "  </thead>\n",
              "  <tbody>\n",
              "    <tr>\n",
              "      <th>2019-06-06</th>\n",
              "      <td>13100</td>\n",
              "    </tr>\n",
              "    <tr>\n",
              "      <th>2019-04-17</th>\n",
              "      <td>12600</td>\n",
              "    </tr>\n",
              "    <tr>\n",
              "      <th>2018-01-24</th>\n",
              "      <td>12100</td>\n",
              "    </tr>\n",
              "    <tr>\n",
              "      <th>2018-01-25</th>\n",
              "      <td>12100</td>\n",
              "    </tr>\n",
              "    <tr>\n",
              "      <th>2018-01-26</th>\n",
              "      <td>12100</td>\n",
              "    </tr>\n",
              "  </tbody>\n",
              "</table>\n",
              "</div>"
            ],
            "text/plain": [
              "            Beras\n",
              "Tanggal          \n",
              "2019-06-06  13100\n",
              "2019-04-17  12600\n",
              "2018-01-24  12100\n",
              "2018-01-25  12100\n",
              "2018-01-26  12100"
            ]
          },
          "metadata": {
            "tags": []
          },
          "execution_count": 66
        }
      ]
    },
    {
      "cell_type": "code",
      "metadata": {
        "colab": {
          "base_uri": "https://localhost:8080/",
          "height": 228
        },
        "id": "gTt71OZ_hA1S",
        "outputId": "546f5d79-f203-4b86-f92f-fde5ff675947"
      },
      "source": [
        "beras.nsmallest(5, ['Beras'])"
      ],
      "execution_count": 67,
      "outputs": [
        {
          "output_type": "execute_result",
          "data": {
            "text/html": [
              "<div>\n",
              "<style scoped>\n",
              "    .dataframe tbody tr th:only-of-type {\n",
              "        vertical-align: middle;\n",
              "    }\n",
              "\n",
              "    .dataframe tbody tr th {\n",
              "        vertical-align: top;\n",
              "    }\n",
              "\n",
              "    .dataframe thead th {\n",
              "        text-align: right;\n",
              "    }\n",
              "</style>\n",
              "<table border=\"1\" class=\"dataframe\">\n",
              "  <thead>\n",
              "    <tr style=\"text-align: right;\">\n",
              "      <th></th>\n",
              "      <th>Beras</th>\n",
              "    </tr>\n",
              "    <tr>\n",
              "      <th>Tanggal</th>\n",
              "      <th></th>\n",
              "    </tr>\n",
              "  </thead>\n",
              "  <tbody>\n",
              "    <tr>\n",
              "      <th>2017-01-12</th>\n",
              "      <td>10700</td>\n",
              "    </tr>\n",
              "    <tr>\n",
              "      <th>2017-08-14</th>\n",
              "      <td>11150</td>\n",
              "    </tr>\n",
              "    <tr>\n",
              "      <th>2017-07-31</th>\n",
              "      <td>11200</td>\n",
              "    </tr>\n",
              "    <tr>\n",
              "      <th>2017-01-08</th>\n",
              "      <td>11200</td>\n",
              "    </tr>\n",
              "    <tr>\n",
              "      <th>2017-02-08</th>\n",
              "      <td>11200</td>\n",
              "    </tr>\n",
              "  </tbody>\n",
              "</table>\n",
              "</div>"
            ],
            "text/plain": [
              "            Beras\n",
              "Tanggal          \n",
              "2017-01-12  10700\n",
              "2017-08-14  11150\n",
              "2017-07-31  11200\n",
              "2017-01-08  11200\n",
              "2017-02-08  11200"
            ]
          },
          "metadata": {
            "tags": []
          },
          "execution_count": 67
        }
      ]
    },
    {
      "cell_type": "code",
      "metadata": {
        "colab": {
          "base_uri": "https://localhost:8080/",
          "height": 297
        },
        "id": "yqwal_KPhCai",
        "outputId": "e192b120-e59c-4836-f235-017370a05484"
      },
      "source": [
        "sns.lineplot(x=beras.index, y=\"Beras\", data=beras)"
      ],
      "execution_count": 68,
      "outputs": [
        {
          "output_type": "execute_result",
          "data": {
            "text/plain": [
              "<matplotlib.axes._subplots.AxesSubplot at 0x7fc1c723f910>"
            ]
          },
          "metadata": {
            "tags": []
          },
          "execution_count": 68
        },
        {
          "output_type": "display_data",
          "data": {
            "image/png": "[encoded data removed]",
            "text/plain": [
              "<Figure size 432x288 with 1 Axes>"
            ]
          },
          "metadata": {
            "tags": [],
            "needs_background": "light"
          }
        }
      ]
    },
    {
      "cell_type": "code",
      "metadata": {
        "id": "8adnw7SjhG5z"
      },
      "source": [
        "df = beras.copy()\n",
        "df['day_of_month'] = df.index.day\n",
        "df['day_of_week'] = df.index.dayofweek\n",
        "df['month'] = df.index.month\n",
        "df['year'] = df.index.year"
      ],
      "execution_count": 69,
      "outputs": []
    },
    {
      "cell_type": "code",
      "metadata": {
        "colab": {
          "base_uri": "https://localhost:8080/",
          "height": 228
        },
        "id": "kIJE9kddhUuS",
        "outputId": "22583ad4-e1a4-422c-8310-527894c79cf2"
      },
      "source": [
        "beras.head()"
      ],
      "execution_count": 71,
      "outputs": [
        {
          "output_type": "execute_result",
          "data": {
            "text/html": [
              "<div>\n",
              "<style scoped>\n",
              "    .dataframe tbody tr th:only-of-type {\n",
              "        vertical-align: middle;\n",
              "    }\n",
              "\n",
              "    .dataframe tbody tr th {\n",
              "        vertical-align: top;\n",
              "    }\n",
              "\n",
              "    .dataframe thead th {\n",
              "        text-align: right;\n",
              "    }\n",
              "</style>\n",
              "<table border=\"1\" class=\"dataframe\">\n",
              "  <thead>\n",
              "    <tr style=\"text-align: right;\">\n",
              "      <th></th>\n",
              "      <th>Beras</th>\n",
              "    </tr>\n",
              "    <tr>\n",
              "      <th>Tanggal</th>\n",
              "      <th></th>\n",
              "    </tr>\n",
              "  </thead>\n",
              "  <tbody>\n",
              "    <tr>\n",
              "      <th>2017-07-31</th>\n",
              "      <td>11200</td>\n",
              "    </tr>\n",
              "    <tr>\n",
              "      <th>2017-01-08</th>\n",
              "      <td>11200</td>\n",
              "    </tr>\n",
              "    <tr>\n",
              "      <th>2017-02-08</th>\n",
              "      <td>11200</td>\n",
              "    </tr>\n",
              "    <tr>\n",
              "      <th>2017-03-08</th>\n",
              "      <td>11200</td>\n",
              "    </tr>\n",
              "    <tr>\n",
              "      <th>2017-04-08</th>\n",
              "      <td>11300</td>\n",
              "    </tr>\n",
              "  </tbody>\n",
              "</table>\n",
              "</div>"
            ],
            "text/plain": [
              "            Beras\n",
              "Tanggal          \n",
              "2017-07-31  11200\n",
              "2017-01-08  11200\n",
              "2017-02-08  11200\n",
              "2017-03-08  11200\n",
              "2017-04-08  11300"
            ]
          },
          "metadata": {
            "tags": []
          },
          "execution_count": 71
        }
      ]
    },
    {
      "cell_type": "code",
      "metadata": {
        "colab": {
          "base_uri": "https://localhost:8080/",
          "height": 228
        },
        "id": "jBDD4DCzhMTM",
        "outputId": "946cc5ad-21a5-4ae2-a5ea-58e47bfe66b8"
      },
      "source": [
        "df.head()"
      ],
      "execution_count": 70,
      "outputs": [
        {
          "output_type": "execute_result",
          "data": {
            "text/html": [
              "<div>\n",
              "<style scoped>\n",
              "    .dataframe tbody tr th:only-of-type {\n",
              "        vertical-align: middle;\n",
              "    }\n",
              "\n",
              "    .dataframe tbody tr th {\n",
              "        vertical-align: top;\n",
              "    }\n",
              "\n",
              "    .dataframe thead th {\n",
              "        text-align: right;\n",
              "    }\n",
              "</style>\n",
              "<table border=\"1\" class=\"dataframe\">\n",
              "  <thead>\n",
              "    <tr style=\"text-align: right;\">\n",
              "      <th></th>\n",
              "      <th>Beras</th>\n",
              "      <th>day_of_month</th>\n",
              "      <th>day_of_week</th>\n",
              "      <th>month</th>\n",
              "      <th>year</th>\n",
              "    </tr>\n",
              "    <tr>\n",
              "      <th>Tanggal</th>\n",
              "      <th></th>\n",
              "      <th></th>\n",
              "      <th></th>\n",
              "      <th></th>\n",
              "      <th></th>\n",
              "    </tr>\n",
              "  </thead>\n",
              "  <tbody>\n",
              "    <tr>\n",
              "      <th>2017-07-31</th>\n",
              "      <td>11200</td>\n",
              "      <td>31</td>\n",
              "      <td>0</td>\n",
              "      <td>7</td>\n",
              "      <td>2017</td>\n",
              "    </tr>\n",
              "    <tr>\n",
              "      <th>2017-01-08</th>\n",
              "      <td>11200</td>\n",
              "      <td>8</td>\n",
              "      <td>6</td>\n",
              "      <td>1</td>\n",
              "      <td>2017</td>\n",
              "    </tr>\n",
              "    <tr>\n",
              "      <th>2017-02-08</th>\n",
              "      <td>11200</td>\n",
              "      <td>8</td>\n",
              "      <td>2</td>\n",
              "      <td>2</td>\n",
              "      <td>2017</td>\n",
              "    </tr>\n",
              "    <tr>\n",
              "      <th>2017-03-08</th>\n",
              "      <td>11200</td>\n",
              "      <td>8</td>\n",
              "      <td>2</td>\n",
              "      <td>3</td>\n",
              "      <td>2017</td>\n",
              "    </tr>\n",
              "    <tr>\n",
              "      <th>2017-04-08</th>\n",
              "      <td>11300</td>\n",
              "      <td>8</td>\n",
              "      <td>5</td>\n",
              "      <td>4</td>\n",
              "      <td>2017</td>\n",
              "    </tr>\n",
              "  </tbody>\n",
              "</table>\n",
              "</div>"
            ],
            "text/plain": [
              "            Beras  day_of_month  day_of_week  month  year\n",
              "Tanggal                                                  \n",
              "2017-07-31  11200            31            0      7  2017\n",
              "2017-01-08  11200             8            6      1  2017\n",
              "2017-02-08  11200             8            2      2  2017\n",
              "2017-03-08  11200             8            2      3  2017\n",
              "2017-04-08  11300             8            5      4  2017"
            ]
          },
          "metadata": {
            "tags": []
          },
          "execution_count": 70
        }
      ]
    },
    {
      "cell_type": "code",
      "metadata": {
        "colab": {
          "base_uri": "https://localhost:8080/",
          "height": 308
        },
        "id": "snKmbajYhT8v",
        "outputId": "7e50b16d-4e38-4426-f07a-c51f49f79006"
      },
      "source": [
        "beras_by_year = df.resample('Y').sum()\n",
        "\n",
        "sns.lineplot(x=beras_by_year.index, y=\"Beras\", data=beras_by_year)"
      ],
      "execution_count": 72,
      "outputs": [
        {
          "output_type": "execute_result",
          "data": {
            "text/plain": [
              "<matplotlib.axes._subplots.AxesSubplot at 0x7fc1c71a5150>"
            ]
          },
          "metadata": {
            "tags": []
          },
          "execution_count": 72
        },
        {
          "output_type": "display_data",
          "data": {
            "image/png": "[encoded data removed]",
            "text/plain": [
              "<Figure size 432x288 with 1 Axes>"
            ]
          },
          "metadata": {
            "tags": [],
            "needs_background": "light"
          }
        }
      ]
    },
    {
      "cell_type": "code",
      "metadata": {
        "colab": {
          "base_uri": "https://localhost:8080/",
          "height": 297
        },
        "id": "hOVRi3z8hYbA",
        "outputId": "8eab8896-0228-4ad3-fdb1-ffb6c0b15094"
      },
      "source": [
        "beras_by_month = df.resample('M').sum()\n",
        "\n",
        "sns.lineplot(x=beras_by_month.index, y=\"Beras\", data=beras_by_month)"
      ],
      "execution_count": 73,
      "outputs": [
        {
          "output_type": "execute_result",
          "data": {
            "text/plain": [
              "<matplotlib.axes._subplots.AxesSubplot at 0x7fc1c730b210>"
            ]
          },
          "metadata": {
            "tags": []
          },
          "execution_count": 73
        },
        {
          "output_type": "display_data",
          "data": {
            "image/png": "[encoded data removed]",
            "text/plain": [
              "<Figure size 432x288 with 1 Axes>"
            ]
          },
          "metadata": {
            "tags": [],
            "needs_background": "light"
          }
        }
      ]
    },
    {
      "cell_type": "code",
      "metadata": {
        "colab": {
          "base_uri": "https://localhost:8080/",
          "height": 297
        },
        "id": "oycPix_lhaNV",
        "outputId": "532d1644-fec4-4b32-8c2a-9b61022ab8ed"
      },
      "source": [
        "beras_by_week = df.resample('W').sum()\n",
        "\n",
        "sns.lineplot(x=beras_by_week.index, y=\"Beras\", data=beras_by_week)"
      ],
      "execution_count": 74,
      "outputs": [
        {
          "output_type": "execute_result",
          "data": {
            "text/plain": [
              "<matplotlib.axes._subplots.AxesSubplot at 0x7fc1c7142ad0>"
            ]
          },
          "metadata": {
            "tags": []
          },
          "execution_count": 74
        },
        {
          "output_type": "display_data",
          "data": {
            "image/png": "[encoded data removed]",
            "text/plain": [
              "<Figure size 432x288 with 1 Axes>"
            ]
          },
          "metadata": {
            "tags": [],
            "needs_background": "light"
          }
        }
      ]
    },
    {
      "cell_type": "code",
      "metadata": {
        "colab": {
          "base_uri": "https://localhost:8080/",
          "height": 1000
        },
        "id": "LZ5uBeDHhcTI",
        "outputId": "5b7824e8-af07-4da5-f0f1-b68b1d4d2c5b"
      },
      "source": [
        "fig,(ax1, ax2, ax3)= plt.subplots(nrows=3)\n",
        "fig.set_size_inches(18, 28)\n",
        "\n",
        "sns.pointplot(data=df, x='day_of_month', y='Beras', hue='year', ax=ax1)\n",
        "sns.pointplot(data=df, x='day_of_week', y='Beras', hue='year', ax=ax2)\n",
        "sns.pointplot(data=df, x='month', y='Beras', hue='year', ax=ax3)\n",
        "#sns.pointplot(data=df, x='yea', y='Beras', hue='year', ax=ax3)"
      ],
      "execution_count": 75,
      "outputs": [
        {
          "output_type": "execute_result",
          "data": {
            "text/plain": [
              "<matplotlib.axes._subplots.AxesSubplot at 0x7fc1c708ccd0>"
            ]
          },
          "metadata": {
            "tags": []
          },
          "execution_count": 75
        },
        {
          "output_type": "display_data",
          "data": {
            "image/png": "[encoded data removed]",
            "text/plain": [
              "<Figure size 1296x2016 with 3 Axes>"
            ]
          },
          "metadata": {
            "tags": [],
            "needs_background": "light"
          }
        }
      ]
    },
    {
      "cell_type": "markdown",
      "metadata": {
        "id": "PPYBtyUviY44"
      },
      "source": [
        "## Preprocessing"
      ]
    },
    {
      "cell_type": "markdown",
      "metadata": {
        "id": "QmMbzuAnie1W"
      },
      "source": [
        "### Split data"
      ]
    },
    {
      "cell_type": "code",
      "metadata": {
        "colab": {
          "base_uri": "https://localhost:8080/"
        },
        "id": "-_uIJ6OOhjik",
        "outputId": "607b2093-e3fa-4297-eeb0-8d0f99db1a51"
      },
      "source": [
        "train_size = int(len(beras) * 0.95)\n",
        "test_size = len(beras) - train_size\n",
        "train, test = beras.iloc[0:train_size], beras.iloc[train_size:len(beras)]\n",
        "print(len(train), len(test))"
      ],
      "execution_count": 76,
      "outputs": [
        {
          "output_type": "stream",
          "text": [
            "861 46\n"
          ],
          "name": "stdout"
        }
      ]
    },
    {
      "cell_type": "code",
      "metadata": {
        "colab": {
          "base_uri": "https://localhost:8080/"
        },
        "id": "a5cr2LlBiiAP",
        "outputId": "0d36fef0-5bca-4c17-a8de-ac7a8ae2ec77"
      },
      "source": [
        "from sklearn.preprocessing import StandardScaler\n",
        "\n",
        "scaler = StandardScaler()\n",
        "scaler = scaler.fit(train[['Beras']])\n",
        "\n",
        "train['Beras'] = scaler.transform(train[['Beras']])\n",
        "test['Beras'] = scaler.transform(test[['Beras']])"
      ],
      "execution_count": 77,
      "outputs": [
        {
          "output_type": "stream",
          "text": [
            "/usr/local/lib/python3.7/dist-packages/ipykernel_launcher.py:6: SettingWithCopyWarning: \n",
            "A value is trying to be set on a copy of a slice from a DataFrame.\n",
            "Try using .loc[row_indexer,col_indexer] = value instead\n",
            "\n",
            "See the caveats in the documentation: https://pandas.pydata.org/pandas-docs/stable/user_guide/indexing.html#returning-a-view-versus-a-copy\n",
            "  \n",
            "/usr/local/lib/python3.7/dist-packages/ipykernel_launcher.py:7: SettingWithCopyWarning: \n",
            "A value is trying to be set on a copy of a slice from a DataFrame.\n",
            "Try using .loc[row_indexer,col_indexer] = value instead\n",
            "\n",
            "See the caveats in the documentation: https://pandas.pydata.org/pandas-docs/stable/user_guide/indexing.html#returning-a-view-versus-a-copy\n",
            "  import sys\n"
          ],
          "name": "stderr"
        }
      ]
    },
    {
      "cell_type": "code",
      "metadata": {
        "colab": {
          "base_uri": "https://localhost:8080/",
          "height": 228
        },
        "id": "sP8HKbssiwSU",
        "outputId": "2000bd0e-4e06-45e8-8de2-7998498126f2"
      },
      "source": [
        "train.tail()"
      ],
      "execution_count": 78,
      "outputs": [
        {
          "output_type": "execute_result",
          "data": {
            "text/html": [
              "<div>\n",
              "<style scoped>\n",
              "    .dataframe tbody tr th:only-of-type {\n",
              "        vertical-align: middle;\n",
              "    }\n",
              "\n",
              "    .dataframe tbody tr th {\n",
              "        vertical-align: top;\n",
              "    }\n",
              "\n",
              "    .dataframe thead th {\n",
              "        text-align: right;\n",
              "    }\n",
              "</style>\n",
              "<table border=\"1\" class=\"dataframe\">\n",
              "  <thead>\n",
              "    <tr style=\"text-align: right;\">\n",
              "      <th></th>\n",
              "      <th>Beras</th>\n",
              "    </tr>\n",
              "    <tr>\n",
              "      <th>Tanggal</th>\n",
              "      <th></th>\n",
              "    </tr>\n",
              "  </thead>\n",
              "  <tbody>\n",
              "    <tr>\n",
              "      <th>2021-02-17</th>\n",
              "      <td>0.295434</td>\n",
              "    </tr>\n",
              "    <tr>\n",
              "      <th>2021-02-18</th>\n",
              "      <td>0.295434</td>\n",
              "    </tr>\n",
              "    <tr>\n",
              "      <th>2021-02-19</th>\n",
              "      <td>0.295434</td>\n",
              "    </tr>\n",
              "    <tr>\n",
              "      <th>2021-02-22</th>\n",
              "      <td>0.295434</td>\n",
              "    </tr>\n",
              "    <tr>\n",
              "      <th>2021-02-23</th>\n",
              "      <td>0.295434</td>\n",
              "    </tr>\n",
              "  </tbody>\n",
              "</table>\n",
              "</div>"
            ],
            "text/plain": [
              "               Beras\n",
              "Tanggal             \n",
              "2021-02-17  0.295434\n",
              "2021-02-18  0.295434\n",
              "2021-02-19  0.295434\n",
              "2021-02-22  0.295434\n",
              "2021-02-23  0.295434"
            ]
          },
          "metadata": {
            "tags": []
          },
          "execution_count": 78
        }
      ]
    },
    {
      "cell_type": "code",
      "metadata": {
        "id": "qya8wiRDi1Xv"
      },
      "source": [
        "def create_dataset(X, y, time_steps=1):\n",
        "    Xs, ys = [], []\n",
        "    for i in range(len(X) - time_steps):\n",
        "        v = X.iloc[i:(i + time_steps)].values\n",
        "        Xs.append(v)        \n",
        "        ys.append(y.iloc[i + time_steps])\n",
        "    return np.array(Xs), np.array(ys)"
      ],
      "execution_count": 79,
      "outputs": []
    },
    {
      "cell_type": "code",
      "metadata": {
        "colab": {
          "base_uri": "https://localhost:8080/"
        },
        "id": "zeWv-JzVi3k0",
        "outputId": "9a29dd8b-2b8e-4ea1-ccdd-220cfce93884"
      },
      "source": [
        "time_steps = 10\n",
        "\n",
        "# reshape to [samples, time_steps, n_features]\n",
        "\n",
        "X_train, y_train = create_dataset(train, train.Beras, time_steps)\n",
        "X_test, y_test = create_dataset(test, test.Beras, time_steps)\n",
        "\n",
        "print(X_train.shape, y_train.shape)"
      ],
      "execution_count": 80,
      "outputs": [
        {
          "output_type": "stream",
          "text": [
            "(851, 10, 1) (851,)\n"
          ],
          "name": "stdout"
        }
      ]
    },
    {
      "cell_type": "markdown",
      "metadata": {
        "id": "tj1Z4B_Ti7qO"
      },
      "source": [
        "## Model1"
      ]
    },
    {
      "cell_type": "code",
      "metadata": {
        "id": "r8yjnZwIi5Fr"
      },
      "source": [
        "model = keras.Sequential()\n",
        "model.add(keras.layers.LSTM(128, input_shape=(X_train.shape[1], X_train.shape[2])))\n",
        "model.add(keras.layers.Dense(1))\n",
        "model.compile(loss='mae', optimizer='adam')"
      ],
      "execution_count": 95,
      "outputs": []
    },
    {
      "cell_type": "markdown",
      "metadata": {
        "id": "Fl3Jt9hRjyzQ"
      },
      "source": [
        "### Training"
      ]
    },
    {
      "cell_type": "code",
      "metadata": {
        "colab": {
          "base_uri": "https://localhost:8080/"
        },
        "id": "ZB--xYmqjwkI",
        "outputId": "c72ef6cd-4a7c-4f84-e0b5-4c93425a025e"
      },
      "source": [
        "history = model.fit(\n",
        "    X_train, y_train, \n",
        "    epochs=30, \n",
        "    batch_size=16, \n",
        "    validation_split=0.1, \n",
        "    verbose=1, \n",
        "    shuffle=False\n",
        ")"
      ],
      "execution_count": 96,
      "outputs": [
        {
          "output_type": "stream",
          "text": [
            "Epoch 1/30\n",
            "48/48 [==============================] - 2s 11ms/step - loss: 0.9008 - val_loss: 0.0466\n",
            "Epoch 2/30\n",
            "48/48 [==============================] - 0s 4ms/step - loss: 0.2134 - val_loss: 0.0364\n",
            "Epoch 3/30\n",
            "48/48 [==============================] - 0s 4ms/step - loss: 0.4070 - val_loss: 0.0435\n",
            "Epoch 4/30\n",
            "48/48 [==============================] - 0s 4ms/step - loss: 0.2416 - val_loss: 0.0216\n",
            "Epoch 5/30\n",
            "48/48 [==============================] - 0s 4ms/step - loss: 0.3388 - val_loss: 0.0655\n",
            "Epoch 6/30\n",
            "48/48 [==============================] - 0s 4ms/step - loss: 0.2156 - val_loss: 0.0267\n",
            "Epoch 7/30\n",
            "48/48 [==============================] - 0s 4ms/step - loss: 0.3298 - val_loss: 0.0537\n",
            "Epoch 8/30\n",
            "48/48 [==============================] - 0s 4ms/step - loss: 0.2012 - val_loss: 0.0305\n",
            "Epoch 9/30\n",
            "48/48 [==============================] - 0s 4ms/step - loss: 0.2654 - val_loss: 0.0629\n",
            "Epoch 10/30\n",
            "48/48 [==============================] - 0s 4ms/step - loss: 0.1952 - val_loss: 0.0328\n",
            "Epoch 11/30\n",
            "48/48 [==============================] - 0s 4ms/step - loss: 0.2484 - val_loss: 0.0621\n",
            "Epoch 12/30\n",
            "48/48 [==============================] - 0s 4ms/step - loss: 0.1891 - val_loss: 0.0335\n",
            "Epoch 13/30\n",
            "48/48 [==============================] - 0s 4ms/step - loss: 0.2454 - val_loss: 0.0472\n",
            "Epoch 14/30\n",
            "48/48 [==============================] - 0s 4ms/step - loss: 0.1846 - val_loss: 0.0307\n",
            "Epoch 15/30\n",
            "48/48 [==============================] - 0s 4ms/step - loss: 0.2077 - val_loss: 0.0207\n",
            "Epoch 16/30\n",
            "48/48 [==============================] - 0s 4ms/step - loss: 0.1765 - val_loss: 0.0181\n",
            "Epoch 17/30\n",
            "48/48 [==============================] - 0s 4ms/step - loss: 0.2005 - val_loss: 0.0563\n",
            "Epoch 18/30\n",
            "48/48 [==============================] - 0s 4ms/step - loss: 0.1956 - val_loss: 0.0425\n",
            "Epoch 19/30\n",
            "48/48 [==============================] - 0s 4ms/step - loss: 0.1809 - val_loss: 0.0195\n",
            "Epoch 20/30\n",
            "48/48 [==============================] - 0s 4ms/step - loss: 0.2044 - val_loss: 0.0423\n",
            "Epoch 21/30\n",
            "48/48 [==============================] - 0s 4ms/step - loss: 0.1748 - val_loss: 0.0178\n",
            "Epoch 22/30\n",
            "48/48 [==============================] - 0s 4ms/step - loss: 0.2164 - val_loss: 0.0441\n",
            "Epoch 23/30\n",
            "48/48 [==============================] - 0s 4ms/step - loss: 0.1679 - val_loss: 0.0352\n",
            "Epoch 24/30\n",
            "48/48 [==============================] - 0s 4ms/step - loss: 0.1742 - val_loss: 0.0329\n",
            "Epoch 25/30\n",
            "48/48 [==============================] - 0s 4ms/step - loss: 0.1645 - val_loss: 0.0332\n",
            "Epoch 26/30\n",
            "48/48 [==============================] - 0s 4ms/step - loss: 0.1909 - val_loss: 0.0396\n",
            "Epoch 27/30\n",
            "48/48 [==============================] - 0s 4ms/step - loss: 0.1640 - val_loss: 0.0371\n",
            "Epoch 28/30\n",
            "48/48 [==============================] - 0s 4ms/step - loss: 0.1866 - val_loss: 0.0359\n",
            "Epoch 29/30\n",
            "48/48 [==============================] - 0s 4ms/step - loss: 0.1640 - val_loss: 0.0359\n",
            "Epoch 30/30\n",
            "48/48 [==============================] - 0s 4ms/step - loss: 0.1759 - val_loss: 0.0422\n"
          ],
          "name": "stdout"
        }
      ]
    },
    {
      "cell_type": "markdown",
      "metadata": {
        "id": "vdgdr3W8kNXK"
      },
      "source": [
        "### Evaluation"
      ]
    },
    {
      "cell_type": "code",
      "metadata": {
        "colab": {
          "base_uri": "https://localhost:8080/",
          "height": 283
        },
        "id": "J6ya0D-dj30X",
        "outputId": "364e30b7-5527-4f47-aabd-1332cb45399c"
      },
      "source": [
        "plt.plot(history.history['loss'], label='train')\n",
        "plt.plot(history.history['val_loss'], label='test')\n",
        "plt.legend()"
      ],
      "execution_count": 97,
      "outputs": [
        {
          "output_type": "execute_result",
          "data": {
            "text/plain": [
              "<matplotlib.legend.Legend at 0x7fc16e7ed3d0>"
            ]
          },
          "metadata": {
            "tags": []
          },
          "execution_count": 97
        },
        {
          "output_type": "display_data",
          "data": {
            "image/png": "[encoded data removed]",
            "text/plain": [
              "<Figure size 432x288 with 1 Axes>"
            ]
          },
          "metadata": {
            "tags": [],
            "needs_background": "light"
          }
        }
      ]
    },
    {
      "cell_type": "code",
      "metadata": {
        "id": "BiNPJgqlsUg4"
      },
      "source": [
        "train_predict=model.predict(X_train)\n",
        "test_predict=model.predict(X_test)"
      ],
      "execution_count": 139,
      "outputs": []
    },
    {
      "cell_type": "code",
      "metadata": {
        "id": "nkdnUlvcscXd"
      },
      "source": [
        "## BELOM DI RUN (BELOM DI INVERS)\n",
        "train_predict=scaler.inverse_transform(train_predict)\n",
        "test_predict=scaler.inverse_transform(test_predict)"
      ],
      "execution_count": 140,
      "outputs": []
    },
    {
      "cell_type": "code",
      "metadata": {
        "colab": {
          "base_uri": "https://localhost:8080/"
        },
        "id": "O-_F3OFvsjm9",
        "outputId": "6e8b8a04-2335-4894-d0c5-4b1752560d9c"
      },
      "source": [
        "## performannce\n",
        "import math\n",
        "from sklearn.metrics import mean_absolute_error\n",
        "math.sqrt(mean_absolute_error(y_train,train_predict))"
      ],
      "execution_count": 141,
      "outputs": [
        {
          "output_type": "execute_result",
          "data": {
            "text/plain": [
              "108.40627381795848"
            ]
          },
          "metadata": {
            "tags": []
          },
          "execution_count": 141
        }
      ]
    },
    {
      "cell_type": "code",
      "metadata": {
        "colab": {
          "base_uri": "https://localhost:8080/"
        },
        "id": "gRJYuveXpCTG",
        "outputId": "f9c5615b-69e6-421b-a2c6-83ab5649c48d"
      },
      "source": [
        "math.sqrt(mean_absolute_error(y_test,test_predict))"
      ],
      "execution_count": 142,
      "outputs": [
        {
          "output_type": "execute_result",
          "data": {
            "text/plain": [
              "108.61630097563634"
            ]
          },
          "metadata": {
            "tags": []
          },
          "execution_count": 142
        }
      ]
    },
    {
      "cell_type": "code",
      "metadata": {
        "id": "wN6pScVBkRk9"
      },
      "source": [
        "## tidak inverse\n",
        "y_pred = model.predict(X_test)"
      ],
      "execution_count": 144,
      "outputs": []
    },
    {
      "cell_type": "code",
      "metadata": {
        "colab": {
          "base_uri": "https://localhost:8080/",
          "height": 297
        },
        "id": "Kzxi9jVvkfs8",
        "outputId": "4f9cb21d-10e3-4168-a352-e1edceefab1a"
      },
      "source": [
        "plt.plot(np.arange(0, len(y_train)), y_train, 'g', label=\"history\")\n",
        "plt.plot(np.arange(len(y_train), len(y_train) + len(y_test)), y_test, marker='.', label=\"true\")\n",
        "plt.plot(np.arange(len(y_train), len(y_train) + len(y_test)), y_pred, 'r', label=\"prediction\")\n",
        "#plt.figure(figsize=(20,10))\n",
        "plt.ylabel('Value')\n",
        "plt.xlabel('Time Step')\n",
        "plt.legend()"
      ],
      "execution_count": 145,
      "outputs": [
        {
          "output_type": "execute_result",
          "data": {
            "text/plain": [
              "<matplotlib.legend.Legend at 0x7fc16205b790>"
            ]
          },
          "metadata": {
            "tags": []
          },
          "execution_count": 145
        },
        {
          "output_type": "display_data",
          "data": {
            "image/png": "[encoded data removed]",
            "text/plain": [
              "<Figure size 432x288 with 1 Axes>"
            ]
          },
          "metadata": {
            "tags": [],
            "needs_background": "light"
          }
        }
      ]
    },
    {
      "cell_type": "markdown",
      "metadata": {
        "id": "yc25JQ7OnqjB"
      },
      "source": [
        "## Model2"
      ]
    },
    {
      "cell_type": "code",
      "metadata": {
        "id": "uD3VkgkRntSG"
      },
      "source": [
        "model2 = keras.Sequential()\n",
        "model2.add(\n",
        "  keras.layers.Bidirectional(\n",
        "    keras.layers.LSTM(\n",
        "      units=128, \n",
        "      input_shape=(X_train.shape[1], X_train.shape[2])\n",
        "    )\n",
        "  )\n",
        ")\n",
        "model2.add(keras.layers.Dropout(rate=0.2))\n",
        "model2.add(keras.layers.Dense(units=1))\n",
        "model2.compile(loss='mae', optimizer='adam')"
      ],
      "execution_count": 146,
      "outputs": []
    },
    {
      "cell_type": "code",
      "metadata": {
        "colab": {
          "base_uri": "https://localhost:8080/"
        },
        "id": "5627JRYtoBd_",
        "outputId": "a14170e5-ede3-4751-e304-b49f083f7d22"
      },
      "source": [
        "history2 = model2.fit(\n",
        "    X_train, y_train, \n",
        "    epochs=30, \n",
        "    batch_size=32, \n",
        "    validation_split=0.1,\n",
        "    shuffle=False\n",
        ")"
      ],
      "execution_count": 147,
      "outputs": [
        {
          "output_type": "stream",
          "text": [
            "Epoch 1/30\n",
            "24/24 [==============================] - 4s 32ms/step - loss: 0.8667 - val_loss: 0.0221\n",
            "Epoch 2/30\n",
            "24/24 [==============================] - 0s 7ms/step - loss: 0.2566 - val_loss: 0.0431\n",
            "Epoch 3/30\n",
            "24/24 [==============================] - 0s 7ms/step - loss: 0.2438 - val_loss: 0.0194\n",
            "Epoch 4/30\n",
            "24/24 [==============================] - 0s 6ms/step - loss: 0.2895 - val_loss: 0.0245\n",
            "Epoch 5/30\n",
            "24/24 [==============================] - 0s 6ms/step - loss: 0.2436 - val_loss: 0.0251\n",
            "Epoch 6/30\n",
            "24/24 [==============================] - 0s 6ms/step - loss: 0.3469 - val_loss: 0.0224\n",
            "Epoch 7/30\n",
            "24/24 [==============================] - 0s 6ms/step - loss: 0.2223 - val_loss: 0.0203\n",
            "Epoch 8/30\n",
            "24/24 [==============================] - 0s 7ms/step - loss: 0.2299 - val_loss: 0.0189\n",
            "Epoch 9/30\n",
            "24/24 [==============================] - 0s 6ms/step - loss: 0.2313 - val_loss: 0.0190\n",
            "Epoch 10/30\n",
            "24/24 [==============================] - 0s 6ms/step - loss: 0.2119 - val_loss: 0.0203\n",
            "Epoch 11/30\n",
            "24/24 [==============================] - 0s 6ms/step - loss: 0.2132 - val_loss: 0.0338\n",
            "Epoch 12/30\n",
            "24/24 [==============================] - 0s 7ms/step - loss: 0.2133 - val_loss: 0.0286\n",
            "Epoch 13/30\n",
            "24/24 [==============================] - 0s 7ms/step - loss: 0.2059 - val_loss: 0.0332\n",
            "Epoch 14/30\n",
            "24/24 [==============================] - 0s 6ms/step - loss: 0.2617 - val_loss: 0.0306\n",
            "Epoch 15/30\n",
            "24/24 [==============================] - 0s 6ms/step - loss: 0.2004 - val_loss: 0.0424\n",
            "Epoch 16/30\n",
            "24/24 [==============================] - 0s 6ms/step - loss: 0.2001 - val_loss: 0.0185\n",
            "Epoch 17/30\n",
            "24/24 [==============================] - 0s 6ms/step - loss: 0.2508 - val_loss: 0.0377\n",
            "Epoch 18/30\n",
            "24/24 [==============================] - 0s 7ms/step - loss: 0.1962 - val_loss: 0.0238\n",
            "Epoch 19/30\n",
            "24/24 [==============================] - 0s 7ms/step - loss: 0.1991 - val_loss: 0.0277\n",
            "Epoch 20/30\n",
            "24/24 [==============================] - 0s 6ms/step - loss: 0.2108 - val_loss: 0.0230\n",
            "Epoch 21/30\n",
            "24/24 [==============================] - 0s 6ms/step - loss: 0.2008 - val_loss: 0.0204\n",
            "Epoch 22/30\n",
            "24/24 [==============================] - 0s 6ms/step - loss: 0.2518 - val_loss: 0.0340\n",
            "Epoch 23/30\n",
            "24/24 [==============================] - 0s 6ms/step - loss: 0.1937 - val_loss: 0.0286\n",
            "Epoch 24/30\n",
            "24/24 [==============================] - 0s 7ms/step - loss: 0.2128 - val_loss: 0.0174\n",
            "Epoch 25/30\n",
            "24/24 [==============================] - 0s 7ms/step - loss: 0.2455 - val_loss: 0.0272\n",
            "Epoch 26/30\n",
            "24/24 [==============================] - 0s 7ms/step - loss: 0.1850 - val_loss: 0.0252\n",
            "Epoch 27/30\n",
            "24/24 [==============================] - 0s 6ms/step - loss: 0.1939 - val_loss: 0.0236\n",
            "Epoch 28/30\n",
            "24/24 [==============================] - 0s 6ms/step - loss: 0.2071 - val_loss: 0.0354\n",
            "Epoch 29/30\n",
            "24/24 [==============================] - 0s 7ms/step - loss: 0.1818 - val_loss: 0.0180\n",
            "Epoch 30/30\n",
            "24/24 [==============================] - 0s 6ms/step - loss: 0.1881 - val_loss: 0.0207\n"
          ],
          "name": "stdout"
        }
      ]
    },
    {
      "cell_type": "code",
      "metadata": {
        "colab": {
          "base_uri": "https://localhost:8080/",
          "height": 265
        },
        "id": "C3DV_M4coHzQ",
        "outputId": "deaec265-16cd-4e6f-8ec3-d322e5b0b2f6"
      },
      "source": [
        "plt.plot(history2.history['loss'], label='train')\n",
        "plt.plot(history2.history['val_loss'], label='test')\n",
        "plt.legend();"
      ],
      "execution_count": 148,
      "outputs": [
        {
          "output_type": "display_data",
          "data": {
            "image/png": "[encoded data removed]",
            "text/plain": [
              "<Figure size 432x288 with 1 Axes>"
            ]
          },
          "metadata": {
            "tags": [],
            "needs_background": "light"
          }
        }
      ]
    },
    {
      "cell_type": "code",
      "metadata": {
        "id": "4FuZxrX9zl4-"
      },
      "source": [
        "train_predict=model2.predict(X_train)\n",
        "test_predict=model2.predict(X_test)"
      ],
      "execution_count": 150,
      "outputs": []
    },
    {
      "cell_type": "code",
      "metadata": {
        "id": "wJEpFRBxzuj6"
      },
      "source": [
        "train_predict=scaler.inverse_transform(train_predict)\n",
        "test_predict=scaler.inverse_transform(test_predict)"
      ],
      "execution_count": 151,
      "outputs": []
    },
    {
      "cell_type": "code",
      "metadata": {
        "colab": {
          "base_uri": "https://localhost:8080/"
        },
        "id": "4mFQ6OIwzyjF",
        "outputId": "441b1f96-4783-4c9e-b0ed-d537e76728cb"
      },
      "source": [
        "math.sqrt(mean_absolute_error(y_train,train_predict))"
      ],
      "execution_count": 152,
      "outputs": [
        {
          "output_type": "execute_result",
          "data": {
            "text/plain": [
              "108.40876082658482"
            ]
          },
          "metadata": {
            "tags": []
          },
          "execution_count": 152
        }
      ]
    },
    {
      "cell_type": "code",
      "metadata": {
        "colab": {
          "base_uri": "https://localhost:8080/"
        },
        "id": "cHMNnW_Yz6FB",
        "outputId": "168dd087-c53d-4829-c8e8-7f17f9b759f9"
      },
      "source": [
        "math.sqrt(mean_absolute_error(y_test,test_predict))"
      ],
      "execution_count": 153,
      "outputs": [
        {
          "output_type": "execute_result",
          "data": {
            "text/plain": [
              "108.6008146031377"
            ]
          },
          "metadata": {
            "tags": []
          },
          "execution_count": 153
        }
      ]
    },
    {
      "cell_type": "code",
      "metadata": {
        "id": "lsdiU3hdoP07"
      },
      "source": [
        "y_pred2 = model2.predict(X_test)"
      ],
      "execution_count": null,
      "outputs": []
    }
  ]
}