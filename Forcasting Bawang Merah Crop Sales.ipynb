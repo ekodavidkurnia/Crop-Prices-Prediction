{
 "cells": [
  {
   "cell_type": "code",
   "execution_count": 60,
   "metadata": {},
   "outputs": [],
   "source": [
    "import pandas as pd"
   ]
  },
  {
   "cell_type": "code",
   "execution_count": 79,
   "metadata": {
    "scrolled": false
   },
   "outputs": [
    {
     "data": {
      "text/html": [
       "<div>\n",
       "<style scoped>\n",
       "    .dataframe tbody tr th:only-of-type {\n",
       "        vertical-align: middle;\n",
       "    }\n",
       "\n",
       "    .dataframe tbody tr th {\n",
       "        vertical-align: top;\n",
       "    }\n",
       "\n",
       "    .dataframe thead th {\n",
       "        text-align: right;\n",
       "    }\n",
       "</style>\n",
       "<table border=\"1\" class=\"dataframe\">\n",
       "  <thead>\n",
       "    <tr style=\"text-align: right;\">\n",
       "      <th></th>\n",
       "      <th>Tanggal</th>\n",
       "      <th>Beras</th>\n",
       "      <th>Beras Kualitas Bawah I (kg)</th>\n",
       "      <th>Beras Kualitas Bawah II (kg)</th>\n",
       "      <th>Beras Kualitas Medium I (kg)</th>\n",
       "      <th>Beras Kualitas Medium II (kg)</th>\n",
       "      <th>Beras Kualitas Super I (kg)</th>\n",
       "      <th>Beras Kualitas Super II (kg)</th>\n",
       "      <th>Bawang Merah</th>\n",
       "      <th>Bawang Merah Ukuran Sedang (kg)</th>\n",
       "      <th>Bawang Putih</th>\n",
       "      <th>Bawang Putih Ukuran Sedang (kg)</th>\n",
       "      <th>Cabai Merah</th>\n",
       "      <th>Cabai Merah Besar (kg)</th>\n",
       "      <th>Cabai Merah Keriting  (kg)</th>\n",
       "      <th>Cabai Rawit</th>\n",
       "      <th>Cabai Rawit Hijau (kg)</th>\n",
       "      <th>Cabai Rawit Merah (kg)</th>\n",
       "    </tr>\n",
       "  </thead>\n",
       "  <tbody>\n",
       "    <tr>\n",
       "      <th>0</th>\n",
       "      <td>2017-07-31</td>\n",
       "      <td>11200.0</td>\n",
       "      <td>10150.0</td>\n",
       "      <td>9650.0</td>\n",
       "      <td>11250.0</td>\n",
       "      <td>11150.0</td>\n",
       "      <td>12750.0</td>\n",
       "      <td>12250.0</td>\n",
       "      <td>33500.0</td>\n",
       "      <td>33500.0</td>\n",
       "      <td>33450.0</td>\n",
       "      <td>33450.0</td>\n",
       "      <td>31700.0</td>\n",
       "      <td>32050.0</td>\n",
       "      <td>31400.0</td>\n",
       "      <td>41600.0</td>\n",
       "      <td>34750.0</td>\n",
       "      <td>48700.0</td>\n",
       "    </tr>\n",
       "    <tr>\n",
       "      <th>1</th>\n",
       "      <td>2017-08-01</td>\n",
       "      <td>11200.0</td>\n",
       "      <td>10150.0</td>\n",
       "      <td>9650.0</td>\n",
       "      <td>11250.0</td>\n",
       "      <td>11150.0</td>\n",
       "      <td>12750.0</td>\n",
       "      <td>12250.0</td>\n",
       "      <td>33200.0</td>\n",
       "      <td>33200.0</td>\n",
       "      <td>33350.0</td>\n",
       "      <td>33350.0</td>\n",
       "      <td>32000.0</td>\n",
       "      <td>32250.0</td>\n",
       "      <td>31500.0</td>\n",
       "      <td>41050.0</td>\n",
       "      <td>34800.0</td>\n",
       "      <td>47550.0</td>\n",
       "    </tr>\n",
       "    <tr>\n",
       "      <th>2</th>\n",
       "      <td>2017-08-02</td>\n",
       "      <td>11200.0</td>\n",
       "      <td>10150.0</td>\n",
       "      <td>9650.0</td>\n",
       "      <td>11250.0</td>\n",
       "      <td>11150.0</td>\n",
       "      <td>12750.0</td>\n",
       "      <td>12250.0</td>\n",
       "      <td>32950.0</td>\n",
       "      <td>32950.0</td>\n",
       "      <td>33150.0</td>\n",
       "      <td>33150.0</td>\n",
       "      <td>32200.0</td>\n",
       "      <td>32700.0</td>\n",
       "      <td>31800.0</td>\n",
       "      <td>40600.0</td>\n",
       "      <td>34600.0</td>\n",
       "      <td>46650.0</td>\n",
       "    </tr>\n",
       "    <tr>\n",
       "      <th>3</th>\n",
       "      <td>2017-08-03</td>\n",
       "      <td>11200.0</td>\n",
       "      <td>10150.0</td>\n",
       "      <td>9650.0</td>\n",
       "      <td>11250.0</td>\n",
       "      <td>11150.0</td>\n",
       "      <td>12700.0</td>\n",
       "      <td>12250.0</td>\n",
       "      <td>32650.0</td>\n",
       "      <td>32650.0</td>\n",
       "      <td>33150.0</td>\n",
       "      <td>33150.0</td>\n",
       "      <td>32400.0</td>\n",
       "      <td>33050.0</td>\n",
       "      <td>31850.0</td>\n",
       "      <td>40350.0</td>\n",
       "      <td>34650.0</td>\n",
       "      <td>46050.0</td>\n",
       "    </tr>\n",
       "    <tr>\n",
       "      <th>4</th>\n",
       "      <td>2017-08-04</td>\n",
       "      <td>11300.0</td>\n",
       "      <td>10150.0</td>\n",
       "      <td>10300.0</td>\n",
       "      <td>11250.0</td>\n",
       "      <td>11150.0</td>\n",
       "      <td>12750.0</td>\n",
       "      <td>12250.0</td>\n",
       "      <td>32150.0</td>\n",
       "      <td>32150.0</td>\n",
       "      <td>33000.0</td>\n",
       "      <td>33000.0</td>\n",
       "      <td>32250.0</td>\n",
       "      <td>33150.0</td>\n",
       "      <td>31550.0</td>\n",
       "      <td>40500.0</td>\n",
       "      <td>34600.0</td>\n",
       "      <td>46550.0</td>\n",
       "    </tr>\n",
       "  </tbody>\n",
       "</table>\n",
       "</div>"
      ],
      "text/plain": [
       "      Tanggal    Beras  Beras Kualitas Bawah I (kg)  \\\n",
       "0  2017-07-31  11200.0                      10150.0   \n",
       "1  2017-08-01  11200.0                      10150.0   \n",
       "2  2017-08-02  11200.0                      10150.0   \n",
       "3  2017-08-03  11200.0                      10150.0   \n",
       "4  2017-08-04  11300.0                      10150.0   \n",
       "\n",
       "   Beras Kualitas Bawah II (kg)  Beras Kualitas Medium I (kg)  \\\n",
       "0                        9650.0                       11250.0   \n",
       "1                        9650.0                       11250.0   \n",
       "2                        9650.0                       11250.0   \n",
       "3                        9650.0                       11250.0   \n",
       "4                       10300.0                       11250.0   \n",
       "\n",
       "   Beras Kualitas Medium II (kg)  Beras Kualitas Super I (kg)  \\\n",
       "0                        11150.0                      12750.0   \n",
       "1                        11150.0                      12750.0   \n",
       "2                        11150.0                      12750.0   \n",
       "3                        11150.0                      12700.0   \n",
       "4                        11150.0                      12750.0   \n",
       "\n",
       "   Beras Kualitas Super II (kg)  Bawang Merah  \\\n",
       "0                       12250.0       33500.0   \n",
       "1                       12250.0       33200.0   \n",
       "2                       12250.0       32950.0   \n",
       "3                       12250.0       32650.0   \n",
       "4                       12250.0       32150.0   \n",
       "\n",
       "   Bawang Merah Ukuran Sedang (kg)  Bawang Putih  \\\n",
       "0                          33500.0       33450.0   \n",
       "1                          33200.0       33350.0   \n",
       "2                          32950.0       33150.0   \n",
       "3                          32650.0       33150.0   \n",
       "4                          32150.0       33000.0   \n",
       "\n",
       "   Bawang Putih Ukuran Sedang (kg)  Cabai Merah  Cabai Merah Besar (kg)  \\\n",
       "0                          33450.0      31700.0                 32050.0   \n",
       "1                          33350.0      32000.0                 32250.0   \n",
       "2                          33150.0      32200.0                 32700.0   \n",
       "3                          33150.0      32400.0                 33050.0   \n",
       "4                          33000.0      32250.0                 33150.0   \n",
       "\n",
       "   Cabai Merah Keriting  (kg)  Cabai Rawit  Cabai Rawit Hijau (kg)  \\\n",
       "0                     31400.0      41600.0                 34750.0   \n",
       "1                     31500.0      41050.0                 34800.0   \n",
       "2                     31800.0      40600.0                 34600.0   \n",
       "3                     31850.0      40350.0                 34650.0   \n",
       "4                     31550.0      40500.0                 34600.0   \n",
       "\n",
       "   Cabai Rawit Merah (kg)  \n",
       "0                 48700.0  \n",
       "1                 47550.0  \n",
       "2                 46650.0  \n",
       "3                 46050.0  \n",
       "4                 46550.0  "
      ]
     },
     "execution_count": 79,
     "metadata": {},
     "output_type": "execute_result"
    }
   ],
   "source": [
    "data = pd.read_csv('cleaned_data_pangan.csv')\n",
    "data.head()"
   ]
  },
  {
   "cell_type": "code",
   "execution_count": 3,
   "metadata": {},
   "outputs": [],
   "source": [
    "data['Tanggal'] = pd.to_datetime(data['Tanggal'], infer_datetime_format=True)"
   ]
  },
  {
   "cell_type": "code",
   "execution_count": 4,
   "metadata": {},
   "outputs": [],
   "source": [
    "data.columns = data.columns.str.replace(' ' , '_')"
   ]
  },
  {
   "cell_type": "code",
   "execution_count": 5,
   "metadata": {},
   "outputs": [],
   "source": [
    "df1=data.reset_index()['Bawang_Merah']"
   ]
  },
  {
   "cell_type": "code",
   "execution_count": 6,
   "metadata": {},
   "outputs": [
    {
     "data": {
      "text/plain": [
       "[<matplotlib.lines.Line2D at 0x2220e775b80>]"
      ]
     },
     "execution_count": 6,
     "metadata": {},
     "output_type": "execute_result"
    },
    {
     "data": {
      "image/png": "[encoded data removed]",
      "text/plain": [
       "<Figure size 432x288 with 1 Axes>"
      ]
     },
     "metadata": {
      "needs_background": "light"
     },
     "output_type": "display_data"
    }
   ],
   "source": [
    "import matplotlib.pyplot as plt\n",
    "plt.plot(df1)"
   ]
  },
  {
   "cell_type": "code",
   "execution_count": 61,
   "metadata": {},
   "outputs": [],
   "source": [
    "import numpy as np"
   ]
  },
  {
   "cell_type": "code",
   "execution_count": 7,
   "metadata": {},
   "outputs": [],
   "source": [
    "from sklearn.preprocessing import MinMaxScaler\n",
    "scaler=MinMaxScaler(feature_range=(0,1))\n",
    "df1=scaler.fit_transform(np.array(df1).reshape(-1,1))"
   ]
  },
  {
   "cell_type": "code",
   "execution_count": 8,
   "metadata": {},
   "outputs": [],
   "source": [
    "##splitting dataset into train and test split\n",
    "training_size=int(len(df1)*0.65)\n",
    "test_size=len(df1)-training_size\n",
    "train_data,test_data=df1[0:training_size,:],df1[training_size:len(df1),:1]"
   ]
  },
  {
   "cell_type": "code",
   "execution_count": 9,
   "metadata": {},
   "outputs": [
    {
     "data": {
      "text/plain": [
       "(890, 480)"
      ]
     },
     "execution_count": 9,
     "metadata": {},
     "output_type": "execute_result"
    }
   ],
   "source": [
    "training_size,test_size"
   ]
  },
  {
   "cell_type": "code",
   "execution_count": 10,
   "metadata": {},
   "outputs": [],
   "source": [
    "import numpy\n",
    "# convert an array of values into a dataset matrix\n",
    "def create_dataset(dataset, time_step=1):\n",
    "    dataX, dataY = [], []\n",
    "    for i in range(len(dataset)-time_step-1):\n",
    "        a = dataset[i:(i+time_step), 0]   ###i=0, 0,1,2,3-----99   100 \n",
    "        dataX.append(a)\n",
    "        dataY.append(dataset[i + time_step, 0])\n",
    "    return numpy.array(dataX), numpy.array(dataY)"
   ]
  },
  {
   "cell_type": "code",
   "execution_count": 11,
   "metadata": {},
   "outputs": [],
   "source": [
    "# reshape into X=t,t+1,t+2,t+3 and Y=t+4\n",
    "time_step = 100\n",
    "X_train, y_train = create_dataset(train_data, time_step)\n",
    "X_test, ytest = create_dataset(test_data, time_step)"
   ]
  },
  {
   "cell_type": "code",
   "execution_count": 12,
   "metadata": {},
   "outputs": [
    {
     "name": "stdout",
     "output_type": "stream",
     "text": [
      "(789, 100)\n",
      "(789,)\n"
     ]
    },
    {
     "data": {
      "text/plain": [
       "(None, None)"
      ]
     },
     "execution_count": 12,
     "metadata": {},
     "output_type": "execute_result"
    }
   ],
   "source": [
    "print(X_train.shape), print(y_train.shape)"
   ]
  },
  {
   "cell_type": "code",
   "execution_count": 13,
   "metadata": {},
   "outputs": [
    {
     "name": "stdout",
     "output_type": "stream",
     "text": [
      "(379, 100)\n",
      "(379,)\n"
     ]
    },
    {
     "data": {
      "text/plain": [
       "(None, None)"
      ]
     },
     "execution_count": 13,
     "metadata": {},
     "output_type": "execute_result"
    }
   ],
   "source": [
    "print(X_test.shape), print(ytest.shape)"
   ]
  },
  {
   "cell_type": "code",
   "execution_count": 14,
   "metadata": {},
   "outputs": [],
   "source": [
    "# reshape input to be [samples, time steps, features] which is required for LSTM\n",
    "X_train =X_train.reshape(X_train.shape[0],X_train.shape[1] , 1)\n",
    "X_test = X_test.reshape(X_test.shape[0],X_test.shape[1] , 1)"
   ]
  },
  {
   "cell_type": "code",
   "execution_count": 15,
   "metadata": {},
   "outputs": [],
   "source": [
    "### Create the Stacked LSTM model\n",
    "from tensorflow.keras.models import Sequential\n",
    "from tensorflow.keras.layers import Dense\n",
    "from tensorflow.keras.layers import LSTM"
   ]
  },
  {
   "cell_type": "code",
   "execution_count": 39,
   "metadata": {},
   "outputs": [],
   "source": [
    "model=Sequential()\n",
    "model.add(LSTM(50,return_sequences=True,input_shape=(100,1)))\n",
    "model.add(LSTM(50,return_sequences=True))\n",
    "model.add(LSTM(50))\n",
    "model.add(Dense(1))"
   ]
  },
  {
   "cell_type": "code",
   "execution_count": 40,
   "metadata": {},
   "outputs": [
    {
     "name": "stdout",
     "output_type": "stream",
     "text": [
      "Model: \"sequential_1\"\n",
      "_________________________________________________________________\n",
      "Layer (type)                 Output Shape              Param #   \n",
      "=================================================================\n",
      "lstm_3 (LSTM)                (None, 100, 50)           10400     \n",
      "_________________________________________________________________\n",
      "lstm_4 (LSTM)                (None, 100, 50)           20200     \n",
      "_________________________________________________________________\n",
      "lstm_5 (LSTM)                (None, 50)                20200     \n",
      "_________________________________________________________________\n",
      "dense_1 (Dense)              (None, 1)                 51        \n",
      "=================================================================\n",
      "Total params: 50,851\n",
      "Trainable params: 50,851\n",
      "Non-trainable params: 0\n",
      "_________________________________________________________________\n"
     ]
    }
   ],
   "source": [
    "model.summary()"
   ]
  },
  {
   "cell_type": "code",
   "execution_count": 41,
   "metadata": {},
   "outputs": [
    {
     "name": "stdout",
     "output_type": "stream",
     "text": [
      "Epoch 1/50\n",
      "13/13 [==============================] - 5s 422ms/step - loss: 0.0164 - mean_absolute_error: 0.1007 - val_loss: 0.0242 - val_mean_absolute_error: 0.1012\n",
      "Epoch 2/50\n",
      "13/13 [==============================] - 3s 232ms/step - loss: 0.0060 - mean_absolute_error: 0.0606 - val_loss: 0.0083 - val_mean_absolute_error: 0.0738\n",
      "Epoch 3/50\n",
      "13/13 [==============================] - 3s 229ms/step - loss: 0.0057 - mean_absolute_error: 0.0626 - val_loss: 0.0056 - val_mean_absolute_error: 0.0548\n",
      "Epoch 4/50\n",
      "13/13 [==============================] - 3s 227ms/step - loss: 0.0036 - mean_absolute_error: 0.0482 - val_loss: 0.0055 - val_mean_absolute_error: 0.0525\n",
      "Epoch 5/50\n",
      "13/13 [==============================] - 3s 227ms/step - loss: 0.0026 - mean_absolute_error: 0.0396 - val_loss: 0.0051 - val_mean_absolute_error: 0.0472\n",
      "Epoch 6/50\n",
      "13/13 [==============================] - 3s 229ms/step - loss: 0.0020 - mean_absolute_error: 0.0328 - val_loss: 0.0033 - val_mean_absolute_error: 0.0350\n",
      "Epoch 7/50\n",
      "13/13 [==============================] - 3s 223ms/step - loss: 0.0017 - mean_absolute_error: 0.0280 - val_loss: 0.0024 - val_mean_absolute_error: 0.0399\n",
      "Epoch 8/50\n",
      "13/13 [==============================] - 3s 231ms/step - loss: 0.0027 - mean_absolute_error: 0.0362 - val_loss: 0.0120 - val_mean_absolute_error: 0.0940\n",
      "Epoch 9/50\n",
      "13/13 [==============================] - 3s 210ms/step - loss: 0.0045 - mean_absolute_error: 0.0514 - val_loss: 0.0025 - val_mean_absolute_error: 0.0394\n",
      "Epoch 10/50\n",
      "13/13 [==============================] - 3s 234ms/step - loss: 0.0028 - mean_absolute_error: 0.0409 - val_loss: 0.0045 - val_mean_absolute_error: 0.0434\n"
     ]
    }
   ],
   "source": [
    "early_stopping = tf.keras.callbacks.EarlyStopping(monitor= 'val_loss',\n",
    "                                                 patience=3,\n",
    "                                                 mode='min')\n",
    "\n",
    "model.compile(loss=tf.losses.MeanSquaredError(), \n",
    "              optimizer='adam', \n",
    "             metrics = [tf.metrics.MeanAbsoluteError()])\n",
    "\n",
    "history = model.fit(X_train,y_train, epochs = 50,\n",
    "                    validation_data = (X_test,ytest),                    \n",
    "                    shuffle = False,\n",
    "                    batch_size = 64,\n",
    "                    verbose = 1,\n",
    "                    callbacks=[early_stopping])"
   ]
  },
  {
   "cell_type": "code",
   "execution_count": 42,
   "metadata": {
    "scrolled": true
   },
   "outputs": [
    {
     "data": {
      "text/plain": [
       "<matplotlib.legend.Legend at 0x2222c5f3af0>"
      ]
     },
     "execution_count": 42,
     "metadata": {},
     "output_type": "execute_result"
    },
    {
     "data": {
      "image/png": "[encoded data removed]",
      "text/plain": [
       "<Figure size 432x288 with 1 Axes>"
      ]
     },
     "metadata": {
      "needs_background": "light"
     },
     "output_type": "display_data"
    }
   ],
   "source": [
    "plt.plot(history.history['loss'], label='train')\n",
    "plt.plot(history.history['val_loss'], label='test')\n",
    "plt.legend()"
   ]
  },
  {
   "cell_type": "code",
   "execution_count": 20,
   "metadata": {},
   "outputs": [],
   "source": [
    "import tensorflow as tf"
   ]
  },
  {
   "cell_type": "code",
   "execution_count": 21,
   "metadata": {},
   "outputs": [
    {
     "data": {
      "text/plain": [
       "'2.3.1'"
      ]
     },
     "execution_count": 21,
     "metadata": {},
     "output_type": "execute_result"
    }
   ],
   "source": [
    "tf.__version__"
   ]
  },
  {
   "cell_type": "code",
   "execution_count": 43,
   "metadata": {},
   "outputs": [],
   "source": [
    "### Lets Do the prediction and check performance metrics\n",
    "train_predict=model.predict(X_train)\n",
    "test_predict=model.predict(X_test)"
   ]
  },
  {
   "cell_type": "code",
   "execution_count": 44,
   "metadata": {},
   "outputs": [],
   "source": [
    "##Transformback to original form\n",
    "train_predict=scaler.inverse_transform(train_predict)\n",
    "test_predict=scaler.inverse_transform(test_predict)"
   ]
  },
  {
   "cell_type": "code",
   "execution_count": 45,
   "metadata": {},
   "outputs": [
    {
     "data": {
      "text/plain": [
       "30063.746746028923"
      ]
     },
     "execution_count": 45,
     "metadata": {},
     "output_type": "execute_result"
    }
   ],
   "source": [
    "### Calculate RMSE performance metrics\n",
    "import math\n",
    "from sklearn.metrics import mean_squared_error\n",
    "math.sqrt(mean_squared_error(y_train,train_predict))"
   ]
  },
  {
   "cell_type": "code",
   "execution_count": 46,
   "metadata": {},
   "outputs": [
    {
     "data": {
      "text/plain": [
       "36768.97321593936"
      ]
     },
     "execution_count": 46,
     "metadata": {},
     "output_type": "execute_result"
    }
   ],
   "source": [
    "### Test Data RMSE\n",
    "math.sqrt(mean_squared_error(ytest,test_predict))"
   ]
  },
  {
   "cell_type": "code",
   "execution_count": 47,
   "metadata": {},
   "outputs": [
    {
     "data": {
      "image/png": "[encoded data removed]",
      "text/plain": [
       "<Figure size 432x288 with 1 Axes>"
      ]
     },
     "metadata": {
      "needs_background": "light"
     },
     "output_type": "display_data"
    }
   ],
   "source": [
    "### Plotting \n",
    "# shift train predictions for plotting\n",
    "look_back=100\n",
    "trainPredictPlot = numpy.empty_like(df1)\n",
    "trainPredictPlot[:, :] = np.nan\n",
    "trainPredictPlot[look_back:len(train_predict)+look_back, :] = train_predict\n",
    "# shift test predictions for plotting\n",
    "testPredictPlot = numpy.empty_like(df1)\n",
    "testPredictPlot[:, :] = numpy.nan\n",
    "testPredictPlot[len(train_predict)+(look_back*2)+1:len(df1)-1, :] = test_predict\n",
    "# plot baseline and predictions\n",
    "plt.plot(scaler.inverse_transform(df1))\n",
    "plt.plot(trainPredictPlot)\n",
    "plt.plot(testPredictPlot)\n",
    "plt.show()"
   ]
  },
  {
   "cell_type": "code",
   "execution_count": 48,
   "metadata": {},
   "outputs": [
    {
     "data": {
      "text/plain": [
       "480"
      ]
     },
     "execution_count": 48,
     "metadata": {},
     "output_type": "execute_result"
    }
   ],
   "source": [
    "len(test_data)"
   ]
  },
  {
   "cell_type": "code",
   "execution_count": 49,
   "metadata": {},
   "outputs": [
    {
     "data": {
      "text/plain": [
       "(1, 100)"
      ]
     },
     "execution_count": 49,
     "metadata": {},
     "output_type": "execute_result"
    }
   ],
   "source": [
    "x_input=test_data[380:].reshape(1,-1)\n",
    "x_input.shape"
   ]
  },
  {
   "cell_type": "code",
   "execution_count": 50,
   "metadata": {},
   "outputs": [],
   "source": [
    "temp_input=list(x_input)\n",
    "temp_input=temp_input[0].tolist()"
   ]
  },
  {
   "cell_type": "code",
   "execution_count": 51,
   "metadata": {},
   "outputs": [
    {
     "data": {
      "text/plain": [
       "[0.2900662251655629,\n",
       " 0.2887417218543046,\n",
       " 0.2847682119205298,\n",
       " 0.28079470198675494,\n",
       " 0.27682119205298017,\n",
       " 0.2781456953642384,\n",
       " 0.2794701986754967,\n",
       " 0.27152317880794696,\n",
       " 0.27019867549668874,\n",
       " 0.26843267108167757,\n",
       " 0.26666666666666683,\n",
       " 0.26490066225165565,\n",
       " 0.2635761589403973,\n",
       " 0.2609271523178808,\n",
       " 0.2622516556291391,\n",
       " 0.25960264900662255,\n",
       " 0.25960264900662255,\n",
       " 0.25960264900662255,\n",
       " 0.25960264900662255,\n",
       " 0.2622516556291391,\n",
       " 0.2728476821192053,\n",
       " 0.28079470198675494,\n",
       " 0.2850993377483444,\n",
       " 0.28940397350993374,\n",
       " 0.2937086092715232,\n",
       " 0.29801324503311255,\n",
       " 0.2993377483443709,\n",
       " 0.304635761589404,\n",
       " 0.30331125827814565,\n",
       " 0.3019867549668874,\n",
       " 0.3059602649006622,\n",
       " 0.30993377483443707,\n",
       " 0.31390728476821195,\n",
       " 0.31920529801324504,\n",
       " 0.3231788079470198,\n",
       " 0.32582781456953636,\n",
       " 0.328476821192053,\n",
       " 0.33200883002207515,\n",
       " 0.33554083885209707,\n",
       " 0.3390728476821192,\n",
       " 0.34304635761589397,\n",
       " 0.3496688741721854,\n",
       " 0.35231788079470194,\n",
       " 0.3536423841059603,\n",
       " 0.3571743929359824,\n",
       " 0.3607064017660043,\n",
       " 0.36423841059602646,\n",
       " 0.3655629139072848,\n",
       " 0.36423841059602646,\n",
       " 0.3655629139072848,\n",
       " 0.366887417218543,\n",
       " 0.36732891832229575,\n",
       " 0.3677704194260486,\n",
       " 0.36821192052980134,\n",
       " 0.36821192052980134,\n",
       " 0.36821192052980134,\n",
       " 0.3655629139072848,\n",
       " 0.36953642384105956,\n",
       " 0.36865342163355397,\n",
       " 0.3677704194260486,\n",
       " 0.366887417218543,\n",
       " 0.3615894039735099,\n",
       " 0.3615894039735099,\n",
       " 0.35894039735099337,\n",
       " 0.3562913907284768,\n",
       " 0.35452538631346586,\n",
       " 0.3527593818984547,\n",
       " 0.3509933774834437,\n",
       " 0.3496688741721854,\n",
       " 0.34701986754966885,\n",
       " 0.34304635761589397,\n",
       " 0.340728476821192,\n",
       " 0.33841059602649004,\n",
       " 0.3360927152317881,\n",
       " 0.3337748344370861,\n",
       " 0.3337748344370861,\n",
       " 0.32980132450331123,\n",
       " 0.328476821192053,\n",
       " 0.328476821192053,\n",
       " 0.33200883002207515,\n",
       " 0.33554083885209707,\n",
       " 0.3390728476821192,\n",
       " 0.3377483443708609,\n",
       " 0.3377483443708609,\n",
       " 0.3377483443708609,\n",
       " 0.33642384105960266,\n",
       " 0.33554083885209707,\n",
       " 0.3346578366445917,\n",
       " 0.3337748344370861,\n",
       " 0.33112582781456956,\n",
       " 0.328476821192053,\n",
       " 0.32450331125827814,\n",
       " 0.3231788079470198,\n",
       " 0.32008830022075063,\n",
       " 0.3169977924944811,\n",
       " 0.31390728476821195,\n",
       " 0.3125827814569536,\n",
       " 0.3112582781456954,\n",
       " 0.30860927152317874,\n",
       " 0.30860927152317874]"
      ]
     },
     "execution_count": 51,
     "metadata": {},
     "output_type": "execute_result"
    }
   ],
   "source": [
    "temp_input"
   ]
  },
  {
   "cell_type": "code",
   "execution_count": 52,
   "metadata": {},
   "outputs": [
    {
     "name": "stdout",
     "output_type": "stream",
     "text": [
      "[0.298335]\n",
      "101\n",
      "1 day input [0.28874172 0.28476821 0.2807947  0.27682119 0.2781457  0.2794702\n",
      " 0.27152318 0.27019868 0.26843267 0.26666667 0.26490066 0.26357616\n",
      " 0.26092715 0.26225166 0.25960265 0.25960265 0.25960265 0.25960265\n",
      " 0.26225166 0.27284768 0.2807947  0.28509934 0.28940397 0.29370861\n",
      " 0.29801325 0.29933775 0.30463576 0.30331126 0.30198675 0.30596026\n",
      " 0.30993377 0.31390728 0.3192053  0.32317881 0.32582781 0.32847682\n",
      " 0.33200883 0.33554084 0.33907285 0.34304636 0.34966887 0.35231788\n",
      " 0.35364238 0.35717439 0.3607064  0.36423841 0.36556291 0.36423841\n",
      " 0.36556291 0.36688742 0.36732892 0.36777042 0.36821192 0.36821192\n",
      " 0.36821192 0.36556291 0.36953642 0.36865342 0.36777042 0.36688742\n",
      " 0.3615894  0.3615894  0.3589404  0.35629139 0.35452539 0.35275938\n",
      " 0.35099338 0.34966887 0.34701987 0.34304636 0.34072848 0.3384106\n",
      " 0.33609272 0.33377483 0.33377483 0.32980132 0.32847682 0.32847682\n",
      " 0.33200883 0.33554084 0.33907285 0.33774834 0.33774834 0.33774834\n",
      " 0.33642384 0.33554084 0.33465784 0.33377483 0.33112583 0.32847682\n",
      " 0.32450331 0.32317881 0.3200883  0.31699779 0.31390728 0.31258278\n",
      " 0.31125828 0.30860927 0.30860927 0.29833499]\n",
      "1 day output [[0.29637527]]\n",
      "2 day input [0.28476821 0.2807947  0.27682119 0.2781457  0.2794702  0.27152318\n",
      " 0.27019868 0.26843267 0.26666667 0.26490066 0.26357616 0.26092715\n",
      " 0.26225166 0.25960265 0.25960265 0.25960265 0.25960265 0.26225166\n",
      " 0.27284768 0.2807947  0.28509934 0.28940397 0.29370861 0.29801325\n",
      " 0.29933775 0.30463576 0.30331126 0.30198675 0.30596026 0.30993377\n",
      " 0.31390728 0.3192053  0.32317881 0.32582781 0.32847682 0.33200883\n",
      " 0.33554084 0.33907285 0.34304636 0.34966887 0.35231788 0.35364238\n",
      " 0.35717439 0.3607064  0.36423841 0.36556291 0.36423841 0.36556291\n",
      " 0.36688742 0.36732892 0.36777042 0.36821192 0.36821192 0.36821192\n",
      " 0.36556291 0.36953642 0.36865342 0.36777042 0.36688742 0.3615894\n",
      " 0.3615894  0.3589404  0.35629139 0.35452539 0.35275938 0.35099338\n",
      " 0.34966887 0.34701987 0.34304636 0.34072848 0.3384106  0.33609272\n",
      " 0.33377483 0.33377483 0.32980132 0.32847682 0.32847682 0.33200883\n",
      " 0.33554084 0.33907285 0.33774834 0.33774834 0.33774834 0.33642384\n",
      " 0.33554084 0.33465784 0.33377483 0.33112583 0.32847682 0.32450331\n",
      " 0.32317881 0.3200883  0.31699779 0.31390728 0.31258278 0.31125828\n",
      " 0.30860927 0.30860927 0.29833499 0.29637527]\n",
      "2 day output [[0.29423806]]\n",
      "3 day input [0.2807947  0.27682119 0.2781457  0.2794702  0.27152318 0.27019868\n",
      " 0.26843267 0.26666667 0.26490066 0.26357616 0.26092715 0.26225166\n",
      " 0.25960265 0.25960265 0.25960265 0.25960265 0.26225166 0.27284768\n",
      " 0.2807947  0.28509934 0.28940397 0.29370861 0.29801325 0.29933775\n",
      " 0.30463576 0.30331126 0.30198675 0.30596026 0.30993377 0.31390728\n",
      " 0.3192053  0.32317881 0.32582781 0.32847682 0.33200883 0.33554084\n",
      " 0.33907285 0.34304636 0.34966887 0.35231788 0.35364238 0.35717439\n",
      " 0.3607064  0.36423841 0.36556291 0.36423841 0.36556291 0.36688742\n",
      " 0.36732892 0.36777042 0.36821192 0.36821192 0.36821192 0.36556291\n",
      " 0.36953642 0.36865342 0.36777042 0.36688742 0.3615894  0.3615894\n",
      " 0.3589404  0.35629139 0.35452539 0.35275938 0.35099338 0.34966887\n",
      " 0.34701987 0.34304636 0.34072848 0.3384106  0.33609272 0.33377483\n",
      " 0.33377483 0.32980132 0.32847682 0.32847682 0.33200883 0.33554084\n",
      " 0.33907285 0.33774834 0.33774834 0.33774834 0.33642384 0.33554084\n",
      " 0.33465784 0.33377483 0.33112583 0.32847682 0.32450331 0.32317881\n",
      " 0.3200883  0.31699779 0.31390728 0.31258278 0.31125828 0.30860927\n",
      " 0.30860927 0.29833499 0.29637527 0.29423806]\n",
      "3 day output [[0.29193756]]\n",
      "4 day input [0.27682119 0.2781457  0.2794702  0.27152318 0.27019868 0.26843267\n",
      " 0.26666667 0.26490066 0.26357616 0.26092715 0.26225166 0.25960265\n",
      " 0.25960265 0.25960265 0.25960265 0.26225166 0.27284768 0.2807947\n",
      " 0.28509934 0.28940397 0.29370861 0.29801325 0.29933775 0.30463576\n",
      " 0.30331126 0.30198675 0.30596026 0.30993377 0.31390728 0.3192053\n",
      " 0.32317881 0.32582781 0.32847682 0.33200883 0.33554084 0.33907285\n",
      " 0.34304636 0.34966887 0.35231788 0.35364238 0.35717439 0.3607064\n",
      " 0.36423841 0.36556291 0.36423841 0.36556291 0.36688742 0.36732892\n",
      " 0.36777042 0.36821192 0.36821192 0.36821192 0.36556291 0.36953642\n",
      " 0.36865342 0.36777042 0.36688742 0.3615894  0.3615894  0.3589404\n",
      " 0.35629139 0.35452539 0.35275938 0.35099338 0.34966887 0.34701987\n",
      " 0.34304636 0.34072848 0.3384106  0.33609272 0.33377483 0.33377483\n",
      " 0.32980132 0.32847682 0.32847682 0.33200883 0.33554084 0.33907285\n",
      " 0.33774834 0.33774834 0.33774834 0.33642384 0.33554084 0.33465784\n",
      " 0.33377483 0.33112583 0.32847682 0.32450331 0.32317881 0.3200883\n",
      " 0.31699779 0.31390728 0.31258278 0.31125828 0.30860927 0.30860927\n",
      " 0.29833499 0.29637527 0.29423806 0.29193756]\n",
      "4 day output [[0.28949967]]\n",
      "5 day input [0.2781457  0.2794702  0.27152318 0.27019868 0.26843267 0.26666667\n",
      " 0.26490066 0.26357616 0.26092715 0.26225166 0.25960265 0.25960265\n",
      " 0.25960265 0.25960265 0.26225166 0.27284768 0.2807947  0.28509934\n",
      " 0.28940397 0.29370861 0.29801325 0.29933775 0.30463576 0.30331126\n",
      " 0.30198675 0.30596026 0.30993377 0.31390728 0.3192053  0.32317881\n",
      " 0.32582781 0.32847682 0.33200883 0.33554084 0.33907285 0.34304636\n",
      " 0.34966887 0.35231788 0.35364238 0.35717439 0.3607064  0.36423841\n",
      " 0.36556291 0.36423841 0.36556291 0.36688742 0.36732892 0.36777042\n",
      " 0.36821192 0.36821192 0.36821192 0.36556291 0.36953642 0.36865342\n",
      " 0.36777042 0.36688742 0.3615894  0.3615894  0.3589404  0.35629139\n",
      " 0.35452539 0.35275938 0.35099338 0.34966887 0.34701987 0.34304636\n",
      " 0.34072848 0.3384106  0.33609272 0.33377483 0.33377483 0.32980132\n",
      " 0.32847682 0.32847682 0.33200883 0.33554084 0.33907285 0.33774834\n",
      " 0.33774834 0.33774834 0.33642384 0.33554084 0.33465784 0.33377483\n",
      " 0.33112583 0.32847682 0.32450331 0.32317881 0.3200883  0.31699779\n",
      " 0.31390728 0.31258278 0.31125828 0.30860927 0.30860927 0.29833499\n",
      " 0.29637527 0.29423806 0.29193756 0.28949967]\n",
      "5 day output [[0.28695533]]\n",
      "6 day input [0.2794702  0.27152318 0.27019868 0.26843267 0.26666667 0.26490066\n",
      " 0.26357616 0.26092715 0.26225166 0.25960265 0.25960265 0.25960265\n",
      " 0.25960265 0.26225166 0.27284768 0.2807947  0.28509934 0.28940397\n",
      " 0.29370861 0.29801325 0.29933775 0.30463576 0.30331126 0.30198675\n",
      " 0.30596026 0.30993377 0.31390728 0.3192053  0.32317881 0.32582781\n",
      " 0.32847682 0.33200883 0.33554084 0.33907285 0.34304636 0.34966887\n",
      " 0.35231788 0.35364238 0.35717439 0.3607064  0.36423841 0.36556291\n",
      " 0.36423841 0.36556291 0.36688742 0.36732892 0.36777042 0.36821192\n",
      " 0.36821192 0.36821192 0.36556291 0.36953642 0.36865342 0.36777042\n",
      " 0.36688742 0.3615894  0.3615894  0.3589404  0.35629139 0.35452539\n",
      " 0.35275938 0.35099338 0.34966887 0.34701987 0.34304636 0.34072848\n",
      " 0.3384106  0.33609272 0.33377483 0.33377483 0.32980132 0.32847682\n",
      " 0.32847682 0.33200883 0.33554084 0.33907285 0.33774834 0.33774834\n",
      " 0.33774834 0.33642384 0.33554084 0.33465784 0.33377483 0.33112583\n",
      " 0.32847682 0.32450331 0.32317881 0.3200883  0.31699779 0.31390728\n",
      " 0.31258278 0.31125828 0.30860927 0.30860927 0.29833499 0.29637527\n",
      " 0.29423806 0.29193756 0.28949967 0.28695533]\n",
      "6 day output [[0.28433645]]\n",
      "7 day input [0.27152318 0.27019868 0.26843267 0.26666667 0.26490066 0.26357616\n",
      " 0.26092715 0.26225166 0.25960265 0.25960265 0.25960265 0.25960265\n",
      " 0.26225166 0.27284768 0.2807947  0.28509934 0.28940397 0.29370861\n",
      " 0.29801325 0.29933775 0.30463576 0.30331126 0.30198675 0.30596026\n",
      " 0.30993377 0.31390728 0.3192053  0.32317881 0.32582781 0.32847682\n",
      " 0.33200883 0.33554084 0.33907285 0.34304636 0.34966887 0.35231788\n",
      " 0.35364238 0.35717439 0.3607064  0.36423841 0.36556291 0.36423841\n",
      " 0.36556291 0.36688742 0.36732892 0.36777042 0.36821192 0.36821192\n",
      " 0.36821192 0.36556291 0.36953642 0.36865342 0.36777042 0.36688742\n",
      " 0.3615894  0.3615894  0.3589404  0.35629139 0.35452539 0.35275938\n",
      " 0.35099338 0.34966887 0.34701987 0.34304636 0.34072848 0.3384106\n",
      " 0.33609272 0.33377483 0.33377483 0.32980132 0.32847682 0.32847682\n",
      " 0.33200883 0.33554084 0.33907285 0.33774834 0.33774834 0.33774834\n",
      " 0.33642384 0.33554084 0.33465784 0.33377483 0.33112583 0.32847682\n",
      " 0.32450331 0.32317881 0.3200883  0.31699779 0.31390728 0.31258278\n",
      " 0.31125828 0.30860927 0.30860927 0.29833499 0.29637527 0.29423806\n",
      " 0.29193756 0.28949967 0.28695533 0.28433645]\n",
      "7 day output [[0.28167188]]\n",
      "8 day input [0.27019868 0.26843267 0.26666667 0.26490066 0.26357616 0.26092715\n",
      " 0.26225166 0.25960265 0.25960265 0.25960265 0.25960265 0.26225166\n",
      " 0.27284768 0.2807947  0.28509934 0.28940397 0.29370861 0.29801325\n",
      " 0.29933775 0.30463576 0.30331126 0.30198675 0.30596026 0.30993377\n",
      " 0.31390728 0.3192053  0.32317881 0.32582781 0.32847682 0.33200883\n",
      " 0.33554084 0.33907285 0.34304636 0.34966887 0.35231788 0.35364238\n",
      " 0.35717439 0.3607064  0.36423841 0.36556291 0.36423841 0.36556291\n",
      " 0.36688742 0.36732892 0.36777042 0.36821192 0.36821192 0.36821192\n",
      " 0.36556291 0.36953642 0.36865342 0.36777042 0.36688742 0.3615894\n",
      " 0.3615894  0.3589404  0.35629139 0.35452539 0.35275938 0.35099338\n",
      " 0.34966887 0.34701987 0.34304636 0.34072848 0.3384106  0.33609272\n",
      " 0.33377483 0.33377483 0.32980132 0.32847682 0.32847682 0.33200883\n",
      " 0.33554084 0.33907285 0.33774834 0.33774834 0.33774834 0.33642384\n",
      " 0.33554084 0.33465784 0.33377483 0.33112583 0.32847682 0.32450331\n",
      " 0.32317881 0.3200883  0.31699779 0.31390728 0.31258278 0.31125828\n",
      " 0.30860927 0.30860927 0.29833499 0.29637527 0.29423806 0.29193756\n",
      " 0.28949967 0.28695533 0.28433645 0.28167188]\n"
     ]
    },
    {
     "name": "stdout",
     "output_type": "stream",
     "text": [
      "8 day output [[0.2789861]]\n",
      "9 day input [0.26843267 0.26666667 0.26490066 0.26357616 0.26092715 0.26225166\n",
      " 0.25960265 0.25960265 0.25960265 0.25960265 0.26225166 0.27284768\n",
      " 0.2807947  0.28509934 0.28940397 0.29370861 0.29801325 0.29933775\n",
      " 0.30463576 0.30331126 0.30198675 0.30596026 0.30993377 0.31390728\n",
      " 0.3192053  0.32317881 0.32582781 0.32847682 0.33200883 0.33554084\n",
      " 0.33907285 0.34304636 0.34966887 0.35231788 0.35364238 0.35717439\n",
      " 0.3607064  0.36423841 0.36556291 0.36423841 0.36556291 0.36688742\n",
      " 0.36732892 0.36777042 0.36821192 0.36821192 0.36821192 0.36556291\n",
      " 0.36953642 0.36865342 0.36777042 0.36688742 0.3615894  0.3615894\n",
      " 0.3589404  0.35629139 0.35452539 0.35275938 0.35099338 0.34966887\n",
      " 0.34701987 0.34304636 0.34072848 0.3384106  0.33609272 0.33377483\n",
      " 0.33377483 0.32980132 0.32847682 0.32847682 0.33200883 0.33554084\n",
      " 0.33907285 0.33774834 0.33774834 0.33774834 0.33642384 0.33554084\n",
      " 0.33465784 0.33377483 0.33112583 0.32847682 0.32450331 0.32317881\n",
      " 0.3200883  0.31699779 0.31390728 0.31258278 0.31125828 0.30860927\n",
      " 0.30860927 0.29833499 0.29637527 0.29423806 0.29193756 0.28949967\n",
      " 0.28695533 0.28433645 0.28167188 0.2789861 ]\n",
      "9 day output [[0.27629888]]\n",
      "10 day input [0.26666667 0.26490066 0.26357616 0.26092715 0.26225166 0.25960265\n",
      " 0.25960265 0.25960265 0.25960265 0.26225166 0.27284768 0.2807947\n",
      " 0.28509934 0.28940397 0.29370861 0.29801325 0.29933775 0.30463576\n",
      " 0.30331126 0.30198675 0.30596026 0.30993377 0.31390728 0.3192053\n",
      " 0.32317881 0.32582781 0.32847682 0.33200883 0.33554084 0.33907285\n",
      " 0.34304636 0.34966887 0.35231788 0.35364238 0.35717439 0.3607064\n",
      " 0.36423841 0.36556291 0.36423841 0.36556291 0.36688742 0.36732892\n",
      " 0.36777042 0.36821192 0.36821192 0.36821192 0.36556291 0.36953642\n",
      " 0.36865342 0.36777042 0.36688742 0.3615894  0.3615894  0.3589404\n",
      " 0.35629139 0.35452539 0.35275938 0.35099338 0.34966887 0.34701987\n",
      " 0.34304636 0.34072848 0.3384106  0.33609272 0.33377483 0.33377483\n",
      " 0.32980132 0.32847682 0.32847682 0.33200883 0.33554084 0.33907285\n",
      " 0.33774834 0.33774834 0.33774834 0.33642384 0.33554084 0.33465784\n",
      " 0.33377483 0.33112583 0.32847682 0.32450331 0.32317881 0.3200883\n",
      " 0.31699779 0.31390728 0.31258278 0.31125828 0.30860927 0.30860927\n",
      " 0.29833499 0.29637527 0.29423806 0.29193756 0.28949967 0.28695533\n",
      " 0.28433645 0.28167188 0.2789861  0.27629888]\n",
      "10 day output [[0.27362484]]\n",
      "11 day input [0.26490066 0.26357616 0.26092715 0.26225166 0.25960265 0.25960265\n",
      " 0.25960265 0.25960265 0.26225166 0.27284768 0.2807947  0.28509934\n",
      " 0.28940397 0.29370861 0.29801325 0.29933775 0.30463576 0.30331126\n",
      " 0.30198675 0.30596026 0.30993377 0.31390728 0.3192053  0.32317881\n",
      " 0.32582781 0.32847682 0.33200883 0.33554084 0.33907285 0.34304636\n",
      " 0.34966887 0.35231788 0.35364238 0.35717439 0.3607064  0.36423841\n",
      " 0.36556291 0.36423841 0.36556291 0.36688742 0.36732892 0.36777042\n",
      " 0.36821192 0.36821192 0.36821192 0.36556291 0.36953642 0.36865342\n",
      " 0.36777042 0.36688742 0.3615894  0.3615894  0.3589404  0.35629139\n",
      " 0.35452539 0.35275938 0.35099338 0.34966887 0.34701987 0.34304636\n",
      " 0.34072848 0.3384106  0.33609272 0.33377483 0.33377483 0.32980132\n",
      " 0.32847682 0.32847682 0.33200883 0.33554084 0.33907285 0.33774834\n",
      " 0.33774834 0.33774834 0.33642384 0.33554084 0.33465784 0.33377483\n",
      " 0.33112583 0.32847682 0.32450331 0.32317881 0.3200883  0.31699779\n",
      " 0.31390728 0.31258278 0.31125828 0.30860927 0.30860927 0.29833499\n",
      " 0.29637527 0.29423806 0.29193756 0.28949967 0.28695533 0.28433645\n",
      " 0.28167188 0.2789861  0.27629888 0.27362484]\n",
      "11 day output [[0.27097437]]\n",
      "12 day input [0.26357616 0.26092715 0.26225166 0.25960265 0.25960265 0.25960265\n",
      " 0.25960265 0.26225166 0.27284768 0.2807947  0.28509934 0.28940397\n",
      " 0.29370861 0.29801325 0.29933775 0.30463576 0.30331126 0.30198675\n",
      " 0.30596026 0.30993377 0.31390728 0.3192053  0.32317881 0.32582781\n",
      " 0.32847682 0.33200883 0.33554084 0.33907285 0.34304636 0.34966887\n",
      " 0.35231788 0.35364238 0.35717439 0.3607064  0.36423841 0.36556291\n",
      " 0.36423841 0.36556291 0.36688742 0.36732892 0.36777042 0.36821192\n",
      " 0.36821192 0.36821192 0.36556291 0.36953642 0.36865342 0.36777042\n",
      " 0.36688742 0.3615894  0.3615894  0.3589404  0.35629139 0.35452539\n",
      " 0.35275938 0.35099338 0.34966887 0.34701987 0.34304636 0.34072848\n",
      " 0.3384106  0.33609272 0.33377483 0.33377483 0.32980132 0.32847682\n",
      " 0.32847682 0.33200883 0.33554084 0.33907285 0.33774834 0.33774834\n",
      " 0.33774834 0.33642384 0.33554084 0.33465784 0.33377483 0.33112583\n",
      " 0.32847682 0.32450331 0.32317881 0.3200883  0.31699779 0.31390728\n",
      " 0.31258278 0.31125828 0.30860927 0.30860927 0.29833499 0.29637527\n",
      " 0.29423806 0.29193756 0.28949967 0.28695533 0.28433645 0.28167188\n",
      " 0.2789861  0.27629888 0.27362484 0.27097437]\n",
      "12 day output [[0.26835442]]\n",
      "13 day input [0.26092715 0.26225166 0.25960265 0.25960265 0.25960265 0.25960265\n",
      " 0.26225166 0.27284768 0.2807947  0.28509934 0.28940397 0.29370861\n",
      " 0.29801325 0.29933775 0.30463576 0.30331126 0.30198675 0.30596026\n",
      " 0.30993377 0.31390728 0.3192053  0.32317881 0.32582781 0.32847682\n",
      " 0.33200883 0.33554084 0.33907285 0.34304636 0.34966887 0.35231788\n",
      " 0.35364238 0.35717439 0.3607064  0.36423841 0.36556291 0.36423841\n",
      " 0.36556291 0.36688742 0.36732892 0.36777042 0.36821192 0.36821192\n",
      " 0.36821192 0.36556291 0.36953642 0.36865342 0.36777042 0.36688742\n",
      " 0.3615894  0.3615894  0.3589404  0.35629139 0.35452539 0.35275938\n",
      " 0.35099338 0.34966887 0.34701987 0.34304636 0.34072848 0.3384106\n",
      " 0.33609272 0.33377483 0.33377483 0.32980132 0.32847682 0.32847682\n",
      " 0.33200883 0.33554084 0.33907285 0.33774834 0.33774834 0.33774834\n",
      " 0.33642384 0.33554084 0.33465784 0.33377483 0.33112583 0.32847682\n",
      " 0.32450331 0.32317881 0.3200883  0.31699779 0.31390728 0.31258278\n",
      " 0.31125828 0.30860927 0.30860927 0.29833499 0.29637527 0.29423806\n",
      " 0.29193756 0.28949967 0.28695533 0.28433645 0.28167188 0.2789861\n",
      " 0.27629888 0.27362484 0.27097437 0.26835442]\n",
      "13 day output [[0.26576915]]\n",
      "14 day input [0.26225166 0.25960265 0.25960265 0.25960265 0.25960265 0.26225166\n",
      " 0.27284768 0.2807947  0.28509934 0.28940397 0.29370861 0.29801325\n",
      " 0.29933775 0.30463576 0.30331126 0.30198675 0.30596026 0.30993377\n",
      " 0.31390728 0.3192053  0.32317881 0.32582781 0.32847682 0.33200883\n",
      " 0.33554084 0.33907285 0.34304636 0.34966887 0.35231788 0.35364238\n",
      " 0.35717439 0.3607064  0.36423841 0.36556291 0.36423841 0.36556291\n",
      " 0.36688742 0.36732892 0.36777042 0.36821192 0.36821192 0.36821192\n",
      " 0.36556291 0.36953642 0.36865342 0.36777042 0.36688742 0.3615894\n",
      " 0.3615894  0.3589404  0.35629139 0.35452539 0.35275938 0.35099338\n",
      " 0.34966887 0.34701987 0.34304636 0.34072848 0.3384106  0.33609272\n",
      " 0.33377483 0.33377483 0.32980132 0.32847682 0.32847682 0.33200883\n",
      " 0.33554084 0.33907285 0.33774834 0.33774834 0.33774834 0.33642384\n",
      " 0.33554084 0.33465784 0.33377483 0.33112583 0.32847682 0.32450331\n",
      " 0.32317881 0.3200883  0.31699779 0.31390728 0.31258278 0.31125828\n",
      " 0.30860927 0.30860927 0.29833499 0.29637527 0.29423806 0.29193756\n",
      " 0.28949967 0.28695533 0.28433645 0.28167188 0.2789861  0.27629888\n",
      " 0.27362484 0.27097437 0.26835442 0.26576915]\n",
      "14 day output [[0.263221]]\n",
      "15 day input [0.25960265 0.25960265 0.25960265 0.25960265 0.26225166 0.27284768\n",
      " 0.2807947  0.28509934 0.28940397 0.29370861 0.29801325 0.29933775\n",
      " 0.30463576 0.30331126 0.30198675 0.30596026 0.30993377 0.31390728\n",
      " 0.3192053  0.32317881 0.32582781 0.32847682 0.33200883 0.33554084\n",
      " 0.33907285 0.34304636 0.34966887 0.35231788 0.35364238 0.35717439\n",
      " 0.3607064  0.36423841 0.36556291 0.36423841 0.36556291 0.36688742\n",
      " 0.36732892 0.36777042 0.36821192 0.36821192 0.36821192 0.36556291\n",
      " 0.36953642 0.36865342 0.36777042 0.36688742 0.3615894  0.3615894\n",
      " 0.3589404  0.35629139 0.35452539 0.35275938 0.35099338 0.34966887\n",
      " 0.34701987 0.34304636 0.34072848 0.3384106  0.33609272 0.33377483\n",
      " 0.33377483 0.32980132 0.32847682 0.32847682 0.33200883 0.33554084\n",
      " 0.33907285 0.33774834 0.33774834 0.33774834 0.33642384 0.33554084\n",
      " 0.33465784 0.33377483 0.33112583 0.32847682 0.32450331 0.32317881\n",
      " 0.3200883  0.31699779 0.31390728 0.31258278 0.31125828 0.30860927\n",
      " 0.30860927 0.29833499 0.29637527 0.29423806 0.29193756 0.28949967\n",
      " 0.28695533 0.28433645 0.28167188 0.2789861  0.27629888 0.27362484\n",
      " 0.27097437 0.26835442 0.26576915 0.263221  ]\n",
      "15 day output [[0.26071107]]\n",
      "16 day input [0.25960265 0.25960265 0.25960265 0.26225166 0.27284768 0.2807947\n",
      " 0.28509934 0.28940397 0.29370861 0.29801325 0.29933775 0.30463576\n",
      " 0.30331126 0.30198675 0.30596026 0.30993377 0.31390728 0.3192053\n",
      " 0.32317881 0.32582781 0.32847682 0.33200883 0.33554084 0.33907285\n",
      " 0.34304636 0.34966887 0.35231788 0.35364238 0.35717439 0.3607064\n",
      " 0.36423841 0.36556291 0.36423841 0.36556291 0.36688742 0.36732892\n",
      " 0.36777042 0.36821192 0.36821192 0.36821192 0.36556291 0.36953642\n",
      " 0.36865342 0.36777042 0.36688742 0.3615894  0.3615894  0.3589404\n",
      " 0.35629139 0.35452539 0.35275938 0.35099338 0.34966887 0.34701987\n",
      " 0.34304636 0.34072848 0.3384106  0.33609272 0.33377483 0.33377483\n",
      " 0.32980132 0.32847682 0.32847682 0.33200883 0.33554084 0.33907285\n",
      " 0.33774834 0.33774834 0.33774834 0.33642384 0.33554084 0.33465784\n",
      " 0.33377483 0.33112583 0.32847682 0.32450331 0.32317881 0.3200883\n",
      " 0.31699779 0.31390728 0.31258278 0.31125828 0.30860927 0.30860927\n",
      " 0.29833499 0.29637527 0.29423806 0.29193756 0.28949967 0.28695533\n",
      " 0.28433645 0.28167188 0.2789861  0.27629888 0.27362484 0.27097437\n",
      " 0.26835442 0.26576915 0.263221   0.26071107]\n"
     ]
    },
    {
     "name": "stdout",
     "output_type": "stream",
     "text": [
      "16 day output [[0.25823963]]\n",
      "17 day input [0.25960265 0.25960265 0.26225166 0.27284768 0.2807947  0.28509934\n",
      " 0.28940397 0.29370861 0.29801325 0.29933775 0.30463576 0.30331126\n",
      " 0.30198675 0.30596026 0.30993377 0.31390728 0.3192053  0.32317881\n",
      " 0.32582781 0.32847682 0.33200883 0.33554084 0.33907285 0.34304636\n",
      " 0.34966887 0.35231788 0.35364238 0.35717439 0.3607064  0.36423841\n",
      " 0.36556291 0.36423841 0.36556291 0.36688742 0.36732892 0.36777042\n",
      " 0.36821192 0.36821192 0.36821192 0.36556291 0.36953642 0.36865342\n",
      " 0.36777042 0.36688742 0.3615894  0.3615894  0.3589404  0.35629139\n",
      " 0.35452539 0.35275938 0.35099338 0.34966887 0.34701987 0.34304636\n",
      " 0.34072848 0.3384106  0.33609272 0.33377483 0.33377483 0.32980132\n",
      " 0.32847682 0.32847682 0.33200883 0.33554084 0.33907285 0.33774834\n",
      " 0.33774834 0.33774834 0.33642384 0.33554084 0.33465784 0.33377483\n",
      " 0.33112583 0.32847682 0.32450331 0.32317881 0.3200883  0.31699779\n",
      " 0.31390728 0.31258278 0.31125828 0.30860927 0.30860927 0.29833499\n",
      " 0.29637527 0.29423806 0.29193756 0.28949967 0.28695533 0.28433645\n",
      " 0.28167188 0.2789861  0.27629888 0.27362484 0.27097437 0.26835442\n",
      " 0.26576915 0.263221   0.26071107 0.25823963]\n",
      "17 day output [[0.25580648]]\n",
      "18 day input [0.25960265 0.26225166 0.27284768 0.2807947  0.28509934 0.28940397\n",
      " 0.29370861 0.29801325 0.29933775 0.30463576 0.30331126 0.30198675\n",
      " 0.30596026 0.30993377 0.31390728 0.3192053  0.32317881 0.32582781\n",
      " 0.32847682 0.33200883 0.33554084 0.33907285 0.34304636 0.34966887\n",
      " 0.35231788 0.35364238 0.35717439 0.3607064  0.36423841 0.36556291\n",
      " 0.36423841 0.36556291 0.36688742 0.36732892 0.36777042 0.36821192\n",
      " 0.36821192 0.36821192 0.36556291 0.36953642 0.36865342 0.36777042\n",
      " 0.36688742 0.3615894  0.3615894  0.3589404  0.35629139 0.35452539\n",
      " 0.35275938 0.35099338 0.34966887 0.34701987 0.34304636 0.34072848\n",
      " 0.3384106  0.33609272 0.33377483 0.33377483 0.32980132 0.32847682\n",
      " 0.32847682 0.33200883 0.33554084 0.33907285 0.33774834 0.33774834\n",
      " 0.33774834 0.33642384 0.33554084 0.33465784 0.33377483 0.33112583\n",
      " 0.32847682 0.32450331 0.32317881 0.3200883  0.31699779 0.31390728\n",
      " 0.31258278 0.31125828 0.30860927 0.30860927 0.29833499 0.29637527\n",
      " 0.29423806 0.29193756 0.28949967 0.28695533 0.28433645 0.28167188\n",
      " 0.2789861  0.27629888 0.27362484 0.27097437 0.26835442 0.26576915\n",
      " 0.263221   0.26071107 0.25823963 0.25580648]\n",
      "18 day output [[0.2534114]]\n",
      "19 day input [0.26225166 0.27284768 0.2807947  0.28509934 0.28940397 0.29370861\n",
      " 0.29801325 0.29933775 0.30463576 0.30331126 0.30198675 0.30596026\n",
      " 0.30993377 0.31390728 0.3192053  0.32317881 0.32582781 0.32847682\n",
      " 0.33200883 0.33554084 0.33907285 0.34304636 0.34966887 0.35231788\n",
      " 0.35364238 0.35717439 0.3607064  0.36423841 0.36556291 0.36423841\n",
      " 0.36556291 0.36688742 0.36732892 0.36777042 0.36821192 0.36821192\n",
      " 0.36821192 0.36556291 0.36953642 0.36865342 0.36777042 0.36688742\n",
      " 0.3615894  0.3615894  0.3589404  0.35629139 0.35452539 0.35275938\n",
      " 0.35099338 0.34966887 0.34701987 0.34304636 0.34072848 0.3384106\n",
      " 0.33609272 0.33377483 0.33377483 0.32980132 0.32847682 0.32847682\n",
      " 0.33200883 0.33554084 0.33907285 0.33774834 0.33774834 0.33774834\n",
      " 0.33642384 0.33554084 0.33465784 0.33377483 0.33112583 0.32847682\n",
      " 0.32450331 0.32317881 0.3200883  0.31699779 0.31390728 0.31258278\n",
      " 0.31125828 0.30860927 0.30860927 0.29833499 0.29637527 0.29423806\n",
      " 0.29193756 0.28949967 0.28695533 0.28433645 0.28167188 0.2789861\n",
      " 0.27629888 0.27362484 0.27097437 0.26835442 0.26576915 0.263221\n",
      " 0.26071107 0.25823963 0.25580648 0.25341141]\n",
      "19 day output [[0.25105393]]\n",
      "20 day input [0.27284768 0.2807947  0.28509934 0.28940397 0.29370861 0.29801325\n",
      " 0.29933775 0.30463576 0.30331126 0.30198675 0.30596026 0.30993377\n",
      " 0.31390728 0.3192053  0.32317881 0.32582781 0.32847682 0.33200883\n",
      " 0.33554084 0.33907285 0.34304636 0.34966887 0.35231788 0.35364238\n",
      " 0.35717439 0.3607064  0.36423841 0.36556291 0.36423841 0.36556291\n",
      " 0.36688742 0.36732892 0.36777042 0.36821192 0.36821192 0.36821192\n",
      " 0.36556291 0.36953642 0.36865342 0.36777042 0.36688742 0.3615894\n",
      " 0.3615894  0.3589404  0.35629139 0.35452539 0.35275938 0.35099338\n",
      " 0.34966887 0.34701987 0.34304636 0.34072848 0.3384106  0.33609272\n",
      " 0.33377483 0.33377483 0.32980132 0.32847682 0.32847682 0.33200883\n",
      " 0.33554084 0.33907285 0.33774834 0.33774834 0.33774834 0.33642384\n",
      " 0.33554084 0.33465784 0.33377483 0.33112583 0.32847682 0.32450331\n",
      " 0.32317881 0.3200883  0.31699779 0.31390728 0.31258278 0.31125828\n",
      " 0.30860927 0.30860927 0.29833499 0.29637527 0.29423806 0.29193756\n",
      " 0.28949967 0.28695533 0.28433645 0.28167188 0.2789861  0.27629888\n",
      " 0.27362484 0.27097437 0.26835442 0.26576915 0.263221   0.26071107\n",
      " 0.25823963 0.25580648 0.25341141 0.25105393]\n",
      "20 day output [[0.24873377]]\n",
      "21 day input [0.2807947  0.28509934 0.28940397 0.29370861 0.29801325 0.29933775\n",
      " 0.30463576 0.30331126 0.30198675 0.30596026 0.30993377 0.31390728\n",
      " 0.3192053  0.32317881 0.32582781 0.32847682 0.33200883 0.33554084\n",
      " 0.33907285 0.34304636 0.34966887 0.35231788 0.35364238 0.35717439\n",
      " 0.3607064  0.36423841 0.36556291 0.36423841 0.36556291 0.36688742\n",
      " 0.36732892 0.36777042 0.36821192 0.36821192 0.36821192 0.36556291\n",
      " 0.36953642 0.36865342 0.36777042 0.36688742 0.3615894  0.3615894\n",
      " 0.3589404  0.35629139 0.35452539 0.35275938 0.35099338 0.34966887\n",
      " 0.34701987 0.34304636 0.34072848 0.3384106  0.33609272 0.33377483\n",
      " 0.33377483 0.32980132 0.32847682 0.32847682 0.33200883 0.33554084\n",
      " 0.33907285 0.33774834 0.33774834 0.33774834 0.33642384 0.33554084\n",
      " 0.33465784 0.33377483 0.33112583 0.32847682 0.32450331 0.32317881\n",
      " 0.3200883  0.31699779 0.31390728 0.31258278 0.31125828 0.30860927\n",
      " 0.30860927 0.29833499 0.29637527 0.29423806 0.29193756 0.28949967\n",
      " 0.28695533 0.28433645 0.28167188 0.2789861  0.27629888 0.27362484\n",
      " 0.27097437 0.26835442 0.26576915 0.263221   0.26071107 0.25823963\n",
      " 0.25580648 0.25341141 0.25105393 0.24873377]\n",
      "21 day output [[0.24645057]]\n",
      "22 day input [0.28509934 0.28940397 0.29370861 0.29801325 0.29933775 0.30463576\n",
      " 0.30331126 0.30198675 0.30596026 0.30993377 0.31390728 0.3192053\n",
      " 0.32317881 0.32582781 0.32847682 0.33200883 0.33554084 0.33907285\n",
      " 0.34304636 0.34966887 0.35231788 0.35364238 0.35717439 0.3607064\n",
      " 0.36423841 0.36556291 0.36423841 0.36556291 0.36688742 0.36732892\n",
      " 0.36777042 0.36821192 0.36821192 0.36821192 0.36556291 0.36953642\n",
      " 0.36865342 0.36777042 0.36688742 0.3615894  0.3615894  0.3589404\n",
      " 0.35629139 0.35452539 0.35275938 0.35099338 0.34966887 0.34701987\n",
      " 0.34304636 0.34072848 0.3384106  0.33609272 0.33377483 0.33377483\n",
      " 0.32980132 0.32847682 0.32847682 0.33200883 0.33554084 0.33907285\n",
      " 0.33774834 0.33774834 0.33774834 0.33642384 0.33554084 0.33465784\n",
      " 0.33377483 0.33112583 0.32847682 0.32450331 0.32317881 0.3200883\n",
      " 0.31699779 0.31390728 0.31258278 0.31125828 0.30860927 0.30860927\n",
      " 0.29833499 0.29637527 0.29423806 0.29193756 0.28949967 0.28695533\n",
      " 0.28433645 0.28167188 0.2789861  0.27629888 0.27362484 0.27097437\n",
      " 0.26835442 0.26576915 0.263221   0.26071107 0.25823963 0.25580648\n",
      " 0.25341141 0.25105393 0.24873377 0.24645057]\n",
      "22 day output [[0.24420415]]\n",
      "23 day input [0.28940397 0.29370861 0.29801325 0.29933775 0.30463576 0.30331126\n",
      " 0.30198675 0.30596026 0.30993377 0.31390728 0.3192053  0.32317881\n",
      " 0.32582781 0.32847682 0.33200883 0.33554084 0.33907285 0.34304636\n",
      " 0.34966887 0.35231788 0.35364238 0.35717439 0.3607064  0.36423841\n",
      " 0.36556291 0.36423841 0.36556291 0.36688742 0.36732892 0.36777042\n",
      " 0.36821192 0.36821192 0.36821192 0.36556291 0.36953642 0.36865342\n",
      " 0.36777042 0.36688742 0.3615894  0.3615894  0.3589404  0.35629139\n",
      " 0.35452539 0.35275938 0.35099338 0.34966887 0.34701987 0.34304636\n",
      " 0.34072848 0.3384106  0.33609272 0.33377483 0.33377483 0.32980132\n",
      " 0.32847682 0.32847682 0.33200883 0.33554084 0.33907285 0.33774834\n",
      " 0.33774834 0.33774834 0.33642384 0.33554084 0.33465784 0.33377483\n",
      " 0.33112583 0.32847682 0.32450331 0.32317881 0.3200883  0.31699779\n",
      " 0.31390728 0.31258278 0.31125828 0.30860927 0.30860927 0.29833499\n",
      " 0.29637527 0.29423806 0.29193756 0.28949967 0.28695533 0.28433645\n",
      " 0.28167188 0.2789861  0.27629888 0.27362484 0.27097437 0.26835442\n",
      " 0.26576915 0.263221   0.26071107 0.25823963 0.25580648 0.25341141\n",
      " 0.25105393 0.24873377 0.24645057 0.24420415]\n",
      "23 day output [[0.24199426]]\n",
      "24 day input [0.29370861 0.29801325 0.29933775 0.30463576 0.30331126 0.30198675\n",
      " 0.30596026 0.30993377 0.31390728 0.3192053  0.32317881 0.32582781\n",
      " 0.32847682 0.33200883 0.33554084 0.33907285 0.34304636 0.34966887\n",
      " 0.35231788 0.35364238 0.35717439 0.3607064  0.36423841 0.36556291\n",
      " 0.36423841 0.36556291 0.36688742 0.36732892 0.36777042 0.36821192\n",
      " 0.36821192 0.36821192 0.36556291 0.36953642 0.36865342 0.36777042\n",
      " 0.36688742 0.3615894  0.3615894  0.3589404  0.35629139 0.35452539\n",
      " 0.35275938 0.35099338 0.34966887 0.34701987 0.34304636 0.34072848\n",
      " 0.3384106  0.33609272 0.33377483 0.33377483 0.32980132 0.32847682\n",
      " 0.32847682 0.33200883 0.33554084 0.33907285 0.33774834 0.33774834\n",
      " 0.33774834 0.33642384 0.33554084 0.33465784 0.33377483 0.33112583\n",
      " 0.32847682 0.32450331 0.32317881 0.3200883  0.31699779 0.31390728\n",
      " 0.31258278 0.31125828 0.30860927 0.30860927 0.29833499 0.29637527\n",
      " 0.29423806 0.29193756 0.28949967 0.28695533 0.28433645 0.28167188\n",
      " 0.2789861  0.27629888 0.27362484 0.27097437 0.26835442 0.26576915\n",
      " 0.263221   0.26071107 0.25823963 0.25580648 0.25341141 0.25105393\n",
      " 0.24873377 0.24645057 0.24420415 0.24199426]\n"
     ]
    },
    {
     "name": "stdout",
     "output_type": "stream",
     "text": [
      "24 day output [[0.23982064]]\n",
      "25 day input [0.29801325 0.29933775 0.30463576 0.30331126 0.30198675 0.30596026\n",
      " 0.30993377 0.31390728 0.3192053  0.32317881 0.32582781 0.32847682\n",
      " 0.33200883 0.33554084 0.33907285 0.34304636 0.34966887 0.35231788\n",
      " 0.35364238 0.35717439 0.3607064  0.36423841 0.36556291 0.36423841\n",
      " 0.36556291 0.36688742 0.36732892 0.36777042 0.36821192 0.36821192\n",
      " 0.36821192 0.36556291 0.36953642 0.36865342 0.36777042 0.36688742\n",
      " 0.3615894  0.3615894  0.3589404  0.35629139 0.35452539 0.35275938\n",
      " 0.35099338 0.34966887 0.34701987 0.34304636 0.34072848 0.3384106\n",
      " 0.33609272 0.33377483 0.33377483 0.32980132 0.32847682 0.32847682\n",
      " 0.33200883 0.33554084 0.33907285 0.33774834 0.33774834 0.33774834\n",
      " 0.33642384 0.33554084 0.33465784 0.33377483 0.33112583 0.32847682\n",
      " 0.32450331 0.32317881 0.3200883  0.31699779 0.31390728 0.31258278\n",
      " 0.31125828 0.30860927 0.30860927 0.29833499 0.29637527 0.29423806\n",
      " 0.29193756 0.28949967 0.28695533 0.28433645 0.28167188 0.2789861\n",
      " 0.27629888 0.27362484 0.27097437 0.26835442 0.26576915 0.263221\n",
      " 0.26071107 0.25823963 0.25580648 0.25341141 0.25105393 0.24873377\n",
      " 0.24645057 0.24420415 0.24199426 0.23982064]\n",
      "25 day output [[0.23768322]]\n",
      "26 day input [0.29933775 0.30463576 0.30331126 0.30198675 0.30596026 0.30993377\n",
      " 0.31390728 0.3192053  0.32317881 0.32582781 0.32847682 0.33200883\n",
      " 0.33554084 0.33907285 0.34304636 0.34966887 0.35231788 0.35364238\n",
      " 0.35717439 0.3607064  0.36423841 0.36556291 0.36423841 0.36556291\n",
      " 0.36688742 0.36732892 0.36777042 0.36821192 0.36821192 0.36821192\n",
      " 0.36556291 0.36953642 0.36865342 0.36777042 0.36688742 0.3615894\n",
      " 0.3615894  0.3589404  0.35629139 0.35452539 0.35275938 0.35099338\n",
      " 0.34966887 0.34701987 0.34304636 0.34072848 0.3384106  0.33609272\n",
      " 0.33377483 0.33377483 0.32980132 0.32847682 0.32847682 0.33200883\n",
      " 0.33554084 0.33907285 0.33774834 0.33774834 0.33774834 0.33642384\n",
      " 0.33554084 0.33465784 0.33377483 0.33112583 0.32847682 0.32450331\n",
      " 0.32317881 0.3200883  0.31699779 0.31390728 0.31258278 0.31125828\n",
      " 0.30860927 0.30860927 0.29833499 0.29637527 0.29423806 0.29193756\n",
      " 0.28949967 0.28695533 0.28433645 0.28167188 0.2789861  0.27629888\n",
      " 0.27362484 0.27097437 0.26835442 0.26576915 0.263221   0.26071107\n",
      " 0.25823963 0.25580648 0.25341141 0.25105393 0.24873377 0.24645057\n",
      " 0.24420415 0.24199426 0.23982064 0.23768322]\n",
      "26 day output [[0.23558165]]\n",
      "27 day input [0.30463576 0.30331126 0.30198675 0.30596026 0.30993377 0.31390728\n",
      " 0.3192053  0.32317881 0.32582781 0.32847682 0.33200883 0.33554084\n",
      " 0.33907285 0.34304636 0.34966887 0.35231788 0.35364238 0.35717439\n",
      " 0.3607064  0.36423841 0.36556291 0.36423841 0.36556291 0.36688742\n",
      " 0.36732892 0.36777042 0.36821192 0.36821192 0.36821192 0.36556291\n",
      " 0.36953642 0.36865342 0.36777042 0.36688742 0.3615894  0.3615894\n",
      " 0.3589404  0.35629139 0.35452539 0.35275938 0.35099338 0.34966887\n",
      " 0.34701987 0.34304636 0.34072848 0.3384106  0.33609272 0.33377483\n",
      " 0.33377483 0.32980132 0.32847682 0.32847682 0.33200883 0.33554084\n",
      " 0.33907285 0.33774834 0.33774834 0.33774834 0.33642384 0.33554084\n",
      " 0.33465784 0.33377483 0.33112583 0.32847682 0.32450331 0.32317881\n",
      " 0.3200883  0.31699779 0.31390728 0.31258278 0.31125828 0.30860927\n",
      " 0.30860927 0.29833499 0.29637527 0.29423806 0.29193756 0.28949967\n",
      " 0.28695533 0.28433645 0.28167188 0.2789861  0.27629888 0.27362484\n",
      " 0.27097437 0.26835442 0.26576915 0.263221   0.26071107 0.25823963\n",
      " 0.25580648 0.25341141 0.25105393 0.24873377 0.24645057 0.24420415\n",
      " 0.24199426 0.23982064 0.23768322 0.23558165]\n",
      "27 day output [[0.23351583]]\n",
      "28 day input [0.30331126 0.30198675 0.30596026 0.30993377 0.31390728 0.3192053\n",
      " 0.32317881 0.32582781 0.32847682 0.33200883 0.33554084 0.33907285\n",
      " 0.34304636 0.34966887 0.35231788 0.35364238 0.35717439 0.3607064\n",
      " 0.36423841 0.36556291 0.36423841 0.36556291 0.36688742 0.36732892\n",
      " 0.36777042 0.36821192 0.36821192 0.36821192 0.36556291 0.36953642\n",
      " 0.36865342 0.36777042 0.36688742 0.3615894  0.3615894  0.3589404\n",
      " 0.35629139 0.35452539 0.35275938 0.35099338 0.34966887 0.34701987\n",
      " 0.34304636 0.34072848 0.3384106  0.33609272 0.33377483 0.33377483\n",
      " 0.32980132 0.32847682 0.32847682 0.33200883 0.33554084 0.33907285\n",
      " 0.33774834 0.33774834 0.33774834 0.33642384 0.33554084 0.33465784\n",
      " 0.33377483 0.33112583 0.32847682 0.32450331 0.32317881 0.3200883\n",
      " 0.31699779 0.31390728 0.31258278 0.31125828 0.30860927 0.30860927\n",
      " 0.29833499 0.29637527 0.29423806 0.29193756 0.28949967 0.28695533\n",
      " 0.28433645 0.28167188 0.2789861  0.27629888 0.27362484 0.27097437\n",
      " 0.26835442 0.26576915 0.263221   0.26071107 0.25823963 0.25580648\n",
      " 0.25341141 0.25105393 0.24873377 0.24645057 0.24420415 0.24199426\n",
      " 0.23982064 0.23768322 0.23558165 0.23351583]\n",
      "28 day output [[0.23148534]]\n",
      "29 day input [0.30198675 0.30596026 0.30993377 0.31390728 0.3192053  0.32317881\n",
      " 0.32582781 0.32847682 0.33200883 0.33554084 0.33907285 0.34304636\n",
      " 0.34966887 0.35231788 0.35364238 0.35717439 0.3607064  0.36423841\n",
      " 0.36556291 0.36423841 0.36556291 0.36688742 0.36732892 0.36777042\n",
      " 0.36821192 0.36821192 0.36821192 0.36556291 0.36953642 0.36865342\n",
      " 0.36777042 0.36688742 0.3615894  0.3615894  0.3589404  0.35629139\n",
      " 0.35452539 0.35275938 0.35099338 0.34966887 0.34701987 0.34304636\n",
      " 0.34072848 0.3384106  0.33609272 0.33377483 0.33377483 0.32980132\n",
      " 0.32847682 0.32847682 0.33200883 0.33554084 0.33907285 0.33774834\n",
      " 0.33774834 0.33774834 0.33642384 0.33554084 0.33465784 0.33377483\n",
      " 0.33112583 0.32847682 0.32450331 0.32317881 0.3200883  0.31699779\n",
      " 0.31390728 0.31258278 0.31125828 0.30860927 0.30860927 0.29833499\n",
      " 0.29637527 0.29423806 0.29193756 0.28949967 0.28695533 0.28433645\n",
      " 0.28167188 0.2789861  0.27629888 0.27362484 0.27097437 0.26835442\n",
      " 0.26576915 0.263221   0.26071107 0.25823963 0.25580648 0.25341141\n",
      " 0.25105393 0.24873377 0.24645057 0.24420415 0.24199426 0.23982064\n",
      " 0.23768322 0.23558165 0.23351583 0.23148534]\n",
      "29 day output [[0.22948998]]\n",
      "[[0.2983349859714508], [0.2963752746582031], [0.29423806071281433], [0.29193755984306335], [0.2894996702671051], [0.286955326795578], [0.2843364477157593], [0.2816718816757202], [0.2789860963821411], [0.2762988805770874], [0.27362483739852905], [0.27097436785697937], [0.2683544158935547], [0.2657691538333893], [0.26322099566459656], [0.26071107387542725], [0.25823962688446045], [0.25580647587776184], [0.2534114122390747], [0.25105392932891846], [0.2487337738275528], [0.24645057320594788], [0.24420414865016937], [0.24199426174163818], [0.23982064425945282], [0.2376832216978073], [0.2355816513299942], [0.23351582884788513], [0.23148533701896667], [0.2294899821281433]]\n"
     ]
    }
   ],
   "source": [
    "# demonstrate prediction for next 30 days\n",
    "from numpy import array\n",
    "\n",
    "lst_output=[]\n",
    "n_steps=100\n",
    "i=0\n",
    "while(i<30):\n",
    "    \n",
    "    if(len(temp_input)>100):\n",
    "        #print(temp_input)\n",
    "        x_input=np.array(temp_input[1:])\n",
    "        print(\"{} day input {}\".format(i,x_input))\n",
    "        x_input=x_input.reshape(1,-1)\n",
    "        x_input = x_input.reshape((1, n_steps, 1))\n",
    "        #print(x_input)\n",
    "        yhat = model.predict(x_input, verbose=0)\n",
    "        print(\"{} day output {}\".format(i,yhat))\n",
    "        temp_input.extend(yhat[0].tolist())\n",
    "        temp_input=temp_input[1:]\n",
    "        #print(temp_input)\n",
    "        lst_output.extend(yhat.tolist())\n",
    "        i=i+1\n",
    "    else:\n",
    "        x_input = x_input.reshape((1, n_steps,1))\n",
    "        yhat = model.predict(x_input, verbose=0)\n",
    "        print(yhat[0])\n",
    "        temp_input.extend(yhat[0].tolist())\n",
    "        print(len(temp_input))\n",
    "        lst_output.extend(yhat.tolist())\n",
    "        i=i+1\n",
    "    \n",
    "\n",
    "print(lst_output)"
   ]
  },
  {
   "cell_type": "code",
   "execution_count": 53,
   "metadata": {},
   "outputs": [],
   "source": [
    "day_new=np.arange(1,101)\n",
    "day_pred=np.arange(101,131)"
   ]
  },
  {
   "cell_type": "code",
   "execution_count": 54,
   "metadata": {},
   "outputs": [],
   "source": [
    "import matplotlib.pyplot as plt"
   ]
  },
  {
   "cell_type": "code",
   "execution_count": 55,
   "metadata": {},
   "outputs": [
    {
     "data": {
      "text/plain": [
       "1370"
      ]
     },
     "execution_count": 55,
     "metadata": {},
     "output_type": "execute_result"
    }
   ],
   "source": [
    "len(df1)"
   ]
  },
  {
   "cell_type": "code",
   "execution_count": 56,
   "metadata": {},
   "outputs": [
    {
     "data": {
      "text/plain": [
       "[<matplotlib.lines.Line2D at 0x2222e25fdc0>]"
      ]
     },
     "execution_count": 56,
     "metadata": {},
     "output_type": "execute_result"
    },
    {
     "data": {
      "image/png": "[encoded data removed]",
      "text/plain": [
       "<Figure size 432x288 with 1 Axes>"
      ]
     },
     "metadata": {
      "needs_background": "light"
     },
     "output_type": "display_data"
    }
   ],
   "source": [
    "plt.plot(day_new,scaler.inverse_transform(df1[1270:]))\n",
    "plt.plot(day_pred,scaler.inverse_transform(lst_output))"
   ]
  },
  {
   "cell_type": "code",
   "execution_count": 57,
   "metadata": {},
   "outputs": [
    {
     "data": {
      "text/plain": [
       "[<matplotlib.lines.Line2D at 0x2222cfc3070>]"
      ]
     },
     "execution_count": 57,
     "metadata": {},
     "output_type": "execute_result"
    },
    {
     "data": {
      "image/png": "[encoded data removed]",
      "text/plain": [
       "<Figure size 432x288 with 1 Axes>"
      ]
     },
     "metadata": {
      "needs_background": "light"
     },
     "output_type": "display_data"
    }
   ],
   "source": [
    "df3=df1.tolist()\n",
    "df3.extend(lst_output)\n",
    "plt.plot(df3[1200:])"
   ]
  },
  {
   "cell_type": "code",
   "execution_count": 58,
   "metadata": {},
   "outputs": [],
   "source": [
    "df3=scaler.inverse_transform(df3).tolist()"
   ]
  },
  {
   "cell_type": "code",
   "execution_count": 59,
   "metadata": {},
   "outputs": [
    {
     "data": {
      "text/plain": [
       "[<matplotlib.lines.Line2D at 0x2222e15dbb0>]"
      ]
     },
     "execution_count": 59,
     "metadata": {},
     "output_type": "execute_result"
    },
    {
     "data": {
      "image/png": "[encoded data removed]",
      "text/plain": [
       "<Figure size 432x288 with 1 Axes>"
      ]
     },
     "metadata": {
      "needs_background": "light"
     },
     "output_type": "display_data"
    }
   ],
   "source": [
    "plt.plot(df3)"
   ]
  },
  {
   "cell_type": "code",
   "execution_count": 68,
   "metadata": {
    "scrolled": false
   },
   "outputs": [],
   "source": [
    "df3['+prediction'] = pd.DataFrame(df3)"
   ]
  },
  {
   "cell_type": "code",
   "execution_count": 77,
   "metadata": {},
   "outputs": [],
   "source": [
    "df3.drop(0, inplace = True, axis = 1)"
   ]
  },
  {
   "cell_type": "code",
   "execution_count": 78,
   "metadata": {},
   "outputs": [
    {
     "data": {
      "text/html": [
       "<div>\n",
       "<style scoped>\n",
       "    .dataframe tbody tr th:only-of-type {\n",
       "        vertical-align: middle;\n",
       "    }\n",
       "\n",
       "    .dataframe tbody tr th {\n",
       "        vertical-align: top;\n",
       "    }\n",
       "\n",
       "    .dataframe thead th {\n",
       "        text-align: right;\n",
       "    }\n",
       "</style>\n",
       "<table border=\"1\" class=\"dataframe\">\n",
       "  <thead>\n",
       "    <tr style=\"text-align: right;\">\n",
       "      <th></th>\n",
       "      <th>+prediction</th>\n",
       "    </tr>\n",
       "  </thead>\n",
       "  <tbody>\n",
       "    <tr>\n",
       "      <th>0</th>\n",
       "      <td>33500.000000</td>\n",
       "    </tr>\n",
       "    <tr>\n",
       "      <th>1</th>\n",
       "      <td>33200.000000</td>\n",
       "    </tr>\n",
       "    <tr>\n",
       "      <th>2</th>\n",
       "      <td>32950.000000</td>\n",
       "    </tr>\n",
       "    <tr>\n",
       "      <th>3</th>\n",
       "      <td>32650.000000</td>\n",
       "    </tr>\n",
       "    <tr>\n",
       "      <th>4</th>\n",
       "      <td>32150.000000</td>\n",
       "    </tr>\n",
       "    <tr>\n",
       "      <th>...</th>\n",
       "      <td>...</td>\n",
       "    </tr>\n",
       "    <tr>\n",
       "      <th>1395</th>\n",
       "      <td>30422.541619</td>\n",
       "    </tr>\n",
       "    <tr>\n",
       "      <th>1396</th>\n",
       "      <td>30343.207338</td>\n",
       "    </tr>\n",
       "    <tr>\n",
       "      <th>1397</th>\n",
       "      <td>30265.222539</td>\n",
       "    </tr>\n",
       "    <tr>\n",
       "      <th>1398</th>\n",
       "      <td>30188.571472</td>\n",
       "    </tr>\n",
       "    <tr>\n",
       "      <th>1399</th>\n",
       "      <td>30113.246825</td>\n",
       "    </tr>\n",
       "  </tbody>\n",
       "</table>\n",
       "<p>1400 rows × 1 columns</p>\n",
       "</div>"
      ],
      "text/plain": [
       "       +prediction\n",
       "0     33500.000000\n",
       "1     33200.000000\n",
       "2     32950.000000\n",
       "3     32650.000000\n",
       "4     32150.000000\n",
       "...            ...\n",
       "1395  30422.541619\n",
       "1396  30343.207338\n",
       "1397  30265.222539\n",
       "1398  30188.571472\n",
       "1399  30113.246825\n",
       "\n",
       "[1400 rows x 1 columns]"
      ]
     },
     "execution_count": 78,
     "metadata": {},
     "output_type": "execute_result"
    }
   ],
   "source": [
    "df3"
   ]
  },
  {
   "cell_type": "code",
   "execution_count": 93,
   "metadata": {
    "scrolled": true
   },
   "outputs": [
    {
     "data": {
      "text/plain": [
       "1400"
      ]
     },
     "execution_count": 93,
     "metadata": {},
     "output_type": "execute_result"
    }
   ],
   "source": [
    "df3.shape[0]"
   ]
  },
  {
   "cell_type": "code",
   "execution_count": 91,
   "metadata": {
    "scrolled": true
   },
   "outputs": [],
   "source": [
    "df3['Date'] = pd.date_range(start = '2017-07-31', periods = df3.shape[0],freq ='D')"
   ]
  },
  {
   "cell_type": "code",
   "execution_count": 92,
   "metadata": {},
   "outputs": [
    {
     "data": {
      "text/html": [
       "<div>\n",
       "<style scoped>\n",
       "    .dataframe tbody tr th:only-of-type {\n",
       "        vertical-align: middle;\n",
       "    }\n",
       "\n",
       "    .dataframe tbody tr th {\n",
       "        vertical-align: top;\n",
       "    }\n",
       "\n",
       "    .dataframe thead th {\n",
       "        text-align: right;\n",
       "    }\n",
       "</style>\n",
       "<table border=\"1\" class=\"dataframe\">\n",
       "  <thead>\n",
       "    <tr style=\"text-align: right;\">\n",
       "      <th></th>\n",
       "      <th>+prediction</th>\n",
       "      <th>Date</th>\n",
       "    </tr>\n",
       "  </thead>\n",
       "  <tbody>\n",
       "    <tr>\n",
       "      <th>0</th>\n",
       "      <td>33500.000000</td>\n",
       "      <td>2017-07-31</td>\n",
       "    </tr>\n",
       "    <tr>\n",
       "      <th>1</th>\n",
       "      <td>33200.000000</td>\n",
       "      <td>2017-08-01</td>\n",
       "    </tr>\n",
       "    <tr>\n",
       "      <th>2</th>\n",
       "      <td>32950.000000</td>\n",
       "      <td>2017-08-02</td>\n",
       "    </tr>\n",
       "    <tr>\n",
       "      <th>3</th>\n",
       "      <td>32650.000000</td>\n",
       "      <td>2017-08-03</td>\n",
       "    </tr>\n",
       "    <tr>\n",
       "      <th>4</th>\n",
       "      <td>32150.000000</td>\n",
       "      <td>2017-08-04</td>\n",
       "    </tr>\n",
       "    <tr>\n",
       "      <th>...</th>\n",
       "      <td>...</td>\n",
       "      <td>...</td>\n",
       "    </tr>\n",
       "    <tr>\n",
       "      <th>1395</th>\n",
       "      <td>30422.541619</td>\n",
       "      <td>2021-05-26</td>\n",
       "    </tr>\n",
       "    <tr>\n",
       "      <th>1396</th>\n",
       "      <td>30343.207338</td>\n",
       "      <td>2021-05-27</td>\n",
       "    </tr>\n",
       "    <tr>\n",
       "      <th>1397</th>\n",
       "      <td>30265.222539</td>\n",
       "      <td>2021-05-28</td>\n",
       "    </tr>\n",
       "    <tr>\n",
       "      <th>1398</th>\n",
       "      <td>30188.571472</td>\n",
       "      <td>2021-05-29</td>\n",
       "    </tr>\n",
       "    <tr>\n",
       "      <th>1399</th>\n",
       "      <td>30113.246825</td>\n",
       "      <td>2021-05-30</td>\n",
       "    </tr>\n",
       "  </tbody>\n",
       "</table>\n",
       "<p>1400 rows × 2 columns</p>\n",
       "</div>"
      ],
      "text/plain": [
       "       +prediction       Date\n",
       "0     33500.000000 2017-07-31\n",
       "1     33200.000000 2017-08-01\n",
       "2     32950.000000 2017-08-02\n",
       "3     32650.000000 2017-08-03\n",
       "4     32150.000000 2017-08-04\n",
       "...            ...        ...\n",
       "1395  30422.541619 2021-05-26\n",
       "1396  30343.207338 2021-05-27\n",
       "1397  30265.222539 2021-05-28\n",
       "1398  30188.571472 2021-05-29\n",
       "1399  30113.246825 2021-05-30\n",
       "\n",
       "[1400 rows x 2 columns]"
      ]
     },
     "execution_count": 92,
     "metadata": {},
     "output_type": "execute_result"
    }
   ],
   "source": [
    "df3"
   ]
  },
  {
   "cell_type": "code",
   "execution_count": 100,
   "metadata": {
    "scrolled": false
   },
   "outputs": [
    {
     "data": {
      "image/png": "[encoded data removed]",
      "text/plain": [
       "<Figure size 1440x576 with 1 Axes>"
      ]
     },
     "metadata": {
      "needs_background": "light"
     },
     "output_type": "display_data"
    }
   ],
   "source": [
    "plt.figure(figsize= (20,8))\n",
    "plt.plot(df3['Date'], df3['+prediction'])\n",
    "plt.show()"
   ]
  },
  {
   "cell_type": "code",
   "execution_count": null,
   "metadata": {},
   "outputs": [],
   "source": []
  }
 ],
 "metadata": {
  "kernelspec": {
   "display_name": "Python 3",
   "language": "python",
   "name": "python3"
  },
  "language_info": {
   "codemirror_mode": {
    "name": "ipython",
    "version": 3
   },
   "file_extension": ".py",
   "mimetype": "text/x-python",
   "name": "python",
   "nbconvert_exporter": "python",
   "pygments_lexer": "ipython3",
   "version": "3.8.6"
  }
 },
 "nbformat": 4,
 "nbformat_minor": 4
}
