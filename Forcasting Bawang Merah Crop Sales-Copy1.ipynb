{
 "cells": [
  {
   "cell_type": "code",
   "execution_count": 1,
   "metadata": {},
   "outputs": [],
   "source": [
    "import pandas as pd"
   ]
  },
  {
   "cell_type": "code",
   "execution_count": 2,
   "metadata": {
    "scrolled": true
   },
   "outputs": [
    {
     "data": {
      "text/html": [
       "<div>\n",
       "<style scoped>\n",
       "    .dataframe tbody tr th:only-of-type {\n",
       "        vertical-align: middle;\n",
       "    }\n",
       "\n",
       "    .dataframe tbody tr th {\n",
       "        vertical-align: top;\n",
       "    }\n",
       "\n",
       "    .dataframe thead th {\n",
       "        text-align: right;\n",
       "    }\n",
       "</style>\n",
       "<table border=\"1\" class=\"dataframe\">\n",
       "  <thead>\n",
       "    <tr style=\"text-align: right;\">\n",
       "      <th></th>\n",
       "      <th>Tanggal</th>\n",
       "      <th>Beras</th>\n",
       "      <th>Beras Kualitas Bawah I (kg)</th>\n",
       "      <th>Beras Kualitas Bawah II (kg)</th>\n",
       "      <th>Beras Kualitas Medium I (kg)</th>\n",
       "      <th>Beras Kualitas Medium II (kg)</th>\n",
       "      <th>Beras Kualitas Super I (kg)</th>\n",
       "      <th>Beras Kualitas Super II (kg)</th>\n",
       "      <th>Bawang Merah</th>\n",
       "      <th>Bawang Merah Ukuran Sedang (kg)</th>\n",
       "      <th>Bawang Putih</th>\n",
       "      <th>Bawang Putih Ukuran Sedang (kg)</th>\n",
       "      <th>Cabai Merah</th>\n",
       "      <th>Cabai Merah Besar (kg)</th>\n",
       "      <th>Cabai Merah Keriting  (kg)</th>\n",
       "      <th>Cabai Rawit</th>\n",
       "      <th>Cabai Rawit Hijau (kg)</th>\n",
       "      <th>Cabai Rawit Merah (kg)</th>\n",
       "    </tr>\n",
       "  </thead>\n",
       "  <tbody>\n",
       "    <tr>\n",
       "      <th>1365</th>\n",
       "      <td>2021-04-26</td>\n",
       "      <td>11750.0</td>\n",
       "      <td>10750.0</td>\n",
       "      <td>10450.0</td>\n",
       "      <td>11800.0</td>\n",
       "      <td>11600.0</td>\n",
       "      <td>13050.0</td>\n",
       "      <td>12700.0</td>\n",
       "      <td>33300.0</td>\n",
       "      <td>33300.0</td>\n",
       "      <td>30250.0</td>\n",
       "      <td>30250.0</td>\n",
       "      <td>43100.0</td>\n",
       "      <td>45050.0</td>\n",
       "      <td>42750.0</td>\n",
       "      <td>57050.0</td>\n",
       "      <td>48750.0</td>\n",
       "      <td>65900.0</td>\n",
       "    </tr>\n",
       "    <tr>\n",
       "      <th>1366</th>\n",
       "      <td>2021-04-27</td>\n",
       "      <td>11750.0</td>\n",
       "      <td>10750.0</td>\n",
       "      <td>10450.0</td>\n",
       "      <td>11800.0</td>\n",
       "      <td>11600.0</td>\n",
       "      <td>13050.0</td>\n",
       "      <td>12650.0</td>\n",
       "      <td>33250.0</td>\n",
       "      <td>33250.0</td>\n",
       "      <td>30200.0</td>\n",
       "      <td>30200.0</td>\n",
       "      <td>42000.0</td>\n",
       "      <td>44350.0</td>\n",
       "      <td>41650.0</td>\n",
       "      <td>56200.0</td>\n",
       "      <td>47750.0</td>\n",
       "      <td>65200.0</td>\n",
       "    </tr>\n",
       "    <tr>\n",
       "      <th>1367</th>\n",
       "      <td>2021-04-28</td>\n",
       "      <td>11750.0</td>\n",
       "      <td>10750.0</td>\n",
       "      <td>10450.0</td>\n",
       "      <td>11800.0</td>\n",
       "      <td>11600.0</td>\n",
       "      <td>13050.0</td>\n",
       "      <td>12650.0</td>\n",
       "      <td>33200.0</td>\n",
       "      <td>33200.0</td>\n",
       "      <td>30150.0</td>\n",
       "      <td>30150.0</td>\n",
       "      <td>41400.0</td>\n",
       "      <td>43500.0</td>\n",
       "      <td>41050.0</td>\n",
       "      <td>56000.0</td>\n",
       "      <td>47600.0</td>\n",
       "      <td>65150.0</td>\n",
       "    </tr>\n",
       "    <tr>\n",
       "      <th>1368</th>\n",
       "      <td>2021-04-29</td>\n",
       "      <td>11750.0</td>\n",
       "      <td>10750.0</td>\n",
       "      <td>10400.0</td>\n",
       "      <td>11750.0</td>\n",
       "      <td>11600.0</td>\n",
       "      <td>13050.0</td>\n",
       "      <td>12650.0</td>\n",
       "      <td>33100.0</td>\n",
       "      <td>33100.0</td>\n",
       "      <td>30250.0</td>\n",
       "      <td>30250.0</td>\n",
       "      <td>40700.0</td>\n",
       "      <td>43500.0</td>\n",
       "      <td>39950.0</td>\n",
       "      <td>55550.0</td>\n",
       "      <td>47500.0</td>\n",
       "      <td>64250.0</td>\n",
       "    </tr>\n",
       "    <tr>\n",
       "      <th>1369</th>\n",
       "      <td>2021-04-30</td>\n",
       "      <td>11750.0</td>\n",
       "      <td>10750.0</td>\n",
       "      <td>10400.0</td>\n",
       "      <td>11800.0</td>\n",
       "      <td>11550.0</td>\n",
       "      <td>13050.0</td>\n",
       "      <td>12650.0</td>\n",
       "      <td>33100.0</td>\n",
       "      <td>33100.0</td>\n",
       "      <td>30200.0</td>\n",
       "      <td>30200.0</td>\n",
       "      <td>40150.0</td>\n",
       "      <td>42950.0</td>\n",
       "      <td>39250.0</td>\n",
       "      <td>55000.0</td>\n",
       "      <td>46850.0</td>\n",
       "      <td>63850.0</td>\n",
       "    </tr>\n",
       "  </tbody>\n",
       "</table>\n",
       "</div>"
      ],
      "text/plain": [
       "         Tanggal    Beras  Beras Kualitas Bawah I (kg)  \\\n",
       "1365  2021-04-26  11750.0                      10750.0   \n",
       "1366  2021-04-27  11750.0                      10750.0   \n",
       "1367  2021-04-28  11750.0                      10750.0   \n",
       "1368  2021-04-29  11750.0                      10750.0   \n",
       "1369  2021-04-30  11750.0                      10750.0   \n",
       "\n",
       "      Beras Kualitas Bawah II (kg)  Beras Kualitas Medium I (kg)  \\\n",
       "1365                       10450.0                       11800.0   \n",
       "1366                       10450.0                       11800.0   \n",
       "1367                       10450.0                       11800.0   \n",
       "1368                       10400.0                       11750.0   \n",
       "1369                       10400.0                       11800.0   \n",
       "\n",
       "      Beras Kualitas Medium II (kg)  Beras Kualitas Super I (kg)  \\\n",
       "1365                        11600.0                      13050.0   \n",
       "1366                        11600.0                      13050.0   \n",
       "1367                        11600.0                      13050.0   \n",
       "1368                        11600.0                      13050.0   \n",
       "1369                        11550.0                      13050.0   \n",
       "\n",
       "      Beras Kualitas Super II (kg)  Bawang Merah  \\\n",
       "1365                       12700.0       33300.0   \n",
       "1366                       12650.0       33250.0   \n",
       "1367                       12650.0       33200.0   \n",
       "1368                       12650.0       33100.0   \n",
       "1369                       12650.0       33100.0   \n",
       "\n",
       "      Bawang Merah Ukuran Sedang (kg)  Bawang Putih  \\\n",
       "1365                          33300.0       30250.0   \n",
       "1366                          33250.0       30200.0   \n",
       "1367                          33200.0       30150.0   \n",
       "1368                          33100.0       30250.0   \n",
       "1369                          33100.0       30200.0   \n",
       "\n",
       "      Bawang Putih Ukuran Sedang (kg)  Cabai Merah  Cabai Merah Besar (kg)  \\\n",
       "1365                          30250.0      43100.0                 45050.0   \n",
       "1366                          30200.0      42000.0                 44350.0   \n",
       "1367                          30150.0      41400.0                 43500.0   \n",
       "1368                          30250.0      40700.0                 43500.0   \n",
       "1369                          30200.0      40150.0                 42950.0   \n",
       "\n",
       "      Cabai Merah Keriting  (kg)  Cabai Rawit  Cabai Rawit Hijau (kg)  \\\n",
       "1365                     42750.0      57050.0                 48750.0   \n",
       "1366                     41650.0      56200.0                 47750.0   \n",
       "1367                     41050.0      56000.0                 47600.0   \n",
       "1368                     39950.0      55550.0                 47500.0   \n",
       "1369                     39250.0      55000.0                 46850.0   \n",
       "\n",
       "      Cabai Rawit Merah (kg)  \n",
       "1365                 65900.0  \n",
       "1366                 65200.0  \n",
       "1367                 65150.0  \n",
       "1368                 64250.0  \n",
       "1369                 63850.0  "
      ]
     },
     "execution_count": 2,
     "metadata": {},
     "output_type": "execute_result"
    }
   ],
   "source": [
    "data = pd.read_csv('cleaned_data_pangan.csv')\n",
    "data.tail()"
   ]
  },
  {
   "cell_type": "code",
   "execution_count": 3,
   "metadata": {},
   "outputs": [],
   "source": [
    "data['Tanggal'] = pd.to_datetime(data['Tanggal'], infer_datetime_format=True)"
   ]
  },
  {
   "cell_type": "code",
   "execution_count": 4,
   "metadata": {},
   "outputs": [],
   "source": [
    "data.columns = data.columns.str.replace(' ' , '_')"
   ]
  },
  {
   "cell_type": "code",
   "execution_count": 5,
   "metadata": {},
   "outputs": [],
   "source": [
    "df1=data.reset_index()['Bawang_Merah']"
   ]
  },
  {
   "cell_type": "code",
   "execution_count": 6,
   "metadata": {},
   "outputs": [
    {
     "data": {
      "text/plain": [
       "[<matplotlib.lines.Line2D at 0x2e8ab6e0ca0>]"
      ]
     },
     "execution_count": 6,
     "metadata": {},
     "output_type": "execute_result"
    },
    {
     "data": {
      "image/png": "[encoded data removed]",
      "text/plain": [
       "<Figure size 432x288 with 1 Axes>"
      ]
     },
     "metadata": {
      "needs_background": "light"
     },
     "output_type": "display_data"
    }
   ],
   "source": [
    "import matplotlib.pyplot as plt\n",
    "plt.plot(df1)"
   ]
  },
  {
   "cell_type": "code",
   "execution_count": 8,
   "metadata": {},
   "outputs": [],
   "source": [
    "import numpy as np"
   ]
  },
  {
   "cell_type": "code",
   "execution_count": 9,
   "metadata": {},
   "outputs": [],
   "source": [
    "from sklearn.preprocessing import MinMaxScaler\n",
    "scaler=MinMaxScaler(feature_range=(0,1))\n",
    "df1=scaler.fit_transform(np.array(df1).reshape(-1,1))"
   ]
  },
  {
   "cell_type": "code",
   "execution_count": 10,
   "metadata": {},
   "outputs": [],
   "source": [
    "##splitting dataset into train and test split\n",
    "training_size=int(len(df1)*0.65)\n",
    "test_size=len(df1)-training_size\n",
    "train_data,test_data=df1[0:training_size,:],df1[training_size:len(df1),:1]"
   ]
  },
  {
   "cell_type": "code",
   "execution_count": 11,
   "metadata": {},
   "outputs": [
    {
     "data": {
      "text/plain": [
       "(890, 480)"
      ]
     },
     "execution_count": 11,
     "metadata": {},
     "output_type": "execute_result"
    }
   ],
   "source": [
    "training_size,test_size"
   ]
  },
  {
   "cell_type": "code",
   "execution_count": 12,
   "metadata": {},
   "outputs": [],
   "source": [
    "import numpy\n",
    "# convert an array of values into a dataset matrix\n",
    "def create_dataset(dataset, time_step=1):\n",
    "    dataX, dataY = [], []\n",
    "    for i in range(len(dataset)-time_step-1):\n",
    "        a = dataset[i:(i+time_step), 0]   ###i=0, 0,1,2,3-----99   100 \n",
    "        dataX.append(a)\n",
    "        dataY.append(dataset[i + time_step, 0])\n",
    "    return numpy.array(dataX), numpy.array(dataY)"
   ]
  },
  {
   "cell_type": "code",
   "execution_count": 13,
   "metadata": {},
   "outputs": [],
   "source": [
    "# reshape into X=t,t+1,t+2,t+3 and Y=t+4\n",
    "time_step = 100\n",
    "X_train, y_train = create_dataset(train_data, time_step)\n",
    "X_test, ytest = create_dataset(test_data, time_step)"
   ]
  },
  {
   "cell_type": "code",
   "execution_count": 14,
   "metadata": {},
   "outputs": [
    {
     "name": "stdout",
     "output_type": "stream",
     "text": [
      "(789, 100)\n",
      "(789,)\n"
     ]
    },
    {
     "data": {
      "text/plain": [
       "(None, None)"
      ]
     },
     "execution_count": 14,
     "metadata": {},
     "output_type": "execute_result"
    }
   ],
   "source": [
    "print(X_train.shape), print(y_train.shape)"
   ]
  },
  {
   "cell_type": "code",
   "execution_count": 15,
   "metadata": {},
   "outputs": [
    {
     "name": "stdout",
     "output_type": "stream",
     "text": [
      "(379, 100)\n",
      "(379,)\n"
     ]
    },
    {
     "data": {
      "text/plain": [
       "(None, None)"
      ]
     },
     "execution_count": 15,
     "metadata": {},
     "output_type": "execute_result"
    }
   ],
   "source": [
    "print(X_test.shape), print(ytest.shape)"
   ]
  },
  {
   "cell_type": "code",
   "execution_count": 16,
   "metadata": {},
   "outputs": [],
   "source": [
    "# reshape input to be [samples, time steps, features] which is required for LSTM\n",
    "X_train =X_train.reshape(X_train.shape[0],X_train.shape[1] , 1)\n",
    "X_test = X_test.reshape(X_test.shape[0],X_test.shape[1] , 1)"
   ]
  },
  {
   "cell_type": "code",
   "execution_count": 20,
   "metadata": {},
   "outputs": [],
   "source": [
    "### Create the Stacked LSTM model\n",
    "from tensorflow.keras.models import Sequential\n",
    "from tensorflow.keras.layers import Dense\n",
    "from tensorflow.keras.layers import LSTM\n",
    "import tensorflow as tf"
   ]
  },
  {
   "cell_type": "code",
   "execution_count": 47,
   "metadata": {},
   "outputs": [],
   "source": [
    "model = tf.keras.Sequential()\n",
    "model.add(tf.keras.layers.LSTM(128, input_shape=(100, 1), return_sequences=True))\n",
    "model.add(tf.keras.layers.LeakyReLU(alpha=0.2))\n",
    "model.add(tf.keras.layers.LSTM(128, return_sequences=True))\n",
    "model.add(tf.keras.layers.LeakyReLU(alpha=0.2))\n",
    "model.add(tf.keras.layers.Dropout(rate=0.2))\n",
    "model.add(tf.keras.layers.LSTM(64, return_sequences=False))\n",
    "model.add(tf.keras.layers.Dropout(rate=0.2))\n",
    "model.add(tf.keras.layers.Dense(1))"
   ]
  },
  {
   "cell_type": "code",
   "execution_count": 48,
   "metadata": {},
   "outputs": [
    {
     "name": "stdout",
     "output_type": "stream",
     "text": [
      "Model: \"sequential_2\"\n",
      "_________________________________________________________________\n",
      "Layer (type)                 Output Shape              Param #   \n",
      "=================================================================\n",
      "lstm_6 (LSTM)                (None, 100, 128)          66560     \n",
      "_________________________________________________________________\n",
      "leaky_re_lu_4 (LeakyReLU)    (None, 100, 128)          0         \n",
      "_________________________________________________________________\n",
      "lstm_7 (LSTM)                (None, 100, 128)          131584    \n",
      "_________________________________________________________________\n",
      "leaky_re_lu_5 (LeakyReLU)    (None, 100, 128)          0         \n",
      "_________________________________________________________________\n",
      "dropout_4 (Dropout)          (None, 100, 128)          0         \n",
      "_________________________________________________________________\n",
      "lstm_8 (LSTM)                (None, 64)                49408     \n",
      "_________________________________________________________________\n",
      "dropout_5 (Dropout)          (None, 64)                0         \n",
      "_________________________________________________________________\n",
      "dense_2 (Dense)              (None, 1)                 65        \n",
      "=================================================================\n",
      "Total params: 247,617\n",
      "Trainable params: 247,617\n",
      "Non-trainable params: 0\n",
      "_________________________________________________________________\n"
     ]
    }
   ],
   "source": [
    "model.summary()"
   ]
  },
  {
   "cell_type": "code",
   "execution_count": 49,
   "metadata": {},
   "outputs": [
    {
     "name": "stdout",
     "output_type": "stream",
     "text": [
      "Epoch 1/50\n",
      "13/13 [==============================] - 10s 790ms/step - loss: 0.0163 - mean_absolute_error: 0.1027 - val_loss: 0.0218 - val_mean_absolute_error: 0.1029\n",
      "Epoch 2/50\n",
      "13/13 [==============================] - 8s 629ms/step - loss: 0.0046 - mean_absolute_error: 0.0519 - val_loss: 0.0059 - val_mean_absolute_error: 0.0587\n",
      "Epoch 3/50\n",
      "13/13 [==============================] - 8s 628ms/step - loss: 0.0070 - mean_absolute_error: 0.0614 - val_loss: 0.0272 - val_mean_absolute_error: 0.1422\n",
      "Epoch 4/50\n",
      "13/13 [==============================] - 8s 640ms/step - loss: 0.0110 - mean_absolute_error: 0.0818 - val_loss: 0.0045 - val_mean_absolute_error: 0.0493\n",
      "Epoch 5/50\n",
      "13/13 [==============================] - 8s 637ms/step - loss: 0.0057 - mean_absolute_error: 0.0584 - val_loss: 0.0050 - val_mean_absolute_error: 0.0459\n",
      "Epoch 6/50\n",
      "13/13 [==============================] - 8s 621ms/step - loss: 0.0030 - mean_absolute_error: 0.0405 - val_loss: 0.0057 - val_mean_absolute_error: 0.0482\n",
      "Epoch 7/50\n",
      "13/13 [==============================] - 9s 662ms/step - loss: 0.0023 - mean_absolute_error: 0.0364 - val_loss: 0.0041 - val_mean_absolute_error: 0.0385\n",
      "Epoch 8/50\n",
      "13/13 [==============================] - 8s 596ms/step - loss: 0.0019 - mean_absolute_error: 0.0299 - val_loss: 0.0021 - val_mean_absolute_error: 0.0334\n",
      "Epoch 9/50\n",
      "13/13 [==============================] - 8s 637ms/step - loss: 0.0020 - mean_absolute_error: 0.0315 - val_loss: 0.0028 - val_mean_absolute_error: 0.0467\n",
      "Epoch 10/50\n",
      "13/13 [==============================] - 9s 659ms/step - loss: 0.0026 - mean_absolute_error: 0.0347 - val_loss: 0.0037 - val_mean_absolute_error: 0.0540\n",
      "Epoch 11/50\n",
      "13/13 [==============================] - 8s 623ms/step - loss: 0.0027 - mean_absolute_error: 0.0364 - val_loss: 0.0024 - val_mean_absolute_error: 0.0420\n"
     ]
    }
   ],
   "source": [
    "early_stopping = tf.keras.callbacks.EarlyStopping(monitor= 'val_loss',\n",
    "                                                 patience=3,\n",
    "                                                 mode='min')\n",
    "\n",
    "model.compile(loss=tf.losses.MeanSquaredError(), \n",
    "              optimizer='adam', \n",
    "             metrics = [tf.metrics.MeanAbsoluteError()])\n",
    "\n",
    "history = model.fit(X_train,y_train, epochs = 50,\n",
    "                    validation_data = (X_test,ytest),                    \n",
    "                    shuffle = False,\n",
    "                    batch_size = 64,\n",
    "                    verbose = 1,\n",
    "                    callbacks=[early_stopping])"
   ]
  },
  {
   "cell_type": "code",
   "execution_count": 50,
   "metadata": {
    "scrolled": true
   },
   "outputs": [
    {
     "data": {
      "text/plain": [
       "<matplotlib.legend.Legend at 0x2e8e0547e50>"
      ]
     },
     "execution_count": 50,
     "metadata": {},
     "output_type": "execute_result"
    },
    {
     "data": {
      "image/png": "[encoded data removed]",
      "text/plain": [
       "<Figure size 432x288 with 1 Axes>"
      ]
     },
     "metadata": {
      "needs_background": "light"
     },
     "output_type": "display_data"
    }
   ],
   "source": [
    "plt.plot(history.history['loss'], label='train')\n",
    "plt.plot(history.history['val_loss'], label='test')\n",
    "plt.legend()"
   ]
  },
  {
   "cell_type": "code",
   "execution_count": 51,
   "metadata": {},
   "outputs": [],
   "source": [
    "import tensorflow as tf"
   ]
  },
  {
   "cell_type": "code",
   "execution_count": 52,
   "metadata": {},
   "outputs": [
    {
     "data": {
      "text/plain": [
       "'2.3.1'"
      ]
     },
     "execution_count": 52,
     "metadata": {},
     "output_type": "execute_result"
    }
   ],
   "source": [
    "tf.__version__"
   ]
  },
  {
   "cell_type": "code",
   "execution_count": 53,
   "metadata": {},
   "outputs": [],
   "source": [
    "### Lets Do the prediction and check performance metrics\n",
    "train_predict=model.predict(X_train)\n",
    "test_predict=model.predict(X_test)"
   ]
  },
  {
   "cell_type": "code",
   "execution_count": 54,
   "metadata": {},
   "outputs": [],
   "source": [
    "##Transformback to original form\n",
    "train_predict=scaler.inverse_transform(train_predict)\n",
    "test_predict=scaler.inverse_transform(test_predict)"
   ]
  },
  {
   "cell_type": "code",
   "execution_count": 55,
   "metadata": {},
   "outputs": [
    {
     "data": {
      "text/plain": [
       "31423.342053606848"
      ]
     },
     "execution_count": 55,
     "metadata": {},
     "output_type": "execute_result"
    }
   ],
   "source": [
    "### Calculate RMSE performance metrics\n",
    "import math\n",
    "from sklearn.metrics import mean_squared_error\n",
    "math.sqrt(mean_squared_error(y_train,train_predict))"
   ]
  },
  {
   "cell_type": "code",
   "execution_count": 56,
   "metadata": {},
   "outputs": [
    {
     "data": {
      "text/plain": [
       "39151.470859601"
      ]
     },
     "execution_count": 56,
     "metadata": {},
     "output_type": "execute_result"
    }
   ],
   "source": [
    "### Test Data RMSE\n",
    "math.sqrt(mean_squared_error(ytest,test_predict))"
   ]
  },
  {
   "cell_type": "code",
   "execution_count": 57,
   "metadata": {},
   "outputs": [
    {
     "data": {
      "image/png": "[encoded data removed]",
      "text/plain": [
       "<Figure size 432x288 with 1 Axes>"
      ]
     },
     "metadata": {
      "needs_background": "light"
     },
     "output_type": "display_data"
    }
   ],
   "source": [
    "### Plotting \n",
    "# shift train predictions for plotting\n",
    "look_back=100\n",
    "trainPredictPlot = numpy.empty_like(df1)\n",
    "trainPredictPlot[:, :] = np.nan\n",
    "trainPredictPlot[look_back:len(train_predict)+look_back, :] = train_predict\n",
    "# shift test predictions for plotting\n",
    "testPredictPlot = numpy.empty_like(df1)\n",
    "testPredictPlot[:, :] = numpy.nan\n",
    "testPredictPlot[len(train_predict)+(look_back*2)+1:len(df1)-1, :] = test_predict\n",
    "# plot baseline and predictions\n",
    "plt.plot(scaler.inverse_transform(df1))\n",
    "plt.plot(trainPredictPlot)\n",
    "plt.plot(testPredictPlot)\n",
    "plt.show()"
   ]
  },
  {
   "cell_type": "code",
   "execution_count": 58,
   "metadata": {},
   "outputs": [
    {
     "data": {
      "text/plain": [
       "480"
      ]
     },
     "execution_count": 58,
     "metadata": {},
     "output_type": "execute_result"
    }
   ],
   "source": [
    "len(test_data)"
   ]
  },
  {
   "cell_type": "code",
   "execution_count": 59,
   "metadata": {},
   "outputs": [
    {
     "data": {
      "text/plain": [
       "(1, 100)"
      ]
     },
     "execution_count": 59,
     "metadata": {},
     "output_type": "execute_result"
    }
   ],
   "source": [
    "x_input=test_data[380:].reshape(1,-1)\n",
    "x_input.shape"
   ]
  },
  {
   "cell_type": "code",
   "execution_count": 60,
   "metadata": {},
   "outputs": [],
   "source": [
    "temp_input=list(x_input)\n",
    "temp_input=temp_input[0].tolist()"
   ]
  },
  {
   "cell_type": "code",
   "execution_count": 61,
   "metadata": {},
   "outputs": [
    {
     "data": {
      "text/plain": [
       "[0.2900662251655629,\n",
       " 0.2887417218543046,\n",
       " 0.2847682119205298,\n",
       " 0.28079470198675494,\n",
       " 0.27682119205298017,\n",
       " 0.2781456953642384,\n",
       " 0.2794701986754967,\n",
       " 0.27152317880794696,\n",
       " 0.27019867549668874,\n",
       " 0.26843267108167757,\n",
       " 0.26666666666666683,\n",
       " 0.26490066225165565,\n",
       " 0.2635761589403973,\n",
       " 0.2609271523178808,\n",
       " 0.2622516556291391,\n",
       " 0.25960264900662255,\n",
       " 0.25960264900662255,\n",
       " 0.25960264900662255,\n",
       " 0.25960264900662255,\n",
       " 0.2622516556291391,\n",
       " 0.2728476821192053,\n",
       " 0.28079470198675494,\n",
       " 0.2850993377483444,\n",
       " 0.28940397350993374,\n",
       " 0.2937086092715232,\n",
       " 0.29801324503311255,\n",
       " 0.2993377483443709,\n",
       " 0.304635761589404,\n",
       " 0.30331125827814565,\n",
       " 0.3019867549668874,\n",
       " 0.3059602649006622,\n",
       " 0.30993377483443707,\n",
       " 0.31390728476821195,\n",
       " 0.31920529801324504,\n",
       " 0.3231788079470198,\n",
       " 0.32582781456953636,\n",
       " 0.328476821192053,\n",
       " 0.33200883002207515,\n",
       " 0.33554083885209707,\n",
       " 0.3390728476821192,\n",
       " 0.34304635761589397,\n",
       " 0.3496688741721854,\n",
       " 0.35231788079470194,\n",
       " 0.3536423841059603,\n",
       " 0.3571743929359824,\n",
       " 0.3607064017660043,\n",
       " 0.36423841059602646,\n",
       " 0.3655629139072848,\n",
       " 0.36423841059602646,\n",
       " 0.3655629139072848,\n",
       " 0.366887417218543,\n",
       " 0.36732891832229575,\n",
       " 0.3677704194260486,\n",
       " 0.36821192052980134,\n",
       " 0.36821192052980134,\n",
       " 0.36821192052980134,\n",
       " 0.3655629139072848,\n",
       " 0.36953642384105956,\n",
       " 0.36865342163355397,\n",
       " 0.3677704194260486,\n",
       " 0.366887417218543,\n",
       " 0.3615894039735099,\n",
       " 0.3615894039735099,\n",
       " 0.35894039735099337,\n",
       " 0.3562913907284768,\n",
       " 0.35452538631346586,\n",
       " 0.3527593818984547,\n",
       " 0.3509933774834437,\n",
       " 0.3496688741721854,\n",
       " 0.34701986754966885,\n",
       " 0.34304635761589397,\n",
       " 0.340728476821192,\n",
       " 0.33841059602649004,\n",
       " 0.3360927152317881,\n",
       " 0.3337748344370861,\n",
       " 0.3337748344370861,\n",
       " 0.32980132450331123,\n",
       " 0.328476821192053,\n",
       " 0.328476821192053,\n",
       " 0.33200883002207515,\n",
       " 0.33554083885209707,\n",
       " 0.3390728476821192,\n",
       " 0.3377483443708609,\n",
       " 0.3377483443708609,\n",
       " 0.3377483443708609,\n",
       " 0.33642384105960266,\n",
       " 0.33554083885209707,\n",
       " 0.3346578366445917,\n",
       " 0.3337748344370861,\n",
       " 0.33112582781456956,\n",
       " 0.328476821192053,\n",
       " 0.32450331125827814,\n",
       " 0.3231788079470198,\n",
       " 0.32008830022075063,\n",
       " 0.3169977924944811,\n",
       " 0.31390728476821195,\n",
       " 0.3125827814569536,\n",
       " 0.3112582781456954,\n",
       " 0.30860927152317874,\n",
       " 0.30860927152317874]"
      ]
     },
     "execution_count": 61,
     "metadata": {},
     "output_type": "execute_result"
    }
   ],
   "source": [
    "temp_input"
   ]
  },
  {
   "cell_type": "code",
   "execution_count": 62,
   "metadata": {},
   "outputs": [
    {
     "name": "stdout",
     "output_type": "stream",
     "text": [
      "[0.3522596]\n",
      "101\n",
      "1 day input [0.28874172 0.28476821 0.2807947  0.27682119 0.2781457  0.2794702\n",
      " 0.27152318 0.27019868 0.26843267 0.26666667 0.26490066 0.26357616\n",
      " 0.26092715 0.26225166 0.25960265 0.25960265 0.25960265 0.25960265\n",
      " 0.26225166 0.27284768 0.2807947  0.28509934 0.28940397 0.29370861\n",
      " 0.29801325 0.29933775 0.30463576 0.30331126 0.30198675 0.30596026\n",
      " 0.30993377 0.31390728 0.3192053  0.32317881 0.32582781 0.32847682\n",
      " 0.33200883 0.33554084 0.33907285 0.34304636 0.34966887 0.35231788\n",
      " 0.35364238 0.35717439 0.3607064  0.36423841 0.36556291 0.36423841\n",
      " 0.36556291 0.36688742 0.36732892 0.36777042 0.36821192 0.36821192\n",
      " 0.36821192 0.36556291 0.36953642 0.36865342 0.36777042 0.36688742\n",
      " 0.3615894  0.3615894  0.3589404  0.35629139 0.35452539 0.35275938\n",
      " 0.35099338 0.34966887 0.34701987 0.34304636 0.34072848 0.3384106\n",
      " 0.33609272 0.33377483 0.33377483 0.32980132 0.32847682 0.32847682\n",
      " 0.33200883 0.33554084 0.33907285 0.33774834 0.33774834 0.33774834\n",
      " 0.33642384 0.33554084 0.33465784 0.33377483 0.33112583 0.32847682\n",
      " 0.32450331 0.32317881 0.3200883  0.31699779 0.31390728 0.31258278\n",
      " 0.31125828 0.30860927 0.30860927 0.35225961]\n",
      "1 day output [[0.35050723]]\n",
      "2 day input [0.28476821 0.2807947  0.27682119 0.2781457  0.2794702  0.27152318\n",
      " 0.27019868 0.26843267 0.26666667 0.26490066 0.26357616 0.26092715\n",
      " 0.26225166 0.25960265 0.25960265 0.25960265 0.25960265 0.26225166\n",
      " 0.27284768 0.2807947  0.28509934 0.28940397 0.29370861 0.29801325\n",
      " 0.29933775 0.30463576 0.30331126 0.30198675 0.30596026 0.30993377\n",
      " 0.31390728 0.3192053  0.32317881 0.32582781 0.32847682 0.33200883\n",
      " 0.33554084 0.33907285 0.34304636 0.34966887 0.35231788 0.35364238\n",
      " 0.35717439 0.3607064  0.36423841 0.36556291 0.36423841 0.36556291\n",
      " 0.36688742 0.36732892 0.36777042 0.36821192 0.36821192 0.36821192\n",
      " 0.36556291 0.36953642 0.36865342 0.36777042 0.36688742 0.3615894\n",
      " 0.3615894  0.3589404  0.35629139 0.35452539 0.35275938 0.35099338\n",
      " 0.34966887 0.34701987 0.34304636 0.34072848 0.3384106  0.33609272\n",
      " 0.33377483 0.33377483 0.32980132 0.32847682 0.32847682 0.33200883\n",
      " 0.33554084 0.33907285 0.33774834 0.33774834 0.33774834 0.33642384\n",
      " 0.33554084 0.33465784 0.33377483 0.33112583 0.32847682 0.32450331\n",
      " 0.32317881 0.3200883  0.31699779 0.31390728 0.31258278 0.31125828\n",
      " 0.30860927 0.30860927 0.35225961 0.35050723]\n",
      "2 day output [[0.3497806]]\n",
      "3 day input [0.2807947  0.27682119 0.2781457  0.2794702  0.27152318 0.27019868\n",
      " 0.26843267 0.26666667 0.26490066 0.26357616 0.26092715 0.26225166\n",
      " 0.25960265 0.25960265 0.25960265 0.25960265 0.26225166 0.27284768\n",
      " 0.2807947  0.28509934 0.28940397 0.29370861 0.29801325 0.29933775\n",
      " 0.30463576 0.30331126 0.30198675 0.30596026 0.30993377 0.31390728\n",
      " 0.3192053  0.32317881 0.32582781 0.32847682 0.33200883 0.33554084\n",
      " 0.33907285 0.34304636 0.34966887 0.35231788 0.35364238 0.35717439\n",
      " 0.3607064  0.36423841 0.36556291 0.36423841 0.36556291 0.36688742\n",
      " 0.36732892 0.36777042 0.36821192 0.36821192 0.36821192 0.36556291\n",
      " 0.36953642 0.36865342 0.36777042 0.36688742 0.3615894  0.3615894\n",
      " 0.3589404  0.35629139 0.35452539 0.35275938 0.35099338 0.34966887\n",
      " 0.34701987 0.34304636 0.34072848 0.3384106  0.33609272 0.33377483\n",
      " 0.33377483 0.32980132 0.32847682 0.32847682 0.33200883 0.33554084\n",
      " 0.33907285 0.33774834 0.33774834 0.33774834 0.33642384 0.33554084\n",
      " 0.33465784 0.33377483 0.33112583 0.32847682 0.32450331 0.32317881\n",
      " 0.3200883  0.31699779 0.31390728 0.31258278 0.31125828 0.30860927\n",
      " 0.30860927 0.35225961 0.35050723 0.34978059]\n",
      "3 day output [[0.35019493]]\n",
      "4 day input [0.27682119 0.2781457  0.2794702  0.27152318 0.27019868 0.26843267\n",
      " 0.26666667 0.26490066 0.26357616 0.26092715 0.26225166 0.25960265\n",
      " 0.25960265 0.25960265 0.25960265 0.26225166 0.27284768 0.2807947\n",
      " 0.28509934 0.28940397 0.29370861 0.29801325 0.29933775 0.30463576\n",
      " 0.30331126 0.30198675 0.30596026 0.30993377 0.31390728 0.3192053\n",
      " 0.32317881 0.32582781 0.32847682 0.33200883 0.33554084 0.33907285\n",
      " 0.34304636 0.34966887 0.35231788 0.35364238 0.35717439 0.3607064\n",
      " 0.36423841 0.36556291 0.36423841 0.36556291 0.36688742 0.36732892\n",
      " 0.36777042 0.36821192 0.36821192 0.36821192 0.36556291 0.36953642\n",
      " 0.36865342 0.36777042 0.36688742 0.3615894  0.3615894  0.3589404\n",
      " 0.35629139 0.35452539 0.35275938 0.35099338 0.34966887 0.34701987\n",
      " 0.34304636 0.34072848 0.3384106  0.33609272 0.33377483 0.33377483\n",
      " 0.32980132 0.32847682 0.32847682 0.33200883 0.33554084 0.33907285\n",
      " 0.33774834 0.33774834 0.33774834 0.33642384 0.33554084 0.33465784\n",
      " 0.33377483 0.33112583 0.32847682 0.32450331 0.32317881 0.3200883\n",
      " 0.31699779 0.31390728 0.31258278 0.31125828 0.30860927 0.30860927\n",
      " 0.35225961 0.35050723 0.34978059 0.35019493]\n",
      "4 day output [[0.35169914]]\n",
      "5 day input [0.2781457  0.2794702  0.27152318 0.27019868 0.26843267 0.26666667\n",
      " 0.26490066 0.26357616 0.26092715 0.26225166 0.25960265 0.25960265\n",
      " 0.25960265 0.25960265 0.26225166 0.27284768 0.2807947  0.28509934\n",
      " 0.28940397 0.29370861 0.29801325 0.29933775 0.30463576 0.30331126\n",
      " 0.30198675 0.30596026 0.30993377 0.31390728 0.3192053  0.32317881\n",
      " 0.32582781 0.32847682 0.33200883 0.33554084 0.33907285 0.34304636\n",
      " 0.34966887 0.35231788 0.35364238 0.35717439 0.3607064  0.36423841\n",
      " 0.36556291 0.36423841 0.36556291 0.36688742 0.36732892 0.36777042\n",
      " 0.36821192 0.36821192 0.36821192 0.36556291 0.36953642 0.36865342\n",
      " 0.36777042 0.36688742 0.3615894  0.3615894  0.3589404  0.35629139\n",
      " 0.35452539 0.35275938 0.35099338 0.34966887 0.34701987 0.34304636\n",
      " 0.34072848 0.3384106  0.33609272 0.33377483 0.33377483 0.32980132\n",
      " 0.32847682 0.32847682 0.33200883 0.33554084 0.33907285 0.33774834\n",
      " 0.33774834 0.33774834 0.33642384 0.33554084 0.33465784 0.33377483\n",
      " 0.33112583 0.32847682 0.32450331 0.32317881 0.3200883  0.31699779\n",
      " 0.31390728 0.31258278 0.31125828 0.30860927 0.30860927 0.35225961\n",
      " 0.35050723 0.34978059 0.35019493 0.35169914]\n",
      "5 day output [[0.35414913]]\n",
      "6 day input [0.2794702  0.27152318 0.27019868 0.26843267 0.26666667 0.26490066\n",
      " 0.26357616 0.26092715 0.26225166 0.25960265 0.25960265 0.25960265\n",
      " 0.25960265 0.26225166 0.27284768 0.2807947  0.28509934 0.28940397\n",
      " 0.29370861 0.29801325 0.29933775 0.30463576 0.30331126 0.30198675\n",
      " 0.30596026 0.30993377 0.31390728 0.3192053  0.32317881 0.32582781\n",
      " 0.32847682 0.33200883 0.33554084 0.33907285 0.34304636 0.34966887\n",
      " 0.35231788 0.35364238 0.35717439 0.3607064  0.36423841 0.36556291\n",
      " 0.36423841 0.36556291 0.36688742 0.36732892 0.36777042 0.36821192\n",
      " 0.36821192 0.36821192 0.36556291 0.36953642 0.36865342 0.36777042\n",
      " 0.36688742 0.3615894  0.3615894  0.3589404  0.35629139 0.35452539\n",
      " 0.35275938 0.35099338 0.34966887 0.34701987 0.34304636 0.34072848\n",
      " 0.3384106  0.33609272 0.33377483 0.33377483 0.32980132 0.32847682\n",
      " 0.32847682 0.33200883 0.33554084 0.33907285 0.33774834 0.33774834\n",
      " 0.33774834 0.33642384 0.33554084 0.33465784 0.33377483 0.33112583\n",
      " 0.32847682 0.32450331 0.32317881 0.3200883  0.31699779 0.31390728\n",
      " 0.31258278 0.31125828 0.30860927 0.30860927 0.35225961 0.35050723\n",
      " 0.34978059 0.35019493 0.35169914 0.35414913]\n",
      "6 day output [[0.35735947]]\n",
      "7 day input [0.27152318 0.27019868 0.26843267 0.26666667 0.26490066 0.26357616\n",
      " 0.26092715 0.26225166 0.25960265 0.25960265 0.25960265 0.25960265\n",
      " 0.26225166 0.27284768 0.2807947  0.28509934 0.28940397 0.29370861\n",
      " 0.29801325 0.29933775 0.30463576 0.30331126 0.30198675 0.30596026\n",
      " 0.30993377 0.31390728 0.3192053  0.32317881 0.32582781 0.32847682\n",
      " 0.33200883 0.33554084 0.33907285 0.34304636 0.34966887 0.35231788\n",
      " 0.35364238 0.35717439 0.3607064  0.36423841 0.36556291 0.36423841\n",
      " 0.36556291 0.36688742 0.36732892 0.36777042 0.36821192 0.36821192\n",
      " 0.36821192 0.36556291 0.36953642 0.36865342 0.36777042 0.36688742\n",
      " 0.3615894  0.3615894  0.3589404  0.35629139 0.35452539 0.35275938\n",
      " 0.35099338 0.34966887 0.34701987 0.34304636 0.34072848 0.3384106\n",
      " 0.33609272 0.33377483 0.33377483 0.32980132 0.32847682 0.32847682\n",
      " 0.33200883 0.33554084 0.33907285 0.33774834 0.33774834 0.33774834\n",
      " 0.33642384 0.33554084 0.33465784 0.33377483 0.33112583 0.32847682\n",
      " 0.32450331 0.32317881 0.3200883  0.31699779 0.31390728 0.31258278\n",
      " 0.31125828 0.30860927 0.30860927 0.35225961 0.35050723 0.34978059\n",
      " 0.35019493 0.35169914 0.35414913 0.35735947]\n",
      "7 day output [[0.36114106]]\n",
      "8 day input [0.27019868 0.26843267 0.26666667 0.26490066 0.26357616 0.26092715\n",
      " 0.26225166 0.25960265 0.25960265 0.25960265 0.25960265 0.26225166\n",
      " 0.27284768 0.2807947  0.28509934 0.28940397 0.29370861 0.29801325\n",
      " 0.29933775 0.30463576 0.30331126 0.30198675 0.30596026 0.30993377\n",
      " 0.31390728 0.3192053  0.32317881 0.32582781 0.32847682 0.33200883\n",
      " 0.33554084 0.33907285 0.34304636 0.34966887 0.35231788 0.35364238\n",
      " 0.35717439 0.3607064  0.36423841 0.36556291 0.36423841 0.36556291\n",
      " 0.36688742 0.36732892 0.36777042 0.36821192 0.36821192 0.36821192\n",
      " 0.36556291 0.36953642 0.36865342 0.36777042 0.36688742 0.3615894\n",
      " 0.3615894  0.3589404  0.35629139 0.35452539 0.35275938 0.35099338\n",
      " 0.34966887 0.34701987 0.34304636 0.34072848 0.3384106  0.33609272\n",
      " 0.33377483 0.33377483 0.32980132 0.32847682 0.32847682 0.33200883\n",
      " 0.33554084 0.33907285 0.33774834 0.33774834 0.33774834 0.33642384\n",
      " 0.33554084 0.33465784 0.33377483 0.33112583 0.32847682 0.32450331\n",
      " 0.32317881 0.3200883  0.31699779 0.31390728 0.31258278 0.31125828\n",
      " 0.30860927 0.30860927 0.35225961 0.35050723 0.34978059 0.35019493\n",
      " 0.35169914 0.35414913 0.35735947 0.36114106]\n"
     ]
    },
    {
     "name": "stdout",
     "output_type": "stream",
     "text": [
      "8 day output [[0.3653231]]\n",
      "9 day input [0.26843267 0.26666667 0.26490066 0.26357616 0.26092715 0.26225166\n",
      " 0.25960265 0.25960265 0.25960265 0.25960265 0.26225166 0.27284768\n",
      " 0.2807947  0.28509934 0.28940397 0.29370861 0.29801325 0.29933775\n",
      " 0.30463576 0.30331126 0.30198675 0.30596026 0.30993377 0.31390728\n",
      " 0.3192053  0.32317881 0.32582781 0.32847682 0.33200883 0.33554084\n",
      " 0.33907285 0.34304636 0.34966887 0.35231788 0.35364238 0.35717439\n",
      " 0.3607064  0.36423841 0.36556291 0.36423841 0.36556291 0.36688742\n",
      " 0.36732892 0.36777042 0.36821192 0.36821192 0.36821192 0.36556291\n",
      " 0.36953642 0.36865342 0.36777042 0.36688742 0.3615894  0.3615894\n",
      " 0.3589404  0.35629139 0.35452539 0.35275938 0.35099338 0.34966887\n",
      " 0.34701987 0.34304636 0.34072848 0.3384106  0.33609272 0.33377483\n",
      " 0.33377483 0.32980132 0.32847682 0.32847682 0.33200883 0.33554084\n",
      " 0.33907285 0.33774834 0.33774834 0.33774834 0.33642384 0.33554084\n",
      " 0.33465784 0.33377483 0.33112583 0.32847682 0.32450331 0.32317881\n",
      " 0.3200883  0.31699779 0.31390728 0.31258278 0.31125828 0.30860927\n",
      " 0.30860927 0.35225961 0.35050723 0.34978059 0.35019493 0.35169914\n",
      " 0.35414913 0.35735947 0.36114106 0.3653231 ]\n",
      "9 day output [[0.36976284]]\n",
      "10 day input [0.26666667 0.26490066 0.26357616 0.26092715 0.26225166 0.25960265\n",
      " 0.25960265 0.25960265 0.25960265 0.26225166 0.27284768 0.2807947\n",
      " 0.28509934 0.28940397 0.29370861 0.29801325 0.29933775 0.30463576\n",
      " 0.30331126 0.30198675 0.30596026 0.30993377 0.31390728 0.3192053\n",
      " 0.32317881 0.32582781 0.32847682 0.33200883 0.33554084 0.33907285\n",
      " 0.34304636 0.34966887 0.35231788 0.35364238 0.35717439 0.3607064\n",
      " 0.36423841 0.36556291 0.36423841 0.36556291 0.36688742 0.36732892\n",
      " 0.36777042 0.36821192 0.36821192 0.36821192 0.36556291 0.36953642\n",
      " 0.36865342 0.36777042 0.36688742 0.3615894  0.3615894  0.3589404\n",
      " 0.35629139 0.35452539 0.35275938 0.35099338 0.34966887 0.34701987\n",
      " 0.34304636 0.34072848 0.3384106  0.33609272 0.33377483 0.33377483\n",
      " 0.32980132 0.32847682 0.32847682 0.33200883 0.33554084 0.33907285\n",
      " 0.33774834 0.33774834 0.33774834 0.33642384 0.33554084 0.33465784\n",
      " 0.33377483 0.33112583 0.32847682 0.32450331 0.32317881 0.3200883\n",
      " 0.31699779 0.31390728 0.31258278 0.31125828 0.30860927 0.30860927\n",
      " 0.35225961 0.35050723 0.34978059 0.35019493 0.35169914 0.35414913\n",
      " 0.35735947 0.36114106 0.3653231  0.36976284]\n",
      "10 day output [[0.37434578]]\n",
      "11 day input [0.26490066 0.26357616 0.26092715 0.26225166 0.25960265 0.25960265\n",
      " 0.25960265 0.25960265 0.26225166 0.27284768 0.2807947  0.28509934\n",
      " 0.28940397 0.29370861 0.29801325 0.29933775 0.30463576 0.30331126\n",
      " 0.30198675 0.30596026 0.30993377 0.31390728 0.3192053  0.32317881\n",
      " 0.32582781 0.32847682 0.33200883 0.33554084 0.33907285 0.34304636\n",
      " 0.34966887 0.35231788 0.35364238 0.35717439 0.3607064  0.36423841\n",
      " 0.36556291 0.36423841 0.36556291 0.36688742 0.36732892 0.36777042\n",
      " 0.36821192 0.36821192 0.36821192 0.36556291 0.36953642 0.36865342\n",
      " 0.36777042 0.36688742 0.3615894  0.3615894  0.3589404  0.35629139\n",
      " 0.35452539 0.35275938 0.35099338 0.34966887 0.34701987 0.34304636\n",
      " 0.34072848 0.3384106  0.33609272 0.33377483 0.33377483 0.32980132\n",
      " 0.32847682 0.32847682 0.33200883 0.33554084 0.33907285 0.33774834\n",
      " 0.33774834 0.33774834 0.33642384 0.33554084 0.33465784 0.33377483\n",
      " 0.33112583 0.32847682 0.32450331 0.32317881 0.3200883  0.31699779\n",
      " 0.31390728 0.31258278 0.31125828 0.30860927 0.30860927 0.35225961\n",
      " 0.35050723 0.34978059 0.35019493 0.35169914 0.35414913 0.35735947\n",
      " 0.36114106 0.3653231  0.36976284 0.37434578]\n",
      "11 day output [[0.3789945]]\n",
      "12 day input [0.26357616 0.26092715 0.26225166 0.25960265 0.25960265 0.25960265\n",
      " 0.25960265 0.26225166 0.27284768 0.2807947  0.28509934 0.28940397\n",
      " 0.29370861 0.29801325 0.29933775 0.30463576 0.30331126 0.30198675\n",
      " 0.30596026 0.30993377 0.31390728 0.3192053  0.32317881 0.32582781\n",
      " 0.32847682 0.33200883 0.33554084 0.33907285 0.34304636 0.34966887\n",
      " 0.35231788 0.35364238 0.35717439 0.3607064  0.36423841 0.36556291\n",
      " 0.36423841 0.36556291 0.36688742 0.36732892 0.36777042 0.36821192\n",
      " 0.36821192 0.36821192 0.36556291 0.36953642 0.36865342 0.36777042\n",
      " 0.36688742 0.3615894  0.3615894  0.3589404  0.35629139 0.35452539\n",
      " 0.35275938 0.35099338 0.34966887 0.34701987 0.34304636 0.34072848\n",
      " 0.3384106  0.33609272 0.33377483 0.33377483 0.32980132 0.32847682\n",
      " 0.32847682 0.33200883 0.33554084 0.33907285 0.33774834 0.33774834\n",
      " 0.33774834 0.33642384 0.33554084 0.33465784 0.33377483 0.33112583\n",
      " 0.32847682 0.32450331 0.32317881 0.3200883  0.31699779 0.31390728\n",
      " 0.31258278 0.31125828 0.30860927 0.30860927 0.35225961 0.35050723\n",
      " 0.34978059 0.35019493 0.35169914 0.35414913 0.35735947 0.36114106\n",
      " 0.3653231  0.36976284 0.37434578 0.37899449]\n",
      "12 day output [[0.3836579]]\n",
      "13 day input [0.26092715 0.26225166 0.25960265 0.25960265 0.25960265 0.25960265\n",
      " 0.26225166 0.27284768 0.2807947  0.28509934 0.28940397 0.29370861\n",
      " 0.29801325 0.29933775 0.30463576 0.30331126 0.30198675 0.30596026\n",
      " 0.30993377 0.31390728 0.3192053  0.32317881 0.32582781 0.32847682\n",
      " 0.33200883 0.33554084 0.33907285 0.34304636 0.34966887 0.35231788\n",
      " 0.35364238 0.35717439 0.3607064  0.36423841 0.36556291 0.36423841\n",
      " 0.36556291 0.36688742 0.36732892 0.36777042 0.36821192 0.36821192\n",
      " 0.36821192 0.36556291 0.36953642 0.36865342 0.36777042 0.36688742\n",
      " 0.3615894  0.3615894  0.3589404  0.35629139 0.35452539 0.35275938\n",
      " 0.35099338 0.34966887 0.34701987 0.34304636 0.34072848 0.3384106\n",
      " 0.33609272 0.33377483 0.33377483 0.32980132 0.32847682 0.32847682\n",
      " 0.33200883 0.33554084 0.33907285 0.33774834 0.33774834 0.33774834\n",
      " 0.33642384 0.33554084 0.33465784 0.33377483 0.33112583 0.32847682\n",
      " 0.32450331 0.32317881 0.3200883  0.31699779 0.31390728 0.31258278\n",
      " 0.31125828 0.30860927 0.30860927 0.35225961 0.35050723 0.34978059\n",
      " 0.35019493 0.35169914 0.35414913 0.35735947 0.36114106 0.3653231\n",
      " 0.36976284 0.37434578 0.37899449 0.3836579 ]\n",
      "13 day output [[0.38830414]]\n",
      "14 day input [0.26225166 0.25960265 0.25960265 0.25960265 0.25960265 0.26225166\n",
      " 0.27284768 0.2807947  0.28509934 0.28940397 0.29370861 0.29801325\n",
      " 0.29933775 0.30463576 0.30331126 0.30198675 0.30596026 0.30993377\n",
      " 0.31390728 0.3192053  0.32317881 0.32582781 0.32847682 0.33200883\n",
      " 0.33554084 0.33907285 0.34304636 0.34966887 0.35231788 0.35364238\n",
      " 0.35717439 0.3607064  0.36423841 0.36556291 0.36423841 0.36556291\n",
      " 0.36688742 0.36732892 0.36777042 0.36821192 0.36821192 0.36821192\n",
      " 0.36556291 0.36953642 0.36865342 0.36777042 0.36688742 0.3615894\n",
      " 0.3615894  0.3589404  0.35629139 0.35452539 0.35275938 0.35099338\n",
      " 0.34966887 0.34701987 0.34304636 0.34072848 0.3384106  0.33609272\n",
      " 0.33377483 0.33377483 0.32980132 0.32847682 0.32847682 0.33200883\n",
      " 0.33554084 0.33907285 0.33774834 0.33774834 0.33774834 0.33642384\n",
      " 0.33554084 0.33465784 0.33377483 0.33112583 0.32847682 0.32450331\n",
      " 0.32317881 0.3200883  0.31699779 0.31390728 0.31258278 0.31125828\n",
      " 0.30860927 0.30860927 0.35225961 0.35050723 0.34978059 0.35019493\n",
      " 0.35169914 0.35414913 0.35735947 0.36114106 0.3653231  0.36976284\n",
      " 0.37434578 0.37899449 0.3836579  0.38830414]\n",
      "14 day output [[0.39291334]]\n",
      "15 day input [0.25960265 0.25960265 0.25960265 0.25960265 0.26225166 0.27284768\n",
      " 0.2807947  0.28509934 0.28940397 0.29370861 0.29801325 0.29933775\n",
      " 0.30463576 0.30331126 0.30198675 0.30596026 0.30993377 0.31390728\n",
      " 0.3192053  0.32317881 0.32582781 0.32847682 0.33200883 0.33554084\n",
      " 0.33907285 0.34304636 0.34966887 0.35231788 0.35364238 0.35717439\n",
      " 0.3607064  0.36423841 0.36556291 0.36423841 0.36556291 0.36688742\n",
      " 0.36732892 0.36777042 0.36821192 0.36821192 0.36821192 0.36556291\n",
      " 0.36953642 0.36865342 0.36777042 0.36688742 0.3615894  0.3615894\n",
      " 0.3589404  0.35629139 0.35452539 0.35275938 0.35099338 0.34966887\n",
      " 0.34701987 0.34304636 0.34072848 0.3384106  0.33609272 0.33377483\n",
      " 0.33377483 0.32980132 0.32847682 0.32847682 0.33200883 0.33554084\n",
      " 0.33907285 0.33774834 0.33774834 0.33774834 0.33642384 0.33554084\n",
      " 0.33465784 0.33377483 0.33112583 0.32847682 0.32450331 0.32317881\n",
      " 0.3200883  0.31699779 0.31390728 0.31258278 0.31125828 0.30860927\n",
      " 0.30860927 0.35225961 0.35050723 0.34978059 0.35019493 0.35169914\n",
      " 0.35414913 0.35735947 0.36114106 0.3653231  0.36976284 0.37434578\n",
      " 0.37899449 0.3836579  0.38830414 0.39291334]\n",
      "15 day output [[0.39747742]]\n",
      "16 day input [0.25960265 0.25960265 0.25960265 0.26225166 0.27284768 0.2807947\n",
      " 0.28509934 0.28940397 0.29370861 0.29801325 0.29933775 0.30463576\n",
      " 0.30331126 0.30198675 0.30596026 0.30993377 0.31390728 0.3192053\n",
      " 0.32317881 0.32582781 0.32847682 0.33200883 0.33554084 0.33907285\n",
      " 0.34304636 0.34966887 0.35231788 0.35364238 0.35717439 0.3607064\n",
      " 0.36423841 0.36556291 0.36423841 0.36556291 0.36688742 0.36732892\n",
      " 0.36777042 0.36821192 0.36821192 0.36821192 0.36556291 0.36953642\n",
      " 0.36865342 0.36777042 0.36688742 0.3615894  0.3615894  0.3589404\n",
      " 0.35629139 0.35452539 0.35275938 0.35099338 0.34966887 0.34701987\n",
      " 0.34304636 0.34072848 0.3384106  0.33609272 0.33377483 0.33377483\n",
      " 0.32980132 0.32847682 0.32847682 0.33200883 0.33554084 0.33907285\n",
      " 0.33774834 0.33774834 0.33774834 0.33642384 0.33554084 0.33465784\n",
      " 0.33377483 0.33112583 0.32847682 0.32450331 0.32317881 0.3200883\n",
      " 0.31699779 0.31390728 0.31258278 0.31125828 0.30860927 0.30860927\n",
      " 0.35225961 0.35050723 0.34978059 0.35019493 0.35169914 0.35414913\n",
      " 0.35735947 0.36114106 0.3653231  0.36976284 0.37434578 0.37899449\n",
      " 0.3836579  0.38830414 0.39291334 0.39747742]\n"
     ]
    },
    {
     "name": "stdout",
     "output_type": "stream",
     "text": [
      "16 day output [[0.4019935]]\n",
      "17 day input [0.25960265 0.25960265 0.26225166 0.27284768 0.2807947  0.28509934\n",
      " 0.28940397 0.29370861 0.29801325 0.29933775 0.30463576 0.30331126\n",
      " 0.30198675 0.30596026 0.30993377 0.31390728 0.3192053  0.32317881\n",
      " 0.32582781 0.32847682 0.33200883 0.33554084 0.33907285 0.34304636\n",
      " 0.34966887 0.35231788 0.35364238 0.35717439 0.3607064  0.36423841\n",
      " 0.36556291 0.36423841 0.36556291 0.36688742 0.36732892 0.36777042\n",
      " 0.36821192 0.36821192 0.36821192 0.36556291 0.36953642 0.36865342\n",
      " 0.36777042 0.36688742 0.3615894  0.3615894  0.3589404  0.35629139\n",
      " 0.35452539 0.35275938 0.35099338 0.34966887 0.34701987 0.34304636\n",
      " 0.34072848 0.3384106  0.33609272 0.33377483 0.33377483 0.32980132\n",
      " 0.32847682 0.32847682 0.33200883 0.33554084 0.33907285 0.33774834\n",
      " 0.33774834 0.33774834 0.33642384 0.33554084 0.33465784 0.33377483\n",
      " 0.33112583 0.32847682 0.32450331 0.32317881 0.3200883  0.31699779\n",
      " 0.31390728 0.31258278 0.31125828 0.30860927 0.30860927 0.35225961\n",
      " 0.35050723 0.34978059 0.35019493 0.35169914 0.35414913 0.35735947\n",
      " 0.36114106 0.3653231  0.36976284 0.37434578 0.37899449 0.3836579\n",
      " 0.38830414 0.39291334 0.39747742 0.40199351]\n",
      "17 day output [[0.4064619]]\n",
      "18 day input [0.25960265 0.26225166 0.27284768 0.2807947  0.28509934 0.28940397\n",
      " 0.29370861 0.29801325 0.29933775 0.30463576 0.30331126 0.30198675\n",
      " 0.30596026 0.30993377 0.31390728 0.3192053  0.32317881 0.32582781\n",
      " 0.32847682 0.33200883 0.33554084 0.33907285 0.34304636 0.34966887\n",
      " 0.35231788 0.35364238 0.35717439 0.3607064  0.36423841 0.36556291\n",
      " 0.36423841 0.36556291 0.36688742 0.36732892 0.36777042 0.36821192\n",
      " 0.36821192 0.36821192 0.36556291 0.36953642 0.36865342 0.36777042\n",
      " 0.36688742 0.3615894  0.3615894  0.3589404  0.35629139 0.35452539\n",
      " 0.35275938 0.35099338 0.34966887 0.34701987 0.34304636 0.34072848\n",
      " 0.3384106  0.33609272 0.33377483 0.33377483 0.32980132 0.32847682\n",
      " 0.32847682 0.33200883 0.33554084 0.33907285 0.33774834 0.33774834\n",
      " 0.33774834 0.33642384 0.33554084 0.33465784 0.33377483 0.33112583\n",
      " 0.32847682 0.32450331 0.32317881 0.3200883  0.31699779 0.31390728\n",
      " 0.31258278 0.31125828 0.30860927 0.30860927 0.35225961 0.35050723\n",
      " 0.34978059 0.35019493 0.35169914 0.35414913 0.35735947 0.36114106\n",
      " 0.3653231  0.36976284 0.37434578 0.37899449 0.3836579  0.38830414\n",
      " 0.39291334 0.39747742 0.40199351 0.40646189]\n",
      "18 day output [[0.41088247]]\n",
      "19 day input [0.26225166 0.27284768 0.2807947  0.28509934 0.28940397 0.29370861\n",
      " 0.29801325 0.29933775 0.30463576 0.30331126 0.30198675 0.30596026\n",
      " 0.30993377 0.31390728 0.3192053  0.32317881 0.32582781 0.32847682\n",
      " 0.33200883 0.33554084 0.33907285 0.34304636 0.34966887 0.35231788\n",
      " 0.35364238 0.35717439 0.3607064  0.36423841 0.36556291 0.36423841\n",
      " 0.36556291 0.36688742 0.36732892 0.36777042 0.36821192 0.36821192\n",
      " 0.36821192 0.36556291 0.36953642 0.36865342 0.36777042 0.36688742\n",
      " 0.3615894  0.3615894  0.3589404  0.35629139 0.35452539 0.35275938\n",
      " 0.35099338 0.34966887 0.34701987 0.34304636 0.34072848 0.3384106\n",
      " 0.33609272 0.33377483 0.33377483 0.32980132 0.32847682 0.32847682\n",
      " 0.33200883 0.33554084 0.33907285 0.33774834 0.33774834 0.33774834\n",
      " 0.33642384 0.33554084 0.33465784 0.33377483 0.33112583 0.32847682\n",
      " 0.32450331 0.32317881 0.3200883  0.31699779 0.31390728 0.31258278\n",
      " 0.31125828 0.30860927 0.30860927 0.35225961 0.35050723 0.34978059\n",
      " 0.35019493 0.35169914 0.35414913 0.35735947 0.36114106 0.3653231\n",
      " 0.36976284 0.37434578 0.37899449 0.3836579  0.38830414 0.39291334\n",
      " 0.39747742 0.40199351 0.40646189 0.41088247]\n",
      "19 day output [[0.41525427]]\n",
      "20 day input [0.27284768 0.2807947  0.28509934 0.28940397 0.29370861 0.29801325\n",
      " 0.29933775 0.30463576 0.30331126 0.30198675 0.30596026 0.30993377\n",
      " 0.31390728 0.3192053  0.32317881 0.32582781 0.32847682 0.33200883\n",
      " 0.33554084 0.33907285 0.34304636 0.34966887 0.35231788 0.35364238\n",
      " 0.35717439 0.3607064  0.36423841 0.36556291 0.36423841 0.36556291\n",
      " 0.36688742 0.36732892 0.36777042 0.36821192 0.36821192 0.36821192\n",
      " 0.36556291 0.36953642 0.36865342 0.36777042 0.36688742 0.3615894\n",
      " 0.3615894  0.3589404  0.35629139 0.35452539 0.35275938 0.35099338\n",
      " 0.34966887 0.34701987 0.34304636 0.34072848 0.3384106  0.33609272\n",
      " 0.33377483 0.33377483 0.32980132 0.32847682 0.32847682 0.33200883\n",
      " 0.33554084 0.33907285 0.33774834 0.33774834 0.33774834 0.33642384\n",
      " 0.33554084 0.33465784 0.33377483 0.33112583 0.32847682 0.32450331\n",
      " 0.32317881 0.3200883  0.31699779 0.31390728 0.31258278 0.31125828\n",
      " 0.30860927 0.30860927 0.35225961 0.35050723 0.34978059 0.35019493\n",
      " 0.35169914 0.35414913 0.35735947 0.36114106 0.3653231  0.36976284\n",
      " 0.37434578 0.37899449 0.3836579  0.38830414 0.39291334 0.39747742\n",
      " 0.40199351 0.40646189 0.41088247 0.41525427]\n",
      "20 day output [[0.419576]]\n",
      "21 day input [0.2807947  0.28509934 0.28940397 0.29370861 0.29801325 0.29933775\n",
      " 0.30463576 0.30331126 0.30198675 0.30596026 0.30993377 0.31390728\n",
      " 0.3192053  0.32317881 0.32582781 0.32847682 0.33200883 0.33554084\n",
      " 0.33907285 0.34304636 0.34966887 0.35231788 0.35364238 0.35717439\n",
      " 0.3607064  0.36423841 0.36556291 0.36423841 0.36556291 0.36688742\n",
      " 0.36732892 0.36777042 0.36821192 0.36821192 0.36821192 0.36556291\n",
      " 0.36953642 0.36865342 0.36777042 0.36688742 0.3615894  0.3615894\n",
      " 0.3589404  0.35629139 0.35452539 0.35275938 0.35099338 0.34966887\n",
      " 0.34701987 0.34304636 0.34072848 0.3384106  0.33609272 0.33377483\n",
      " 0.33377483 0.32980132 0.32847682 0.32847682 0.33200883 0.33554084\n",
      " 0.33907285 0.33774834 0.33774834 0.33774834 0.33642384 0.33554084\n",
      " 0.33465784 0.33377483 0.33112583 0.32847682 0.32450331 0.32317881\n",
      " 0.3200883  0.31699779 0.31390728 0.31258278 0.31125828 0.30860927\n",
      " 0.30860927 0.35225961 0.35050723 0.34978059 0.35019493 0.35169914\n",
      " 0.35414913 0.35735947 0.36114106 0.3653231  0.36976284 0.37434578\n",
      " 0.37899449 0.3836579  0.38830414 0.39291334 0.39747742 0.40199351\n",
      " 0.40646189 0.41088247 0.41525427 0.41957599]\n",
      "21 day output [[0.4238481]]\n",
      "22 day input [0.28509934 0.28940397 0.29370861 0.29801325 0.29933775 0.30463576\n",
      " 0.30331126 0.30198675 0.30596026 0.30993377 0.31390728 0.3192053\n",
      " 0.32317881 0.32582781 0.32847682 0.33200883 0.33554084 0.33907285\n",
      " 0.34304636 0.34966887 0.35231788 0.35364238 0.35717439 0.3607064\n",
      " 0.36423841 0.36556291 0.36423841 0.36556291 0.36688742 0.36732892\n",
      " 0.36777042 0.36821192 0.36821192 0.36821192 0.36556291 0.36953642\n",
      " 0.36865342 0.36777042 0.36688742 0.3615894  0.3615894  0.3589404\n",
      " 0.35629139 0.35452539 0.35275938 0.35099338 0.34966887 0.34701987\n",
      " 0.34304636 0.34072848 0.3384106  0.33609272 0.33377483 0.33377483\n",
      " 0.32980132 0.32847682 0.32847682 0.33200883 0.33554084 0.33907285\n",
      " 0.33774834 0.33774834 0.33774834 0.33642384 0.33554084 0.33465784\n",
      " 0.33377483 0.33112583 0.32847682 0.32450331 0.32317881 0.3200883\n",
      " 0.31699779 0.31390728 0.31258278 0.31125828 0.30860927 0.30860927\n",
      " 0.35225961 0.35050723 0.34978059 0.35019493 0.35169914 0.35414913\n",
      " 0.35735947 0.36114106 0.3653231  0.36976284 0.37434578 0.37899449\n",
      " 0.3836579  0.38830414 0.39291334 0.39747742 0.40199351 0.40646189\n",
      " 0.41088247 0.41525427 0.41957599 0.42384809]\n",
      "22 day output [[0.42807057]]\n",
      "23 day input [0.28940397 0.29370861 0.29801325 0.29933775 0.30463576 0.30331126\n",
      " 0.30198675 0.30596026 0.30993377 0.31390728 0.3192053  0.32317881\n",
      " 0.32582781 0.32847682 0.33200883 0.33554084 0.33907285 0.34304636\n",
      " 0.34966887 0.35231788 0.35364238 0.35717439 0.3607064  0.36423841\n",
      " 0.36556291 0.36423841 0.36556291 0.36688742 0.36732892 0.36777042\n",
      " 0.36821192 0.36821192 0.36821192 0.36556291 0.36953642 0.36865342\n",
      " 0.36777042 0.36688742 0.3615894  0.3615894  0.3589404  0.35629139\n",
      " 0.35452539 0.35275938 0.35099338 0.34966887 0.34701987 0.34304636\n",
      " 0.34072848 0.3384106  0.33609272 0.33377483 0.33377483 0.32980132\n",
      " 0.32847682 0.32847682 0.33200883 0.33554084 0.33907285 0.33774834\n",
      " 0.33774834 0.33774834 0.33642384 0.33554084 0.33465784 0.33377483\n",
      " 0.33112583 0.32847682 0.32450331 0.32317881 0.3200883  0.31699779\n",
      " 0.31390728 0.31258278 0.31125828 0.30860927 0.30860927 0.35225961\n",
      " 0.35050723 0.34978059 0.35019493 0.35169914 0.35414913 0.35735947\n",
      " 0.36114106 0.3653231  0.36976284 0.37434578 0.37899449 0.3836579\n",
      " 0.38830414 0.39291334 0.39747742 0.40199351 0.40646189 0.41088247\n",
      " 0.41525427 0.41957599 0.42384809 0.42807057]\n",
      "23 day output [[0.432243]]\n",
      "24 day input [0.29370861 0.29801325 0.29933775 0.30463576 0.30331126 0.30198675\n",
      " 0.30596026 0.30993377 0.31390728 0.3192053  0.32317881 0.32582781\n",
      " 0.32847682 0.33200883 0.33554084 0.33907285 0.34304636 0.34966887\n",
      " 0.35231788 0.35364238 0.35717439 0.3607064  0.36423841 0.36556291\n",
      " 0.36423841 0.36556291 0.36688742 0.36732892 0.36777042 0.36821192\n",
      " 0.36821192 0.36821192 0.36556291 0.36953642 0.36865342 0.36777042\n",
      " 0.36688742 0.3615894  0.3615894  0.3589404  0.35629139 0.35452539\n",
      " 0.35275938 0.35099338 0.34966887 0.34701987 0.34304636 0.34072848\n",
      " 0.3384106  0.33609272 0.33377483 0.33377483 0.32980132 0.32847682\n",
      " 0.32847682 0.33200883 0.33554084 0.33907285 0.33774834 0.33774834\n",
      " 0.33774834 0.33642384 0.33554084 0.33465784 0.33377483 0.33112583\n",
      " 0.32847682 0.32450331 0.32317881 0.3200883  0.31699779 0.31390728\n",
      " 0.31258278 0.31125828 0.30860927 0.30860927 0.35225961 0.35050723\n",
      " 0.34978059 0.35019493 0.35169914 0.35414913 0.35735947 0.36114106\n",
      " 0.3653231  0.36976284 0.37434578 0.37899449 0.3836579  0.38830414\n",
      " 0.39291334 0.39747742 0.40199351 0.40646189 0.41088247 0.41525427\n",
      " 0.41957599 0.42384809 0.42807057 0.43224299]\n"
     ]
    },
    {
     "name": "stdout",
     "output_type": "stream",
     "text": [
      "24 day output [[0.4363649]]\n",
      "25 day input [0.29801325 0.29933775 0.30463576 0.30331126 0.30198675 0.30596026\n",
      " 0.30993377 0.31390728 0.3192053  0.32317881 0.32582781 0.32847682\n",
      " 0.33200883 0.33554084 0.33907285 0.34304636 0.34966887 0.35231788\n",
      " 0.35364238 0.35717439 0.3607064  0.36423841 0.36556291 0.36423841\n",
      " 0.36556291 0.36688742 0.36732892 0.36777042 0.36821192 0.36821192\n",
      " 0.36821192 0.36556291 0.36953642 0.36865342 0.36777042 0.36688742\n",
      " 0.3615894  0.3615894  0.3589404  0.35629139 0.35452539 0.35275938\n",
      " 0.35099338 0.34966887 0.34701987 0.34304636 0.34072848 0.3384106\n",
      " 0.33609272 0.33377483 0.33377483 0.32980132 0.32847682 0.32847682\n",
      " 0.33200883 0.33554084 0.33907285 0.33774834 0.33774834 0.33774834\n",
      " 0.33642384 0.33554084 0.33465784 0.33377483 0.33112583 0.32847682\n",
      " 0.32450331 0.32317881 0.3200883  0.31699779 0.31390728 0.31258278\n",
      " 0.31125828 0.30860927 0.30860927 0.35225961 0.35050723 0.34978059\n",
      " 0.35019493 0.35169914 0.35414913 0.35735947 0.36114106 0.3653231\n",
      " 0.36976284 0.37434578 0.37899449 0.3836579  0.38830414 0.39291334\n",
      " 0.39747742 0.40199351 0.40646189 0.41088247 0.41525427 0.41957599\n",
      " 0.42384809 0.42807057 0.43224299 0.43636489]\n",
      "25 day output [[0.44043574]]\n",
      "26 day input [0.29933775 0.30463576 0.30331126 0.30198675 0.30596026 0.30993377\n",
      " 0.31390728 0.3192053  0.32317881 0.32582781 0.32847682 0.33200883\n",
      " 0.33554084 0.33907285 0.34304636 0.34966887 0.35231788 0.35364238\n",
      " 0.35717439 0.3607064  0.36423841 0.36556291 0.36423841 0.36556291\n",
      " 0.36688742 0.36732892 0.36777042 0.36821192 0.36821192 0.36821192\n",
      " 0.36556291 0.36953642 0.36865342 0.36777042 0.36688742 0.3615894\n",
      " 0.3615894  0.3589404  0.35629139 0.35452539 0.35275938 0.35099338\n",
      " 0.34966887 0.34701987 0.34304636 0.34072848 0.3384106  0.33609272\n",
      " 0.33377483 0.33377483 0.32980132 0.32847682 0.32847682 0.33200883\n",
      " 0.33554084 0.33907285 0.33774834 0.33774834 0.33774834 0.33642384\n",
      " 0.33554084 0.33465784 0.33377483 0.33112583 0.32847682 0.32450331\n",
      " 0.32317881 0.3200883  0.31699779 0.31390728 0.31258278 0.31125828\n",
      " 0.30860927 0.30860927 0.35225961 0.35050723 0.34978059 0.35019493\n",
      " 0.35169914 0.35414913 0.35735947 0.36114106 0.3653231  0.36976284\n",
      " 0.37434578 0.37899449 0.3836579  0.38830414 0.39291334 0.39747742\n",
      " 0.40199351 0.40646189 0.41088247 0.41525427 0.41957599 0.42384809\n",
      " 0.42807057 0.43224299 0.43636489 0.44043574]\n",
      "26 day output [[0.4444538]]\n",
      "27 day input [0.30463576 0.30331126 0.30198675 0.30596026 0.30993377 0.31390728\n",
      " 0.3192053  0.32317881 0.32582781 0.32847682 0.33200883 0.33554084\n",
      " 0.33907285 0.34304636 0.34966887 0.35231788 0.35364238 0.35717439\n",
      " 0.3607064  0.36423841 0.36556291 0.36423841 0.36556291 0.36688742\n",
      " 0.36732892 0.36777042 0.36821192 0.36821192 0.36821192 0.36556291\n",
      " 0.36953642 0.36865342 0.36777042 0.36688742 0.3615894  0.3615894\n",
      " 0.3589404  0.35629139 0.35452539 0.35275938 0.35099338 0.34966887\n",
      " 0.34701987 0.34304636 0.34072848 0.3384106  0.33609272 0.33377483\n",
      " 0.33377483 0.32980132 0.32847682 0.32847682 0.33200883 0.33554084\n",
      " 0.33907285 0.33774834 0.33774834 0.33774834 0.33642384 0.33554084\n",
      " 0.33465784 0.33377483 0.33112583 0.32847682 0.32450331 0.32317881\n",
      " 0.3200883  0.31699779 0.31390728 0.31258278 0.31125828 0.30860927\n",
      " 0.30860927 0.35225961 0.35050723 0.34978059 0.35019493 0.35169914\n",
      " 0.35414913 0.35735947 0.36114106 0.3653231  0.36976284 0.37434578\n",
      " 0.37899449 0.3836579  0.38830414 0.39291334 0.39747742 0.40199351\n",
      " 0.40646189 0.41088247 0.41525427 0.41957599 0.42384809 0.42807057\n",
      " 0.43224299 0.43636489 0.44043574 0.44445381]\n",
      "27 day output [[0.44841814]]\n",
      "28 day input [0.30331126 0.30198675 0.30596026 0.30993377 0.31390728 0.3192053\n",
      " 0.32317881 0.32582781 0.32847682 0.33200883 0.33554084 0.33907285\n",
      " 0.34304636 0.34966887 0.35231788 0.35364238 0.35717439 0.3607064\n",
      " 0.36423841 0.36556291 0.36423841 0.36556291 0.36688742 0.36732892\n",
      " 0.36777042 0.36821192 0.36821192 0.36821192 0.36556291 0.36953642\n",
      " 0.36865342 0.36777042 0.36688742 0.3615894  0.3615894  0.3589404\n",
      " 0.35629139 0.35452539 0.35275938 0.35099338 0.34966887 0.34701987\n",
      " 0.34304636 0.34072848 0.3384106  0.33609272 0.33377483 0.33377483\n",
      " 0.32980132 0.32847682 0.32847682 0.33200883 0.33554084 0.33907285\n",
      " 0.33774834 0.33774834 0.33774834 0.33642384 0.33554084 0.33465784\n",
      " 0.33377483 0.33112583 0.32847682 0.32450331 0.32317881 0.3200883\n",
      " 0.31699779 0.31390728 0.31258278 0.31125828 0.30860927 0.30860927\n",
      " 0.35225961 0.35050723 0.34978059 0.35019493 0.35169914 0.35414913\n",
      " 0.35735947 0.36114106 0.3653231  0.36976284 0.37434578 0.37899449\n",
      " 0.3836579  0.38830414 0.39291334 0.39747742 0.40199351 0.40646189\n",
      " 0.41088247 0.41525427 0.41957599 0.42384809 0.42807057 0.43224299\n",
      " 0.43636489 0.44043574 0.44445381 0.44841814]\n",
      "28 day output [[0.45232862]]\n",
      "29 day input [0.30198675 0.30596026 0.30993377 0.31390728 0.3192053  0.32317881\n",
      " 0.32582781 0.32847682 0.33200883 0.33554084 0.33907285 0.34304636\n",
      " 0.34966887 0.35231788 0.35364238 0.35717439 0.3607064  0.36423841\n",
      " 0.36556291 0.36423841 0.36556291 0.36688742 0.36732892 0.36777042\n",
      " 0.36821192 0.36821192 0.36821192 0.36556291 0.36953642 0.36865342\n",
      " 0.36777042 0.36688742 0.3615894  0.3615894  0.3589404  0.35629139\n",
      " 0.35452539 0.35275938 0.35099338 0.34966887 0.34701987 0.34304636\n",
      " 0.34072848 0.3384106  0.33609272 0.33377483 0.33377483 0.32980132\n",
      " 0.32847682 0.32847682 0.33200883 0.33554084 0.33907285 0.33774834\n",
      " 0.33774834 0.33774834 0.33642384 0.33554084 0.33465784 0.33377483\n",
      " 0.33112583 0.32847682 0.32450331 0.32317881 0.3200883  0.31699779\n",
      " 0.31390728 0.31258278 0.31125828 0.30860927 0.30860927 0.35225961\n",
      " 0.35050723 0.34978059 0.35019493 0.35169914 0.35414913 0.35735947\n",
      " 0.36114106 0.3653231  0.36976284 0.37434578 0.37899449 0.3836579\n",
      " 0.38830414 0.39291334 0.39747742 0.40199351 0.40646189 0.41088247\n",
      " 0.41525427 0.41957599 0.42384809 0.42807057 0.43224299 0.43636489\n",
      " 0.44043574 0.44445381 0.44841814 0.45232862]\n",
      "29 day output [[0.45618406]]\n",
      "[[0.3522596061229706], [0.3505072295665741], [0.3497805893421173], [0.35019493103027344], [0.3516991436481476], [0.35414913296699524], [0.35735946893692017], [0.36114105582237244], [0.36532309651374817], [0.3697628378868103], [0.3743457794189453], [0.37899449467658997], [0.38365790247917175], [0.3883041441440582], [0.3929133415222168], [0.3974774181842804], [0.4019935131072998], [0.4064618945121765], [0.41088247299194336], [0.41525426506996155], [0.4195759892463684], [0.42384809255599976], [0.4280705749988556], [0.4322429895401001], [0.43636488914489746], [0.4404357373714447], [0.44445380568504333], [0.44841814041137695], [0.452328622341156], [0.456184059381485]]\n"
     ]
    }
   ],
   "source": [
    "# demonstrate prediction for next 30 days\n",
    "from numpy import array\n",
    "\n",
    "lst_output=[]\n",
    "n_steps=100\n",
    "i=0\n",
    "while(i<30):\n",
    "    \n",
    "    if(len(temp_input)>100):\n",
    "        #print(temp_input)\n",
    "        x_input=np.array(temp_input[1:])\n",
    "        print(\"{} day input {}\".format(i,x_input))\n",
    "        x_input=x_input.reshape(1,-1)\n",
    "        x_input = x_input.reshape((1, n_steps, 1))\n",
    "        #print(x_input)\n",
    "        yhat = model.predict(x_input, verbose=0)\n",
    "        print(\"{} day output {}\".format(i,yhat))\n",
    "        temp_input.extend(yhat[0].tolist())\n",
    "        temp_input=temp_input[1:]\n",
    "        #print(temp_input)\n",
    "        lst_output.extend(yhat.tolist())\n",
    "        i=i+1\n",
    "    else:\n",
    "        x_input = x_input.reshape((1, n_steps,1))\n",
    "        yhat = model.predict(x_input, verbose=0)\n",
    "        print(yhat[0])\n",
    "        temp_input.extend(yhat[0].tolist())\n",
    "        print(len(temp_input))\n",
    "        lst_output.extend(yhat.tolist())\n",
    "        i=i+1\n",
    "    \n",
    "\n",
    "print(lst_output)"
   ]
  },
  {
   "cell_type": "code",
   "execution_count": 63,
   "metadata": {},
   "outputs": [],
   "source": [
    "day_new=np.arange(1,101)\n",
    "day_pred=np.arange(101,131)"
   ]
  },
  {
   "cell_type": "code",
   "execution_count": 64,
   "metadata": {},
   "outputs": [],
   "source": [
    "import matplotlib.pyplot as plt"
   ]
  },
  {
   "cell_type": "code",
   "execution_count": 65,
   "metadata": {},
   "outputs": [
    {
     "data": {
      "text/plain": [
       "1370"
      ]
     },
     "execution_count": 65,
     "metadata": {},
     "output_type": "execute_result"
    }
   ],
   "source": [
    "len(df1)"
   ]
  },
  {
   "cell_type": "code",
   "execution_count": 66,
   "metadata": {},
   "outputs": [
    {
     "data": {
      "text/plain": [
       "[<matplotlib.lines.Line2D at 0x2e8e21cb460>]"
      ]
     },
     "execution_count": 66,
     "metadata": {},
     "output_type": "execute_result"
    },
    {
     "data": {
      "image/png": "[encoded data removed]",
      "text/plain": [
       "<Figure size 432x288 with 1 Axes>"
      ]
     },
     "metadata": {
      "needs_background": "light"
     },
     "output_type": "display_data"
    }
   ],
   "source": [
    "plt.plot(day_new,scaler.inverse_transform(df1[1270:]))\n",
    "plt.plot(day_pred,scaler.inverse_transform(lst_output))"
   ]
  },
  {
   "cell_type": "code",
   "execution_count": 67,
   "metadata": {},
   "outputs": [
    {
     "data": {
      "text/plain": [
       "[<matplotlib.lines.Line2D at 0x2e8e1fb8be0>]"
      ]
     },
     "execution_count": 67,
     "metadata": {},
     "output_type": "execute_result"
    },
    {
     "data": {
      "image/png": "[encoded data removed]",
      "text/plain": [
       "<Figure size 432x288 with 1 Axes>"
      ]
     },
     "metadata": {
      "needs_background": "light"
     },
     "output_type": "display_data"
    }
   ],
   "source": [
    "df3=df1.tolist()\n",
    "df3.extend(lst_output)\n",
    "plt.plot(df3[1200:])"
   ]
  },
  {
   "cell_type": "code",
   "execution_count": 68,
   "metadata": {},
   "outputs": [],
   "source": [
    "df3=scaler.inverse_transform(df3).tolist()"
   ]
  },
  {
   "cell_type": "code",
   "execution_count": 69,
   "metadata": {},
   "outputs": [
    {
     "data": {
      "text/plain": [
       "[<matplotlib.lines.Line2D at 0x2e8e2211580>]"
      ]
     },
     "execution_count": 69,
     "metadata": {},
     "output_type": "execute_result"
    },
    {
     "data": {
      "image/png": "[encoded data removed]",
      "text/plain": [
       "<Figure size 432x288 with 1 Axes>"
      ]
     },
     "metadata": {
      "needs_background": "light"
     },
     "output_type": "display_data"
    }
   ],
   "source": [
    "plt.plot(df3)"
   ]
  },
  {
   "cell_type": "code",
   "execution_count": null,
   "metadata": {},
   "outputs": [],
   "source": []
  }
 ],
 "metadata": {
  "kernelspec": {
   "display_name": "Python 3",
   "language": "python",
   "name": "python3"
  },
  "language_info": {
   "codemirror_mode": {
    "name": "ipython",
    "version": 3
   },
   "file_extension": ".py",
   "mimetype": "text/x-python",
   "name": "python",
   "nbconvert_exporter": "python",
   "pygments_lexer": "ipython3",
   "version": "3.8.6"
  }
 },
 "nbformat": 4,
 "nbformat_minor": 4
}
